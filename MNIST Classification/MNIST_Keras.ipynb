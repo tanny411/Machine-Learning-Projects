{
  "nbformat": 4,
  "nbformat_minor": 0,
  "metadata": {
    "colab": {
      "name": "MNIST Keras.ipynb",
      "provenance": [],
      "collapsed_sections": []
    },
    "kernelspec": {
      "name": "python3",
      "display_name": "Python 3"
    },
    "accelerator": "GPU"
  },
  "cells": [
    {
      "cell_type": "code",
      "metadata": {
        "id": "UzGnsu14j9Ti",
        "colab_type": "code",
        "colab": {}
      },
      "source": [
        "import numpy as np\n",
        "from matplotlib import pyplot as plt\n",
        "from sklearn.model_selection import KFold\n",
        "from keras.datasets import mnist\n",
        "from keras.utils import to_categorical\n",
        "from keras.models import Sequential\n",
        "from keras.layers import Conv2D,MaxPooling2D,Dense,Flatten,Dropout\n",
        "from keras.optimizers import SGD,Adam"
      ],
      "execution_count": 0,
      "outputs": []
    },
    {
      "cell_type": "code",
      "metadata": {
        "id": "DYmu2lMllCcJ",
        "colab_type": "code",
        "colab": {}
      },
      "source": [
        "(trainX, trainy), (testX, testy) = mnist.load_data()"
      ],
      "execution_count": 0,
      "outputs": []
    },
    {
      "cell_type": "code",
      "metadata": {
        "id": "z256VikQvCXB",
        "colab_type": "code",
        "outputId": "65143990-1e20-47e0-fb1c-5fa59ab82b4d",
        "colab": {
          "base_uri": "https://localhost:8080/",
          "height": 267
        }
      },
      "source": [
        "for i in range(9):\n",
        "\tplt.subplot(330 + 1 + i)\n",
        "\tplt.imshow(trainX[i], cmap='gray')\n",
        "plt.show()"
      ],
      "execution_count": 3,
      "outputs": [
        {
          "output_type": "display_data",
          "data": {
            "image/png": "[encoded data removed]",
            "text/plain": [
              "<Figure size 432x288 with 9 Axes>"
            ]
          },
          "metadata": {
            "tags": []
          }
        }
      ]
    },
    {
      "cell_type": "code",
      "metadata": {
        "id": "rQRsVg-4oS34",
        "colab_type": "code",
        "colab": {}
      },
      "source": [
        "## Add color channel\n",
        "trainX = trainX.reshape((trainX.shape[0], 28, 28, 1))\n",
        "testX = testX.reshape((testX.shape[0], 28, 28, 1))"
      ],
      "execution_count": 0,
      "outputs": []
    },
    {
      "cell_type": "code",
      "metadata": {
        "id": "64cmDm8bp1v3",
        "colab_type": "code",
        "colab": {}
      },
      "source": [
        "trainy = to_categorical(trainy)\n",
        "testy = to_categorical(testy)"
      ],
      "execution_count": 0,
      "outputs": []
    },
    {
      "cell_type": "code",
      "metadata": {
        "id": "K9mFG2MQlCYM",
        "colab_type": "code",
        "outputId": "07cf4bef-41f4-4b1f-d649-733292eabcae",
        "colab": {
          "base_uri": "https://localhost:8080/",
          "height": 52
        }
      },
      "source": [
        "print('Train: X=%s, y=%s' % (trainX.shape, trainy.shape))\n",
        "print('Test: X=%s, y=%s' % (testX.shape, testy.shape))"
      ],
      "execution_count": 6,
      "outputs": [
        {
          "output_type": "stream",
          "text": [
            "Train: X=(60000, 28, 28, 1), y=(60000, 10)\n",
            "Test: X=(10000, 28, 28, 1), y=(10000, 10)\n"
          ],
          "name": "stdout"
        }
      ]
    },
    {
      "cell_type": "code",
      "metadata": {
        "id": "jlYXKkGFpzHf",
        "colab_type": "code",
        "colab": {}
      },
      "source": [
        "# convert from integers to floats\n",
        "train_normX = trainX.astype('float32')\n",
        "test_normX = testX.astype('float32')\n",
        "# normalize to range 0-1\n",
        "train_normX = train_normX / 255.0\n",
        "test_normX = test_normX / 255.0"
      ],
      "execution_count": 0,
      "outputs": []
    },
    {
      "cell_type": "code",
      "metadata": {
        "id": "yBpjeRevqzf0",
        "colab_type": "code",
        "colab": {}
      },
      "source": [
        "##Defining Model\n",
        "\n",
        "model = Sequential()\n",
        "\n",
        "model.add(Conv2D(32, (3,3), activation='relu', kernel_initializer='he_uniform', input_shape=(28,28,1)))\n",
        "model.add(Conv2D(64, (3,3), activation='relu', kernel_initializer='he_uniform'))\n",
        "model.add(MaxPooling2D(2,2))\n",
        "model.add(Dropout(0.25))\n",
        "model.add(Flatten())\n",
        "model.add(Dense(100,activation='relu',kernel_initializer='he_uniform'))\n",
        "model.add(Dropout(0.25))\n",
        "model.add(Dense(50,activation='relu',kernel_initializer='he_uniform'))\n",
        "model.add(Dense(10,activation='softmax'))"
      ],
      "execution_count": 0,
      "outputs": []
    },
    {
      "cell_type": "code",
      "metadata": {
        "id": "P0q7I5e4ratY",
        "colab_type": "code",
        "colab": {}
      },
      "source": [
        "opt = Adam(lr=0.001)"
      ],
      "execution_count": 0,
      "outputs": []
    },
    {
      "cell_type": "code",
      "metadata": {
        "id": "aKu0e_jmrarI",
        "colab_type": "code",
        "colab": {}
      },
      "source": [
        "model.compile(optimizer=opt,loss='categorical_crossentropy',metrics=['accuracy'])"
      ],
      "execution_count": 0,
      "outputs": []
    },
    {
      "cell_type": "code",
      "metadata": {
        "id": "usCSlMzgqzdG",
        "colab_type": "code",
        "outputId": "c342a4eb-98dc-401e-a914-3fae7ca2eb13",
        "colab": {
          "base_uri": "https://localhost:8080/",
          "height": 478
        }
      },
      "source": [
        "model.summary()"
      ],
      "execution_count": 46,
      "outputs": [
        {
          "output_type": "stream",
          "text": [
            "Model: \"sequential_4\"\n",
            "_________________________________________________________________\n",
            "Layer (type)                 Output Shape              Param #   \n",
            "=================================================================\n",
            "conv2d_7 (Conv2D)            (None, 26, 26, 32)        320       \n",
            "_________________________________________________________________\n",
            "conv2d_8 (Conv2D)            (None, 24, 24, 64)        18496     \n",
            "_________________________________________________________________\n",
            "max_pooling2d_5 (MaxPooling2 (None, 12, 12, 64)        0         \n",
            "_________________________________________________________________\n",
            "dropout_5 (Dropout)          (None, 12, 12, 64)        0         \n",
            "_________________________________________________________________\n",
            "flatten_4 (Flatten)          (None, 9216)              0         \n",
            "_________________________________________________________________\n",
            "dense_9 (Dense)              (None, 100)               921700    \n",
            "_________________________________________________________________\n",
            "dropout_6 (Dropout)          (None, 100)               0         \n",
            "_________________________________________________________________\n",
            "dense_10 (Dense)             (None, 50)                5050      \n",
            "_________________________________________________________________\n",
            "dense_11 (Dense)             (None, 10)                510       \n",
            "=================================================================\n",
            "Total params: 946,076\n",
            "Trainable params: 946,076\n",
            "Non-trainable params: 0\n",
            "_________________________________________________________________\n"
          ],
          "name": "stdout"
        }
      ]
    },
    {
      "cell_type": "code",
      "metadata": {
        "id": "gPVa4IxME2Df",
        "colab_type": "code",
        "colab": {
          "base_uri": "https://localhost:8080/",
          "height": 34
        },
        "outputId": "fc2d1661-851f-4ca8-cc83-ca92b738b968"
      },
      "source": [
        "from keras import backend as K\n",
        "K.image_data_format()"
      ],
      "execution_count": 47,
      "outputs": [
        {
          "output_type": "execute_result",
          "data": {
            "text/plain": [
              "'channels_last'"
            ]
          },
          "metadata": {
            "tags": []
          },
          "execution_count": 47
        }
      ]
    },
    {
      "cell_type": "code",
      "metadata": {
        "id": "IhBZCVSBrUq9",
        "colab_type": "code",
        "outputId": "8e6e9733-010d-431f-947e-960d4cae44c7",
        "colab": {
          "base_uri": "https://localhost:8080/",
          "height": 390
        }
      },
      "source": [
        "hist = model.fit(train_normX, trainy, epochs = 10, batch_size=64, validation_data=(test_normX,testy))"
      ],
      "execution_count": 48,
      "outputs": [
        {
          "output_type": "stream",
          "text": [
            "Train on 60000 samples, validate on 10000 samples\n",
            "Epoch 1/10\n",
            "60000/60000 [==============================] - 8s 130us/step - loss: 0.2347 - acc: 0.9296 - val_loss: 0.0587 - val_acc: 0.9811\n",
            "Epoch 2/10\n",
            "60000/60000 [==============================] - 7s 118us/step - loss: 0.0791 - acc: 0.9766 - val_loss: 0.0414 - val_acc: 0.9867\n",
            "Epoch 3/10\n",
            "60000/60000 [==============================] - 7s 118us/step - loss: 0.0593 - acc: 0.9824 - val_loss: 0.0413 - val_acc: 0.9870\n",
            "Epoch 4/10\n",
            "60000/60000 [==============================] - 7s 119us/step - loss: 0.0477 - acc: 0.9856 - val_loss: 0.0404 - val_acc: 0.9884\n",
            "Epoch 5/10\n",
            "60000/60000 [==============================] - 7s 119us/step - loss: 0.0386 - acc: 0.9874 - val_loss: 0.0385 - val_acc: 0.9880\n",
            "Epoch 6/10\n",
            "60000/60000 [==============================] - 7s 119us/step - loss: 0.0353 - acc: 0.9885 - val_loss: 0.0392 - val_acc: 0.9889\n",
            "Epoch 7/10\n",
            "60000/60000 [==============================] - 7s 118us/step - loss: 0.0301 - acc: 0.9905 - val_loss: 0.0377 - val_acc: 0.9889\n",
            "Epoch 8/10\n",
            "60000/60000 [==============================] - 7s 118us/step - loss: 0.0256 - acc: 0.9915 - val_loss: 0.0383 - val_acc: 0.9901\n",
            "Epoch 9/10\n",
            "60000/60000 [==============================] - 7s 118us/step - loss: 0.0233 - acc: 0.9926 - val_loss: 0.0403 - val_acc: 0.9901\n",
            "Epoch 10/10\n",
            "60000/60000 [==============================] - 7s 118us/step - loss: 0.0206 - acc: 0.9934 - val_loss: 0.0362 - val_acc: 0.9911\n"
          ],
          "name": "stdout"
        }
      ]
    },
    {
      "cell_type": "code",
      "metadata": {
        "id": "e55wGmDlrwL5",
        "colab_type": "code",
        "colab": {}
      },
      "source": [
        "hist = hist.history"
      ],
      "execution_count": 0,
      "outputs": []
    },
    {
      "cell_type": "code",
      "metadata": {
        "id": "G5wth_rQvqol",
        "colab_type": "code",
        "colab": {
          "base_uri": "https://localhost:8080/",
          "height": 298
        },
        "outputId": "c345f5f5-433d-40ee-c110-710e39e9a9be"
      },
      "source": [
        "# plot loss\n",
        "plt.title('Cross Entropy Loss')\n",
        "plt.plot(hist['loss'], color='blue', label='train')\n",
        "plt.plot(hist['val_loss'], color='orange', label='test')"
      ],
      "execution_count": 50,
      "outputs": [
        {
          "output_type": "execute_result",
          "data": {
            "text/plain": [
              "[<matplotlib.lines.Line2D at 0x7efd95a8c518>]"
            ]
          },
          "metadata": {
            "tags": []
          },
          "execution_count": 50
        },
        {
          "output_type": "display_data",
          "data": {
            "image/png": "[encoded data removed]",
            "text/plain": [
              "<Figure size 432x288 with 1 Axes>"
            ]
          },
          "metadata": {
            "tags": []
          }
        }
      ]
    },
    {
      "cell_type": "code",
      "metadata": {
        "id": "cK33iIY_rndK",
        "colab_type": "code",
        "colab": {
          "base_uri": "https://localhost:8080/",
          "height": 298
        },
        "outputId": "1ec0cc4d-971e-4d23-d249-91c826c49fe5"
      },
      "source": [
        "# plot accuracy\n",
        "plt.title('Classification Accuracy')\n",
        "plt.plot(hist['acc'], color='blue', label='train')\n",
        "plt.plot(hist['val_acc'], color='orange', label='test')"
      ],
      "execution_count": 51,
      "outputs": [
        {
          "output_type": "execute_result",
          "data": {
            "text/plain": [
              "[<matplotlib.lines.Line2D at 0x7efd95a56748>]"
            ]
          },
          "metadata": {
            "tags": []
          },
          "execution_count": 51
        },
        {
          "output_type": "display_data",
          "data": {
            "image/png": "[encoded data removed]",
            "text/plain": [
              "<Figure size 432x288 with 1 Axes>"
            ]
          },
          "metadata": {
            "tags": []
          }
        }
      ]
    },
    {
      "cell_type": "code",
      "metadata": {
        "id": "mGuJTd7jy8yg",
        "colab_type": "code",
        "colab": {}
      },
      "source": [
        "# make a prediction for a new image.\n",
        "from keras.preprocessing.image import load_img\n",
        "from keras.preprocessing.image import img_to_array\n",
        "\n",
        "def load_image(img):\n",
        "\timg = img_to_array(img)\n",
        "\timg = img.reshape(1, 28, 28, 1)\n",
        "\timg = img.astype('float32')\n",
        "\timg = img / 255.0\n",
        "\treturn img\n",
        "\n",
        "def run_example(image_name):\n",
        "\timg = load_image(image_name)\n",
        "\tdigit = model.predict_classes(img)\n",
        "\tprint(digit[0])"
      ],
      "execution_count": 0,
      "outputs": []
    },
    {
      "cell_type": "code",
      "metadata": {
        "id": "tCZvbftmsDZc",
        "colab_type": "code",
        "colab": {}
      },
      "source": [
        "url = 'http://clipart-library.com/img1/188866.png'\n",
        "from matplotlib.image import imread\n",
        "img = imread(url)"
      ],
      "execution_count": 0,
      "outputs": []
    },
    {
      "cell_type": "code",
      "metadata": {
        "id": "p7QCroezuFeF",
        "colab_type": "code",
        "colab": {
          "base_uri": "https://localhost:8080/",
          "height": 286
        },
        "outputId": "87a19334-8b72-4588-a252-2b81c620ddf7"
      },
      "source": [
        "plt.imshow(img)"
      ],
      "execution_count": 54,
      "outputs": [
        {
          "output_type": "execute_result",
          "data": {
            "text/plain": [
              "<matplotlib.image.AxesImage at 0x7efd959c9b00>"
            ]
          },
          "metadata": {
            "tags": []
          },
          "execution_count": 54
        },
        {
          "output_type": "display_data",
          "data": {
            "image/png": "[encoded data removed]",
            "text/plain": [
              "<Figure size 432x288 with 1 Axes>"
            ]
          },
          "metadata": {
            "tags": []
          }
        }
      ]
    },
    {
      "cell_type": "code",
      "metadata": {
        "id": "lXVgBjJAuYXu",
        "colab_type": "code",
        "colab": {
          "base_uri": "https://localhost:8080/",
          "height": 286
        },
        "outputId": "92690cc9-bd66-4bc9-ab04-72df0a790bac"
      },
      "source": [
        "import cv2\n",
        "img = cv2.cvtColor(img, cv2.COLOR_RGB2GRAY)\n",
        "plt.imshow(img,cmap='gray')"
      ],
      "execution_count": 55,
      "outputs": [
        {
          "output_type": "execute_result",
          "data": {
            "text/plain": [
              "<matplotlib.image.AxesImage at 0x7efd959a0f98>"
            ]
          },
          "metadata": {
            "tags": []
          },
          "execution_count": 55
        },
        {
          "output_type": "display_data",
          "data": {
            "image/png": "[encoded data removed]",
            "text/plain": [
              "<Figure size 432x288 with 1 Axes>"
            ]
          },
          "metadata": {
            "tags": []
          }
        }
      ]
    },
    {
      "cell_type": "code",
      "metadata": {
        "id": "qN7y-8efujdL",
        "colab_type": "code",
        "colab": {
          "base_uri": "https://localhost:8080/",
          "height": 282
        },
        "outputId": "710f02eb-1033-4568-de32-970d38d70a9d"
      },
      "source": [
        "img = cv2.resize(img, (28, 28), interpolation = cv2.INTER_AREA)\n",
        "plt.imshow(img,cmap='gray')"
      ],
      "execution_count": 56,
      "outputs": [
        {
          "output_type": "execute_result",
          "data": {
            "text/plain": [
              "<matplotlib.image.AxesImage at 0x7efd95906160>"
            ]
          },
          "metadata": {
            "tags": []
          },
          "execution_count": 56
        },
        {
          "output_type": "display_data",
          "data": {
            "image/png": "[encoded data removed]",
            "text/plain": [
              "<Figure size 432x288 with 1 Axes>"
            ]
          },
          "metadata": {
            "tags": []
          }
        }
      ]
    },
    {
      "cell_type": "code",
      "metadata": {
        "id": "bfDl98qUtsn9",
        "colab_type": "code",
        "colab": {
          "base_uri": "https://localhost:8080/",
          "height": 34
        },
        "outputId": "fb9e73db-1b05-45a3-90e8-acdd49a5a4ad"
      },
      "source": [
        "img.shape"
      ],
      "execution_count": 57,
      "outputs": [
        {
          "output_type": "execute_result",
          "data": {
            "text/plain": [
              "(28, 28)"
            ]
          },
          "metadata": {
            "tags": []
          },
          "execution_count": 57
        }
      ]
    },
    {
      "cell_type": "code",
      "metadata": {
        "id": "d58Fl3UYzMtC",
        "colab_type": "code",
        "colab": {
          "base_uri": "https://localhost:8080/",
          "height": 34
        },
        "outputId": "add0799e-999c-4434-f63c-b0e8aecf1447"
      },
      "source": [
        "run_example(img)"
      ],
      "execution_count": 58,
      "outputs": [
        {
          "output_type": "stream",
          "text": [
            "1\n"
          ],
          "name": "stdout"
        }
      ]
    },
    {
      "cell_type": "markdown",
      "metadata": {
        "id": "6HHoE-ZmFU5M",
        "colab_type": "text"
      },
      "source": [
        "## https://keras.io/examples/mnist_cnn/"
      ]
    },
    {
      "cell_type": "code",
      "metadata": {
        "id": "vdAUxH2jFUEE",
        "colab_type": "code",
        "colab": {
          "base_uri": "https://localhost:8080/",
          "height": 658
        },
        "outputId": "b8838137-2387-420d-85d7-aa1ebaa3c4ed"
      },
      "source": [
        "from __future__ import print_function\n",
        "import keras\n",
        "from keras.datasets import mnist\n",
        "from keras.models import Sequential\n",
        "from keras.layers import Dense, Dropout, Flatten\n",
        "from keras.layers import Conv2D, MaxPooling2D\n",
        "from keras import backend as K\n",
        "\n",
        "batch_size = 128\n",
        "num_classes = 10\n",
        "epochs = 12\n",
        "\n",
        "# input image dimensions\n",
        "img_rows, img_cols = 28, 28\n",
        "\n",
        "# the data, split between train and test sets\n",
        "(x_train, y_train), (x_test, y_test) = mnist.load_data()\n",
        "\n",
        "if K.image_data_format() == 'channels_first':\n",
        "    x_train = x_train.reshape(x_train.shape[0], 1, img_rows, img_cols)\n",
        "    x_test = x_test.reshape(x_test.shape[0], 1, img_rows, img_cols)\n",
        "    input_shape = (1, img_rows, img_cols)\n",
        "else:\n",
        "    x_train = x_train.reshape(x_train.shape[0], img_rows, img_cols, 1)\n",
        "    x_test = x_test.reshape(x_test.shape[0], img_rows, img_cols, 1)\n",
        "    input_shape = (img_rows, img_cols, 1)\n",
        "\n",
        "x_train = x_train.astype('float32')\n",
        "x_test = x_test.astype('float32')\n",
        "x_train /= 255\n",
        "x_test /= 255\n",
        "print('x_train shape:', x_train.shape)\n",
        "print(x_train.shape[0], 'train samples')\n",
        "print(x_test.shape[0], 'test samples')\n",
        "\n",
        "# convert class vectors to binary class matrices\n",
        "y_train = keras.utils.to_categorical(y_train, num_classes)\n",
        "y_test = keras.utils.to_categorical(y_test, num_classes)\n",
        "\n",
        "model = Sequential()\n",
        "model.add(Conv2D(32, kernel_size=(3, 3),\n",
        "                 activation='relu',\n",
        "                 input_shape=input_shape))\n",
        "model.add(Conv2D(64, (3, 3), activation='relu'))\n",
        "model.add(MaxPooling2D(pool_size=(2, 2)))\n",
        "model.add(Dropout(0.25))\n",
        "model.add(Flatten())\n",
        "model.add(Dense(128, activation='relu'))\n",
        "model.add(Dropout(0.5))\n",
        "model.add(Dense(num_classes, activation='softmax'))\n",
        "\n",
        "model.compile(loss=keras.losses.categorical_crossentropy,\n",
        "              optimizer=keras.optimizers.Adadelta(),\n",
        "              metrics=['accuracy'])\n",
        "\n",
        "model.fit(x_train, y_train,\n",
        "          batch_size=batch_size,\n",
        "          epochs=epochs,\n",
        "          verbose=1,\n",
        "          validation_data=(x_test, y_test))\n",
        "score = model.evaluate(x_test, y_test, verbose=0)\n",
        "print('Test loss:', score[0])\n",
        "print('Test accuracy:', score[1])"
      ],
      "execution_count": 24,
      "outputs": [
        {
          "output_type": "stream",
          "text": [
            "x_train shape: (60000, 28, 28, 1)\n",
            "60000 train samples\n",
            "10000 test samples\n",
            "WARNING:tensorflow:From /usr/local/lib/python3.6/dist-packages/keras/backend/tensorflow_backend.py:148: The name tf.placeholder_with_default is deprecated. Please use tf.compat.v1.placeholder_with_default instead.\n",
            "\n",
            "WARNING:tensorflow:From /usr/local/lib/python3.6/dist-packages/keras/backend/tensorflow_backend.py:3733: calling dropout (from tensorflow.python.ops.nn_ops) with keep_prob is deprecated and will be removed in a future version.\n",
            "Instructions for updating:\n",
            "Please use `rate` instead of `keep_prob`. Rate should be set to `rate = 1 - keep_prob`.\n",
            "Train on 60000 samples, validate on 10000 samples\n",
            "Epoch 1/12\n",
            "60000/60000 [==============================] - 6s 95us/step - loss: 0.2685 - acc: 0.9156 - val_loss: 0.0556 - val_acc: 0.9824\n",
            "Epoch 2/12\n",
            "60000/60000 [==============================] - 5s 83us/step - loss: 0.0882 - acc: 0.9733 - val_loss: 0.0448 - val_acc: 0.9850\n",
            "Epoch 3/12\n",
            "60000/60000 [==============================] - 5s 83us/step - loss: 0.0647 - acc: 0.9809 - val_loss: 0.0325 - val_acc: 0.9884\n",
            "Epoch 4/12\n",
            "60000/60000 [==============================] - 5s 83us/step - loss: 0.0549 - acc: 0.9832 - val_loss: 0.0332 - val_acc: 0.9886\n",
            "Epoch 5/12\n",
            "60000/60000 [==============================] - 5s 83us/step - loss: 0.0467 - acc: 0.9854 - val_loss: 0.0292 - val_acc: 0.9900\n",
            "Epoch 6/12\n",
            "60000/60000 [==============================] - 5s 83us/step - loss: 0.0413 - acc: 0.9871 - val_loss: 0.0310 - val_acc: 0.9898\n",
            "Epoch 7/12\n",
            "60000/60000 [==============================] - 5s 84us/step - loss: 0.0377 - acc: 0.9887 - val_loss: 0.0283 - val_acc: 0.9909\n",
            "Epoch 8/12\n",
            "60000/60000 [==============================] - 5s 83us/step - loss: 0.0345 - acc: 0.9896 - val_loss: 0.0278 - val_acc: 0.9914\n",
            "Epoch 9/12\n",
            "60000/60000 [==============================] - 5s 82us/step - loss: 0.0326 - acc: 0.9896 - val_loss: 0.0260 - val_acc: 0.9912\n",
            "Epoch 10/12\n",
            "60000/60000 [==============================] - 5s 82us/step - loss: 0.0287 - acc: 0.9913 - val_loss: 0.0263 - val_acc: 0.9915\n",
            "Epoch 11/12\n",
            "60000/60000 [==============================] - 5s 82us/step - loss: 0.0284 - acc: 0.9914 - val_loss: 0.0287 - val_acc: 0.9905\n",
            "Epoch 12/12\n",
            "60000/60000 [==============================] - 5s 83us/step - loss: 0.0281 - acc: 0.9913 - val_loss: 0.0280 - val_acc: 0.9907\n",
            "Test loss: 0.027957568809363873\n",
            "Test accuracy: 0.9907\n"
          ],
          "name": "stdout"
        }
      ]
    },
    {
      "cell_type": "code",
      "metadata": {
        "id": "qByZJipiqxth",
        "colab_type": "code",
        "colab": {}
      },
      "source": [
        ""
      ],
      "execution_count": 0,
      "outputs": []
    }
  ]
}