{
  "nbformat": 4,
  "nbformat_minor": 0,
  "metadata": {
    "colab": {
      "name": "MNIST Keras Kfold.ipynb",
      "provenance": [],
      "collapsed_sections": []
    },
    "kernelspec": {
      "name": "python3",
      "display_name": "Python 3"
    },
    "accelerator": "GPU"
  },
  "cells": [
    {
      "cell_type": "code",
      "metadata": {
        "id": "UzGnsu14j9Ti",
        "colab_type": "code",
        "colab": {
          "base_uri": "https://localhost:8080/",
          "height": 81
        },
        "outputId": "07846023-42fe-4020-d99b-ff1b28242ca9"
      },
      "source": [
        "import numpy as np\n",
        "from matplotlib import pyplot as plt\n",
        "from sklearn.model_selection import KFold\n",
        "from keras.datasets import mnist\n",
        "from keras.utils import to_categorical\n",
        "from keras.models import Sequential\n",
        "from keras.layers import Conv2D,MaxPooling2D,Dense,Flatten,Convolution2D\n",
        "from keras.optimizers import SGD,Adam"
      ],
      "execution_count": 1,
      "outputs": [
        {
          "output_type": "stream",
          "text": [
            "Using TensorFlow backend.\n"
          ],
          "name": "stderr"
        },
        {
          "output_type": "display_data",
          "data": {
            "text/html": [
              "<p style=\"color: red;\">\n",
              "The default version of TensorFlow in Colab will soon switch to TensorFlow 2.x.<br>\n",
              "We recommend you <a href=\"https://www.tensorflow.org/guide/migrate\" target=\"_blank\">upgrade</a> now \n",
              "or ensure your notebook will continue to use TensorFlow 1.x via the <code>%tensorflow_version 1.x</code> magic:\n",
              "<a href=\"https://colab.research.google.com/notebooks/tensorflow_version.ipynb\" target=\"_blank\">more info</a>.</p>\n"
            ],
            "text/plain": [
              "<IPython.core.display.HTML object>"
            ]
          },
          "metadata": {
            "tags": []
          }
        }
      ]
    },
    {
      "cell_type": "code",
      "metadata": {
        "id": "DYmu2lMllCcJ",
        "colab_type": "code",
        "outputId": "02da90c6-9bd7-419f-c1ef-de1e935b8cc2",
        "colab": {
          "base_uri": "https://localhost:8080/",
          "height": 52
        }
      },
      "source": [
        "(trainX, trainy), (testX, testy) = mnist.load_data()"
      ],
      "execution_count": 2,
      "outputs": [
        {
          "output_type": "stream",
          "text": [
            "Downloading data from https://s3.amazonaws.com/img-datasets/mnist.npz\n",
            "11493376/11490434 [==============================] - 0s 0us/step\n"
          ],
          "name": "stdout"
        }
      ]
    },
    {
      "cell_type": "code",
      "metadata": {
        "id": "XaGJOhu1cNcp",
        "colab_type": "code",
        "outputId": "ec783e7f-a99a-461a-ac07-ce387a6d18a1",
        "colab": {
          "base_uri": "https://localhost:8080/",
          "height": 34
        }
      },
      "source": [
        "type(trainX), type(trainy)"
      ],
      "execution_count": 3,
      "outputs": [
        {
          "output_type": "execute_result",
          "data": {
            "text/plain": [
              "(numpy.ndarray, numpy.ndarray)"
            ]
          },
          "metadata": {
            "tags": []
          },
          "execution_count": 3
        }
      ]
    },
    {
      "cell_type": "code",
      "metadata": {
        "id": "wJhFS2jJoS5w",
        "colab_type": "code",
        "outputId": "09cce3aa-3f6b-4a51-b5f8-081aeb673cb4",
        "colab": {
          "base_uri": "https://localhost:8080/",
          "height": 52
        }
      },
      "source": [
        "print('Train: X=%s, y=%s' % (trainX.shape, trainy.shape))\n",
        "print('Test: X=%s, y=%s' % (testX.shape, testy.shape))"
      ],
      "execution_count": 4,
      "outputs": [
        {
          "output_type": "stream",
          "text": [
            "Train: X=(60000, 28, 28), y=(60000,)\n",
            "Test: X=(10000, 28, 28), y=(10000,)\n"
          ],
          "name": "stdout"
        }
      ]
    },
    {
      "cell_type": "code",
      "metadata": {
        "id": "tRcsliOGozbE",
        "colab_type": "code",
        "outputId": "d75e6e65-6e46-4975-f214-e22fa0ce51a7",
        "colab": {
          "base_uri": "https://localhost:8080/",
          "height": 282
        }
      },
      "source": [
        "plt.imshow(trainX[90], cmap='gray')"
      ],
      "execution_count": 5,
      "outputs": [
        {
          "output_type": "execute_result",
          "data": {
            "text/plain": [
              "<matplotlib.image.AxesImage at 0x7ff8fa435fd0>"
            ]
          },
          "metadata": {
            "tags": []
          },
          "execution_count": 5
        },
        {
          "output_type": "display_data",
          "data": {
            "image/png": "[encoded data removed]",
            "text/plain": [
              "<Figure size 432x288 with 1 Axes>"
            ]
          },
          "metadata": {
            "tags": []
          }
        }
      ]
    },
    {
      "cell_type": "code",
      "metadata": {
        "id": "XlJwZniqoS9G",
        "colab_type": "code",
        "outputId": "3b4d4622-fc4b-4088-b2f8-fa9f2083159c",
        "colab": {
          "base_uri": "https://localhost:8080/",
          "height": 267
        }
      },
      "source": [
        "for i in range(9):\n",
        "\tplt.subplot(330 + 1 + i)\n",
        "\tplt.imshow(trainX[i], cmap='gray')\n",
        "plt.show()"
      ],
      "execution_count": 6,
      "outputs": [
        {
          "output_type": "display_data",
          "data": {
            "image/png": "[encoded data removed]",
            "text/plain": [
              "<Figure size 432x288 with 9 Axes>"
            ]
          },
          "metadata": {
            "tags": []
          }
        }
      ]
    },
    {
      "cell_type": "code",
      "metadata": {
        "id": "rQRsVg-4oS34",
        "colab_type": "code",
        "colab": {}
      },
      "source": [
        "## Add color channel\n",
        "trainX = trainX.reshape((trainX.shape[0], 28, 28, 1))\n",
        "testX = testX.reshape((testX.shape[0], 28, 28, 1))"
      ],
      "execution_count": 0,
      "outputs": []
    },
    {
      "cell_type": "code",
      "metadata": {
        "id": "64cmDm8bp1v3",
        "colab_type": "code",
        "colab": {}
      },
      "source": [
        "trainy = to_categorical(trainy)\n",
        "testy = to_categorical(testy)"
      ],
      "execution_count": 0,
      "outputs": []
    },
    {
      "cell_type": "code",
      "metadata": {
        "id": "K9mFG2MQlCYM",
        "colab_type": "code",
        "outputId": "335f93a6-557a-4163-ab25-cbd0942df476",
        "colab": {
          "base_uri": "https://localhost:8080/",
          "height": 52
        }
      },
      "source": [
        "print('Train: X=%s, y=%s' % (trainX.shape, trainy.shape))\n",
        "print('Test: X=%s, y=%s' % (testX.shape, testy.shape))"
      ],
      "execution_count": 9,
      "outputs": [
        {
          "output_type": "stream",
          "text": [
            "Train: X=(60000, 28, 28, 1), y=(60000, 10)\n",
            "Test: X=(10000, 28, 28, 1), y=(10000, 10)\n"
          ],
          "name": "stdout"
        }
      ]
    },
    {
      "cell_type": "code",
      "metadata": {
        "id": "jlYXKkGFpzHf",
        "colab_type": "code",
        "colab": {}
      },
      "source": [
        "# convert from integers to floats\n",
        "train_normX = trainX.astype('float32')\n",
        "test_normX = testX.astype('float32')\n",
        "# normalize to range 0-1\n",
        "train_normX = train_normX / 255.0\n",
        "test_normX = test_normX / 255.0"
      ],
      "execution_count": 0,
      "outputs": []
    },
    {
      "cell_type": "code",
      "metadata": {
        "id": "yBpjeRevqzf0",
        "colab_type": "code",
        "colab": {
          "base_uri": "https://localhost:8080/",
          "height": 178
        },
        "outputId": "66794f4f-93c5-46b4-a4db-05bbbc9c28a0"
      },
      "source": [
        "##Defining Model\n",
        "\n",
        "model = Sequential()\n",
        "\n",
        "model.add(Convolution2D(32, (3,3), activation='relu', kernel_initializer='he_uniform', input_shape=(28,28,1)))\n",
        "model.add(MaxPooling2D(2,2))\n",
        "\n",
        "model.add(Flatten())\n",
        "\n",
        "model.add(Dense(100,activation='relu',kernel_initializer='he_uniform'))\n",
        "model.add(Dense(10,activation='softmax'))"
      ],
      "execution_count": 11,
      "outputs": [
        {
          "output_type": "stream",
          "text": [
            "WARNING:tensorflow:From /usr/local/lib/python3.6/dist-packages/keras/backend/tensorflow_backend.py:66: The name tf.get_default_graph is deprecated. Please use tf.compat.v1.get_default_graph instead.\n",
            "\n",
            "WARNING:tensorflow:From /usr/local/lib/python3.6/dist-packages/keras/backend/tensorflow_backend.py:541: The name tf.placeholder is deprecated. Please use tf.compat.v1.placeholder instead.\n",
            "\n",
            "WARNING:tensorflow:From /usr/local/lib/python3.6/dist-packages/keras/backend/tensorflow_backend.py:4432: The name tf.random_uniform is deprecated. Please use tf.random.uniform instead.\n",
            "\n",
            "WARNING:tensorflow:From /usr/local/lib/python3.6/dist-packages/keras/backend/tensorflow_backend.py:4267: The name tf.nn.max_pool is deprecated. Please use tf.nn.max_pool2d instead.\n",
            "\n"
          ],
          "name": "stdout"
        }
      ]
    },
    {
      "cell_type": "code",
      "metadata": {
        "id": "P0q7I5e4ratY",
        "colab_type": "code",
        "colab": {}
      },
      "source": [
        "opt = Adam(lr=0.01)"
      ],
      "execution_count": 0,
      "outputs": []
    },
    {
      "cell_type": "code",
      "metadata": {
        "id": "aKu0e_jmrarI",
        "colab_type": "code",
        "colab": {
          "base_uri": "https://localhost:8080/",
          "height": 107
        },
        "outputId": "291af87b-7c96-49b1-cf49-05fd46ec7222"
      },
      "source": [
        "model.compile(optimizer=opt,loss='categorical_crossentropy',metrics=['accuracy'])"
      ],
      "execution_count": 13,
      "outputs": [
        {
          "output_type": "stream",
          "text": [
            "WARNING:tensorflow:From /usr/local/lib/python3.6/dist-packages/keras/optimizers.py:793: The name tf.train.Optimizer is deprecated. Please use tf.compat.v1.train.Optimizer instead.\n",
            "\n",
            "WARNING:tensorflow:From /usr/local/lib/python3.6/dist-packages/keras/backend/tensorflow_backend.py:3576: The name tf.log is deprecated. Please use tf.math.log instead.\n",
            "\n"
          ],
          "name": "stdout"
        }
      ]
    },
    {
      "cell_type": "code",
      "metadata": {
        "id": "usCSlMzgqzdG",
        "colab_type": "code",
        "outputId": "40feb1a8-11b2-4469-da53-37f3163e9d79",
        "colab": {
          "base_uri": "https://localhost:8080/",
          "height": 336
        }
      },
      "source": [
        "model.summary()"
      ],
      "execution_count": 14,
      "outputs": [
        {
          "output_type": "stream",
          "text": [
            "Model: \"sequential_1\"\n",
            "_________________________________________________________________\n",
            "Layer (type)                 Output Shape              Param #   \n",
            "=================================================================\n",
            "conv2d_1 (Conv2D)            (None, 26, 26, 32)        320       \n",
            "_________________________________________________________________\n",
            "max_pooling2d_1 (MaxPooling2 (None, 13, 13, 32)        0         \n",
            "_________________________________________________________________\n",
            "flatten_1 (Flatten)          (None, 5408)              0         \n",
            "_________________________________________________________________\n",
            "dense_1 (Dense)              (None, 100)               540900    \n",
            "_________________________________________________________________\n",
            "dense_2 (Dense)              (None, 10)                1010      \n",
            "=================================================================\n",
            "Total params: 542,230\n",
            "Trainable params: 542,230\n",
            "Non-trainable params: 0\n",
            "_________________________________________________________________\n"
          ],
          "name": "stdout"
        }
      ]
    },
    {
      "cell_type": "code",
      "metadata": {
        "id": "ydXEFQPCtb3m",
        "colab_type": "code",
        "outputId": "c827d3a8-7860-4cbd-c06e-090b8630a2fb",
        "colab": {
          "base_uri": "https://localhost:8080/",
          "height": 1000
        }
      },
      "source": [
        "## Model evaluation with K-fold cross validation\n",
        "\n",
        "accuracy,hists = [],[]\n",
        "\n",
        "kfold = KFold(5,shuffle=True)\n",
        "\n",
        "for t_ix,v_ix in kfold.split(train_normX):\n",
        "  \n",
        "  tr_x, tr_y, vl_x, vl_y = train_normX[t_ix],trainy[t_ix], train_normX[v_ix],trainy[v_ix]\n",
        "  \n",
        "  hist = model.fit(tr_x, tr_y, epochs = 10, batch_size=32, \n",
        "                   validation_data=(vl_x, vl_y))\n",
        "  _, acc = model.evaluate(vl_x,vl_y)\n",
        "  print(\"  validation accuracy: %.3f\" % (acc*100.0) )\n",
        "\n",
        "  accuracy.append(acc)\n",
        "  hists.append(hist)"
      ],
      "execution_count": 15,
      "outputs": [
        {
          "output_type": "stream",
          "text": [
            "WARNING:tensorflow:From /usr/local/lib/python3.6/dist-packages/tensorflow_core/python/ops/math_grad.py:1424: where (from tensorflow.python.ops.array_ops) is deprecated and will be removed in a future version.\n",
            "Instructions for updating:\n",
            "Use tf.where in 2.0, which has the same broadcast rule as np.where\n",
            "WARNING:tensorflow:From /usr/local/lib/python3.6/dist-packages/keras/backend/tensorflow_backend.py:1033: The name tf.assign_add is deprecated. Please use tf.compat.v1.assign_add instead.\n",
            "\n",
            "WARNING:tensorflow:From /usr/local/lib/python3.6/dist-packages/keras/backend/tensorflow_backend.py:1020: The name tf.assign is deprecated. Please use tf.compat.v1.assign instead.\n",
            "\n",
            "WARNING:tensorflow:From /usr/local/lib/python3.6/dist-packages/keras/backend/tensorflow_backend.py:3005: The name tf.Session is deprecated. Please use tf.compat.v1.Session instead.\n",
            "\n",
            "Train on 48000 samples, validate on 12000 samples\n",
            "Epoch 1/10\n",
            "WARNING:tensorflow:From /usr/local/lib/python3.6/dist-packages/keras/backend/tensorflow_backend.py:190: The name tf.get_default_session is deprecated. Please use tf.compat.v1.get_default_session instead.\n",
            "\n",
            "WARNING:tensorflow:From /usr/local/lib/python3.6/dist-packages/keras/backend/tensorflow_backend.py:197: The name tf.ConfigProto is deprecated. Please use tf.compat.v1.ConfigProto instead.\n",
            "\n",
            "WARNING:tensorflow:From /usr/local/lib/python3.6/dist-packages/keras/backend/tensorflow_backend.py:207: The name tf.global_variables is deprecated. Please use tf.compat.v1.global_variables instead.\n",
            "\n",
            "WARNING:tensorflow:From /usr/local/lib/python3.6/dist-packages/keras/backend/tensorflow_backend.py:216: The name tf.is_variable_initialized is deprecated. Please use tf.compat.v1.is_variable_initialized instead.\n",
            "\n",
            "WARNING:tensorflow:From /usr/local/lib/python3.6/dist-packages/keras/backend/tensorflow_backend.py:223: The name tf.variables_initializer is deprecated. Please use tf.compat.v1.variables_initializer instead.\n",
            "\n",
            "48000/48000 [==============================] - 19s 395us/step - loss: 0.2094 - acc: 0.9529 - val_loss: 0.0758 - val_acc: 0.9751\n",
            "Epoch 2/10\n",
            "48000/48000 [==============================] - 11s 226us/step - loss: 0.0687 - acc: 0.9789 - val_loss: 0.0931 - val_acc: 0.9757\n",
            "Epoch 3/10\n",
            "48000/48000 [==============================] - 11s 229us/step - loss: 0.0606 - acc: 0.9825 - val_loss: 0.0846 - val_acc: 0.9788\n",
            "Epoch 4/10\n",
            "48000/48000 [==============================] - 11s 234us/step - loss: 0.0480 - acc: 0.9869 - val_loss: 0.1136 - val_acc: 0.9755\n",
            "Epoch 5/10\n",
            "48000/48000 [==============================] - 11s 227us/step - loss: 0.0450 - acc: 0.9888 - val_loss: 0.1758 - val_acc: 0.9729\n",
            "Epoch 6/10\n",
            "48000/48000 [==============================] - 11s 228us/step - loss: 0.0451 - acc: 0.9890 - val_loss: 0.1528 - val_acc: 0.9727\n",
            "Epoch 7/10\n",
            "48000/48000 [==============================] - 11s 228us/step - loss: 0.0419 - acc: 0.9910 - val_loss: 0.1659 - val_acc: 0.9739\n",
            "Epoch 8/10\n",
            "48000/48000 [==============================] - 11s 228us/step - loss: 0.0444 - acc: 0.9916 - val_loss: 0.1872 - val_acc: 0.9780\n",
            "Epoch 9/10\n",
            "48000/48000 [==============================] - 11s 229us/step - loss: 0.0404 - acc: 0.9931 - val_loss: 0.2052 - val_acc: 0.9736\n",
            "Epoch 10/10\n",
            "48000/48000 [==============================] - 11s 228us/step - loss: 0.0435 - acc: 0.9928 - val_loss: 0.2369 - val_acc: 0.9746\n",
            "12000/12000 [==============================] - 1s 66us/step\n",
            "  validation accuracy: 97.458\n",
            "Train on 48000 samples, validate on 12000 samples\n",
            "Epoch 1/10\n",
            "48000/48000 [==============================] - 11s 227us/step - loss: 0.1066 - acc: 0.9870 - val_loss: 0.0477 - val_acc: 0.9934\n",
            "Epoch 2/10\n",
            "48000/48000 [==============================] - 11s 229us/step - loss: 0.0745 - acc: 0.9905 - val_loss: 0.1167 - val_acc: 0.9843\n",
            "Epoch 3/10\n",
            "48000/48000 [==============================] - 11s 228us/step - loss: 0.0666 - acc: 0.9915 - val_loss: 0.0919 - val_acc: 0.9880\n",
            "Epoch 4/10\n",
            "48000/48000 [==============================] - 12s 242us/step - loss: 0.0667 - acc: 0.9915 - val_loss: 0.1226 - val_acc: 0.9879\n",
            "Epoch 5/10\n",
            "48000/48000 [==============================] - 11s 229us/step - loss: 0.0783 - acc: 0.9918 - val_loss: 0.1060 - val_acc: 0.9894\n",
            "Epoch 6/10\n",
            "48000/48000 [==============================] - 11s 227us/step - loss: 0.0668 - acc: 0.9933 - val_loss: 0.0951 - val_acc: 0.9908\n",
            "Epoch 7/10\n",
            "48000/48000 [==============================] - 11s 229us/step - loss: 0.0694 - acc: 0.9935 - val_loss: 0.1570 - val_acc: 0.9868\n",
            "Epoch 8/10\n",
            "48000/48000 [==============================] - 11s 227us/step - loss: 0.0819 - acc: 0.9927 - val_loss: 0.1840 - val_acc: 0.9848\n",
            "Epoch 9/10\n",
            "48000/48000 [==============================] - 11s 227us/step - loss: 0.1030 - acc: 0.9916 - val_loss: 0.1612 - val_acc: 0.9881\n",
            "Epoch 10/10\n",
            "48000/48000 [==============================] - 11s 228us/step - loss: 0.1089 - acc: 0.9913 - val_loss: 0.1956 - val_acc: 0.9852\n",
            "12000/12000 [==============================] - 1s 69us/step\n",
            "  validation accuracy: 98.525\n",
            "Train on 48000 samples, validate on 12000 samples\n",
            "Epoch 1/10\n",
            "48000/48000 [==============================] - 11s 229us/step - loss: 0.1245 - acc: 0.9905 - val_loss: 0.1087 - val_acc: 0.9921\n",
            "Epoch 2/10\n",
            "48000/48000 [==============================] - 11s 229us/step - loss: 0.1405 - acc: 0.9896 - val_loss: 0.1191 - val_acc: 0.9912\n",
            "Epoch 3/10\n",
            "48000/48000 [==============================] - 11s 230us/step - loss: 0.1285 - acc: 0.9910 - val_loss: 0.1541 - val_acc: 0.9888\n",
            "Epoch 4/10\n",
            "48000/48000 [==============================] - 11s 225us/step - loss: 0.1671 - acc: 0.9883 - val_loss: 0.1364 - val_acc: 0.9908\n",
            "Epoch 5/10\n",
            "48000/48000 [==============================] - 11s 228us/step - loss: 0.1608 - acc: 0.9890 - val_loss: 0.2135 - val_acc: 0.9859\n",
            "Epoch 6/10\n",
            "48000/48000 [==============================] - 11s 228us/step - loss: 0.1917 - acc: 0.9871 - val_loss: 0.1981 - val_acc: 0.9869\n",
            "Epoch 7/10\n",
            "48000/48000 [==============================] - 11s 231us/step - loss: 0.1788 - acc: 0.9884 - val_loss: 0.1857 - val_acc: 0.9880\n",
            "Epoch 8/10\n",
            "48000/48000 [==============================] - 11s 229us/step - loss: 0.2294 - acc: 0.9849 - val_loss: 0.2481 - val_acc: 0.9840\n",
            "Epoch 9/10\n",
            "48000/48000 [==============================] - 11s 225us/step - loss: 0.2063 - acc: 0.9865 - val_loss: 0.3856 - val_acc: 0.9756\n",
            "Epoch 10/10\n",
            "48000/48000 [==============================] - 11s 226us/step - loss: 0.2259 - acc: 0.9853 - val_loss: 0.2951 - val_acc: 0.9807\n",
            "12000/12000 [==============================] - 1s 66us/step\n",
            "  validation accuracy: 98.067\n",
            "Train on 48000 samples, validate on 12000 samples\n",
            "Epoch 1/10\n",
            "48000/48000 [==============================] - 11s 225us/step - loss: 0.2363 - acc: 0.9846 - val_loss: 0.1945 - val_acc: 0.9874\n",
            "Epoch 2/10\n",
            "48000/48000 [==============================] - 11s 227us/step - loss: 0.2349 - acc: 0.9849 - val_loss: 0.1574 - val_acc: 0.9895\n",
            "Epoch 3/10\n",
            "48000/48000 [==============================] - 11s 223us/step - loss: 0.2315 - acc: 0.9851 - val_loss: 0.2105 - val_acc: 0.9862\n",
            "Epoch 4/10\n",
            "48000/48000 [==============================] - 11s 223us/step - loss: 0.2350 - acc: 0.9850 - val_loss: 0.1770 - val_acc: 0.9884\n",
            "Epoch 5/10\n",
            "48000/48000 [==============================] - 11s 221us/step - loss: 0.2498 - acc: 0.9838 - val_loss: 0.3057 - val_acc: 0.9805\n",
            "Epoch 6/10\n",
            "48000/48000 [==============================] - 11s 221us/step - loss: 0.2541 - acc: 0.9838 - val_loss: 0.1880 - val_acc: 0.9880\n",
            "Epoch 7/10\n",
            "48000/48000 [==============================] - 11s 223us/step - loss: 0.2459 - acc: 0.9844 - val_loss: 0.3180 - val_acc: 0.9798\n",
            "Epoch 8/10\n",
            "48000/48000 [==============================] - 11s 221us/step - loss: 0.2499 - acc: 0.9841 - val_loss: 0.2145 - val_acc: 0.9862\n",
            "Epoch 9/10\n",
            "48000/48000 [==============================] - 11s 224us/step - loss: 0.2290 - acc: 0.9854 - val_loss: 0.2444 - val_acc: 0.9845\n",
            "Epoch 10/10\n",
            "48000/48000 [==============================] - 11s 222us/step - loss: 0.2604 - acc: 0.9834 - val_loss: 0.2490 - val_acc: 0.9842\n",
            "12000/12000 [==============================] - 1s 67us/step\n",
            "  validation accuracy: 98.417\n",
            "Train on 48000 samples, validate on 12000 samples\n",
            "Epoch 1/10\n",
            "48000/48000 [==============================] - 11s 222us/step - loss: 0.2614 - acc: 0.9835 - val_loss: 0.2051 - val_acc: 0.9871\n",
            "Epoch 2/10\n",
            "48000/48000 [==============================] - 11s 231us/step - loss: 0.2659 - acc: 0.9832 - val_loss: 0.2745 - val_acc: 0.9823\n",
            "Epoch 3/10\n",
            "48000/48000 [==============================] - 11s 228us/step - loss: 0.2160 - acc: 0.9862 - val_loss: 0.2131 - val_acc: 0.9867\n",
            "Epoch 4/10\n",
            "48000/48000 [==============================] - 11s 219us/step - loss: 0.2538 - acc: 0.9840 - val_loss: 0.3026 - val_acc: 0.9810\n",
            "Epoch 5/10\n",
            "48000/48000 [==============================] - 11s 221us/step - loss: 0.2477 - acc: 0.9843 - val_loss: 0.2283 - val_acc: 0.9857\n",
            "Epoch 6/10\n",
            "48000/48000 [==============================] - 11s 223us/step - loss: 0.2519 - acc: 0.9840 - val_loss: 0.1975 - val_acc: 0.9875\n",
            "Epoch 7/10\n",
            "48000/48000 [==============================] - 11s 220us/step - loss: 0.2213 - acc: 0.9860 - val_loss: 0.2238 - val_acc: 0.9857\n",
            "Epoch 8/10\n",
            "48000/48000 [==============================] - 10s 218us/step - loss: 0.2978 - acc: 0.9810 - val_loss: 0.2046 - val_acc: 0.9872\n",
            "Epoch 9/10\n",
            "48000/48000 [==============================] - 11s 220us/step - loss: 0.2803 - acc: 0.9824 - val_loss: 0.3147 - val_acc: 0.9802\n",
            "Epoch 10/10\n",
            "48000/48000 [==============================] - 11s 219us/step - loss: 0.2274 - acc: 0.9858 - val_loss: 0.2186 - val_acc: 0.9862\n",
            "12000/12000 [==============================] - 1s 67us/step\n",
            "  validation accuracy: 98.625\n"
          ],
          "name": "stdout"
        }
      ]
    },
    {
      "cell_type": "code",
      "metadata": {
        "id": "G5wth_rQvqol",
        "colab_type": "code",
        "outputId": "74a3d89b-f051-4b05-c579-e44b70d944bd",
        "colab": {
          "base_uri": "https://localhost:8080/",
          "height": 372
        }
      },
      "source": [
        "for i in range(len(hists)):\n",
        "  # plot loss\n",
        "  plt.subplot(211)\n",
        "  plt.title('Cross Entropy Loss')\n",
        "  plt.plot(hists[i].history['loss'], color='blue', label='train')\n",
        "  plt.plot(hists[i].history['val_loss'], color='orange', label='test')\n",
        "  # plot accuracy\n",
        "  plt.subplot(212)\n",
        "  plt.title('Classification Accuracy')\n",
        "  plt.plot(hists[i].history['acc'], color='blue', label='train')\n",
        "  plt.plot(hists[i].history['val_acc'], color='orange', label='test')\n",
        "plt.show()"
      ],
      "execution_count": 16,
      "outputs": [
        {
          "output_type": "stream",
          "text": [
            "/usr/local/lib/python3.6/dist-packages/ipykernel_launcher.py:3: MatplotlibDeprecationWarning: Adding an axes using the same arguments as a previous axes currently reuses the earlier instance.  In a future version, a new instance will always be created and returned.  Meanwhile, this warning can be suppressed, and the future behavior ensured, by passing a unique label to each axes instance.\n",
            "  This is separate from the ipykernel package so we can avoid doing imports until\n",
            "/usr/local/lib/python3.6/dist-packages/ipykernel_launcher.py:8: MatplotlibDeprecationWarning: Adding an axes using the same arguments as a previous axes currently reuses the earlier instance.  In a future version, a new instance will always be created and returned.  Meanwhile, this warning can be suppressed, and the future behavior ensured, by passing a unique label to each axes instance.\n",
            "  \n"
          ],
          "name": "stderr"
        },
        {
          "output_type": "display_data",
          "data": {
            "image/png": "[encoded data removed]",
            "text/plain": [
              "<Figure size 432x288 with 2 Axes>"
            ]
          },
          "metadata": {
            "tags": []
          }
        }
      ]
    },
    {
      "cell_type": "code",
      "metadata": {
        "id": "1lo6mBaTxj8K",
        "colab_type": "code",
        "outputId": "804f2045-d810-469a-d139-0aa7d7642a9a",
        "colab": {
          "base_uri": "https://localhost:8080/",
          "height": 282
        }
      },
      "source": [
        "print('Accuracy: mean=%.3f std=%.3f, n=%d' % (np.mean(accuracy)*100, np.std(accuracy)*100, len(accuracy)))\n",
        "\n",
        "plt.boxplot(accuracy)\n",
        "plt.show()"
      ],
      "execution_count": 17,
      "outputs": [
        {
          "output_type": "stream",
          "text": [
            "Accuracy: mean=98.218 std=0.424, n=5\n"
          ],
          "name": "stdout"
        },
        {
          "output_type": "display_data",
          "data": {
            "image/png": "[encoded data removed]",
            "text/plain": [
              "<Figure size 432x288 with 1 Axes>"
            ]
          },
          "metadata": {
            "tags": []
          }
        }
      ]
    },
    {
      "cell_type": "code",
      "metadata": {
        "id": "ZpIKzKFSxpf7",
        "colab_type": "code",
        "colab": {
          "base_uri": "https://localhost:8080/",
          "height": 52
        },
        "outputId": "51cb26bb-af8d-44d0-9e00-fbe9a50f7098"
      },
      "source": [
        "_, acc = model.evaluate(test_normX, testy)\n",
        "print('%.3f' % (acc * 100.0))"
      ],
      "execution_count": 18,
      "outputs": [
        {
          "output_type": "stream",
          "text": [
            "10000/10000 [==============================] - 1s 71us/step\n",
            "97.820\n"
          ],
          "name": "stdout"
        }
      ]
    },
    {
      "cell_type": "code",
      "metadata": {
        "colab_type": "code",
        "id": "Rh0p6tvNpwsG",
        "colab": {}
      },
      "source": [
        "# make a prediction for a new image.\n",
        "from keras.preprocessing.image import load_img\n",
        "from keras.preprocessing.image import img_to_array\n",
        "\n",
        "def load_image(img):\n",
        "\timg = img_to_array(img)\n",
        "\timg = img.reshape(1, 28, 28, 1)\n",
        "\timg = img.astype('float32')\n",
        "\timg = img / 255.0\n",
        "\treturn img\n",
        "\n",
        "def run_example(image_name):\n",
        "\timg = load_image(image_name)\n",
        "\tdigit = model.predict_classes(img)\n",
        "\tprint(digit[0])"
      ],
      "execution_count": 0,
      "outputs": []
    },
    {
      "cell_type": "code",
      "metadata": {
        "id": "tCZvbftmsDZc",
        "colab_type": "code",
        "colab": {}
      },
      "source": [
        "url = 'http://clipart-library.com/img1/188866.png'\n",
        "from matplotlib.image import imread\n",
        "img = imread(url)"
      ],
      "execution_count": 0,
      "outputs": []
    },
    {
      "cell_type": "code",
      "metadata": {
        "id": "p7QCroezuFeF",
        "colab_type": "code",
        "outputId": "adaef3cd-8d72-430b-a95e-9bf9dadfcd67",
        "colab": {
          "base_uri": "https://localhost:8080/",
          "height": 286
        }
      },
      "source": [
        "plt.imshow(img)"
      ],
      "execution_count": 21,
      "outputs": [
        {
          "output_type": "execute_result",
          "data": {
            "text/plain": [
              "<matplotlib.image.AxesImage at 0x7ff8f03352b0>"
            ]
          },
          "metadata": {
            "tags": []
          },
          "execution_count": 21
        },
        {
          "output_type": "display_data",
          "data": {
            "image/png": "[encoded data removed]",
            "text/plain": [
              "<Figure size 432x288 with 1 Axes>"
            ]
          },
          "metadata": {
            "tags": []
          }
        }
      ]
    },
    {
      "cell_type": "code",
      "metadata": {
        "id": "lXVgBjJAuYXu",
        "colab_type": "code",
        "outputId": "ce7beb7c-8464-42e3-d36d-d17be4f5dd2f",
        "colab": {
          "base_uri": "https://localhost:8080/",
          "height": 286
        }
      },
      "source": [
        "import cv2\n",
        "img = cv2.cvtColor(img, cv2.COLOR_RGB2GRAY)\n",
        "plt.imshow(img,cmap='gray')"
      ],
      "execution_count": 22,
      "outputs": [
        {
          "output_type": "execute_result",
          "data": {
            "text/plain": [
              "<matplotlib.image.AxesImage at 0x7ff898ee0390>"
            ]
          },
          "metadata": {
            "tags": []
          },
          "execution_count": 22
        },
        {
          "output_type": "display_data",
          "data": {
            "image/png": "[encoded data removed]",
            "text/plain": [
              "<Figure size 432x288 with 1 Axes>"
            ]
          },
          "metadata": {
            "tags": []
          }
        }
      ]
    },
    {
      "cell_type": "code",
      "metadata": {
        "id": "qN7y-8efujdL",
        "colab_type": "code",
        "outputId": "acced6c4-1f45-4516-a08a-3831a5958244",
        "colab": {
          "base_uri": "https://localhost:8080/",
          "height": 282
        }
      },
      "source": [
        "img = cv2.resize(img, (28, 28), interpolation = cv2.INTER_AREA)\n",
        "plt.imshow(img,cmap='gray')"
      ],
      "execution_count": 23,
      "outputs": [
        {
          "output_type": "execute_result",
          "data": {
            "text/plain": [
              "<matplotlib.image.AxesImage at 0x7ff898eb9630>"
            ]
          },
          "metadata": {
            "tags": []
          },
          "execution_count": 23
        },
        {
          "output_type": "display_data",
          "data": {
            "image/png": "[encoded data removed]",
            "text/plain": [
              "<Figure size 432x288 with 1 Axes>"
            ]
          },
          "metadata": {
            "tags": []
          }
        }
      ]
    },
    {
      "cell_type": "code",
      "metadata": {
        "id": "bfDl98qUtsn9",
        "colab_type": "code",
        "outputId": "2dbf7b72-c81f-4540-90de-6eb0879ed30a",
        "colab": {
          "base_uri": "https://localhost:8080/",
          "height": 34
        }
      },
      "source": [
        "img.shape"
      ],
      "execution_count": 24,
      "outputs": [
        {
          "output_type": "execute_result",
          "data": {
            "text/plain": [
              "(28, 28)"
            ]
          },
          "metadata": {
            "tags": []
          },
          "execution_count": 24
        }
      ]
    },
    {
      "cell_type": "code",
      "metadata": {
        "colab_type": "code",
        "outputId": "1fb52727-a4fc-44d2-ea22-6a494a77e04e",
        "id": "srz4R4GApws1",
        "colab": {
          "base_uri": "https://localhost:8080/",
          "height": 34
        }
      },
      "source": [
        "run_example(img)"
      ],
      "execution_count": 25,
      "outputs": [
        {
          "output_type": "stream",
          "text": [
            "7\n"
          ],
          "name": "stdout"
        }
      ]
    },
    {
      "cell_type": "code",
      "metadata": {
        "id": "qByZJipiqxth",
        "colab_type": "code",
        "colab": {}
      },
      "source": [
        ""
      ],
      "execution_count": 0,
      "outputs": []
    }
  ]
}