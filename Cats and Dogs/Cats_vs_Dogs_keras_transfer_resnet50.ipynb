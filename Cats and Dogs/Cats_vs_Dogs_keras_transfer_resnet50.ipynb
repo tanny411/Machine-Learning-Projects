{
  "nbformat": 4,
  "nbformat_minor": 0,
  "metadata": {
    "colab": {
      "name": "Cats_vs_Dogs_keras_transfer_resnet50.ipynb",
      "provenance": [],
      "collapsed_sections": [],
      "machine_shape": "hm"
    },
    "kernelspec": {
      "name": "python3",
      "display_name": "Python 3"
    },
    "accelerator": "GPU"
  },
  "cells": [
    {
      "cell_type": "code",
      "metadata": {
        "id": "v4Ehaho_TM1u",
        "colab_type": "code",
        "colab": {
          "base_uri": "https://localhost:8080/",
          "height": 87
        },
        "outputId": "b361cc2b-3170-4816-9d84-cbb77e55c063"
      },
      "source": [
        "!pip install -q --upgrade ipython==5.5.0\n",
        "!pip install -q --upgrade ipykernel==4.6.0"
      ],
      "execution_count": 2,
      "outputs": [
        {
          "output_type": "stream",
          "text": [
            "\u001b[K     |████████████████████████████████| 768kB 1.4MB/s \n",
            "\u001b[K     |████████████████████████████████| 245kB 57.1MB/s \n",
            "\u001b[31mERROR: google-colab 1.0.0 has requirement ipykernel~=4.6.0, but you'll have ipykernel 5.1.3 which is incompatible.\u001b[0m\n",
            "\u001b[K     |████████████████████████████████| 112kB 1.4MB/s \n",
            "\u001b[?25h"
          ],
          "name": "stdout"
        }
      ]
    },
    {
      "cell_type": "code",
      "metadata": {
        "id": "G2CwEv2esLNg",
        "colab_type": "code",
        "colab": {}
      },
      "source": [
        "from google.colab import files\n",
        "files.upload()"
      ],
      "execution_count": 0,
      "outputs": []
    },
    {
      "cell_type": "code",
      "metadata": {
        "id": "3xXoeWAvu-CP",
        "colab_type": "code",
        "colab": {}
      },
      "source": [
        "!pip install -q kaggle"
      ],
      "execution_count": 0,
      "outputs": []
    },
    {
      "cell_type": "code",
      "metadata": {
        "id": "7rxe4_4rvPob",
        "colab_type": "code",
        "colab": {}
      },
      "source": [
        "!mkdir -p ~/.kaggle\n",
        "!cp kaggle.json ~/.kaggle/"
      ],
      "execution_count": 0,
      "outputs": []
    },
    {
      "cell_type": "code",
      "metadata": {
        "id": "6DY0gZ4pwrty",
        "colab_type": "code",
        "colab": {}
      },
      "source": [
        "!chmod 600 ~/.kaggle/kaggle.json"
      ],
      "execution_count": 0,
      "outputs": []
    },
    {
      "cell_type": "code",
      "metadata": {
        "id": "-UE4OMwivolq",
        "colab_type": "code",
        "colab": {}
      },
      "source": [
        "!kaggle competitions download -c dogs-vs-cats #had to accept the term and conditions of the competition"
      ],
      "execution_count": 0,
      "outputs": []
    },
    {
      "cell_type": "code",
      "metadata": {
        "id": "nLIYDv1Tx9W5",
        "colab_type": "code",
        "colab": {}
      },
      "source": [
        "!unzip train.zip\n",
        "!unzip test1.zip"
      ],
      "execution_count": 0,
      "outputs": []
    },
    {
      "cell_type": "code",
      "metadata": {
        "id": "WWmL-iCncx4K",
        "colab_type": "code",
        "outputId": "fe76ca4e-ed74-4d7b-9e7c-c0642c701594",
        "colab": {
          "base_uri": "https://localhost:8080/",
          "height": 81
        }
      },
      "source": [
        "import os, cv2, random\n",
        "import numpy as np\n",
        "import pandas as pd\n",
        "import seaborn as sns\n",
        "import matplotlib.pyplot as plt\n",
        "from sklearn.model_selection import train_test_split\n",
        "from sklearn.metrics import classification_report\n",
        "from tqdm import tqdm\n",
        "from random import shuffle \n",
        "from IPython.display import SVG\n",
        "from keras.utils.vis_utils import model_to_dot\n",
        "from keras.utils import plot_model\n",
        "from keras.applications import ResNet50\n",
        "from keras.models import Sequential\n",
        "from keras.layers import Dense, Flatten, GlobalAveragePooling2D\n",
        "%matplotlib inline "
      ],
      "execution_count": 3,
      "outputs": [
        {
          "output_type": "stream",
          "text": [
            "Using TensorFlow backend.\n"
          ],
          "name": "stderr"
        },
        {
          "output_type": "display_data",
          "data": {
            "text/html": [
              "<p style=\"color: red;\">\n",
              "The default version of TensorFlow in Colab will soon switch to TensorFlow 2.x.<br>\n",
              "We recommend you <a href=\"https://www.tensorflow.org/guide/migrate\" target=\"_blank\">upgrade</a> now \n",
              "or ensure your notebook will continue to use TensorFlow 1.x via the <code>%tensorflow_version 1.x</code> magic:\n",
              "<a href=\"https://colab.research.google.com/notebooks/tensorflow_version.ipynb\" target=\"_blank\">more info</a>.</p>\n"
            ],
            "text/plain": [
              "<IPython.core.display.HTML object>"
            ]
          },
          "metadata": {
            "tags": []
          }
        }
      ]
    },
    {
      "cell_type": "markdown",
      "metadata": {
        "id": "8uMZ_Ba1i2Sr",
        "colab_type": "text"
      },
      "source": [
        "## Process data"
      ]
    },
    {
      "cell_type": "code",
      "metadata": {
        "id": "TgILH3cjdItk",
        "colab_type": "code",
        "outputId": "c20b636b-b41c-4b8f-f9fd-e86f6f490ac7",
        "colab": {
          "base_uri": "https://localhost:8080/",
          "height": 70
        }
      },
      "source": [
        "!ls train | head -3"
      ],
      "execution_count": 9,
      "outputs": [
        {
          "output_type": "stream",
          "text": [
            "cat.0.jpg\n",
            "cat.10000.jpg\n",
            "cat.10001.jpg\n"
          ],
          "name": "stdout"
        }
      ]
    },
    {
      "cell_type": "code",
      "metadata": {
        "id": "tnsHUCT8ddSl",
        "colab_type": "code",
        "outputId": "2b0e28f2-c1d1-4e33-997e-21278f3d921d",
        "colab": {
          "base_uri": "https://localhost:8080/",
          "height": 70
        }
      },
      "source": [
        "!ls train | tail -3"
      ],
      "execution_count": 10,
      "outputs": [
        {
          "output_type": "stream",
          "text": [
            "dog.999.jpg\n",
            "dog.99.jpg\n",
            "dog.9.jpg\n"
          ],
          "name": "stdout"
        }
      ]
    },
    {
      "cell_type": "code",
      "metadata": {
        "id": "cjkiRBcddtOm",
        "colab_type": "code",
        "outputId": "5e0b67b6-6754-4b0a-e51b-928ba3ce36f1",
        "colab": {
          "base_uri": "https://localhost:8080/",
          "height": 70
        }
      },
      "source": [
        "!ls test1 | head -3"
      ],
      "execution_count": 11,
      "outputs": [
        {
          "output_type": "stream",
          "text": [
            "10000.jpg\n",
            "10001.jpg\n",
            "10002.jpg\n"
          ],
          "name": "stdout"
        }
      ]
    },
    {
      "cell_type": "code",
      "metadata": {
        "id": "AXdytZQcdwUr",
        "colab_type": "code",
        "colab": {}
      },
      "source": [
        "train = []\n",
        "\n",
        "for file in os.listdir('train'):\n",
        "  ## ------------------set label--------------------\n",
        "  label = file.split('.')[0]\n",
        "  if label=='cat':\n",
        "    L = [0,1]\n",
        "  elif label=='dog':\n",
        "    L = [1,0]\n",
        "  else:\n",
        "    print(\"Error! Filename is\",file)\n",
        "    break\n",
        "  \n",
        "  ## ----------------set images----------------------\n",
        "  img = cv2.imread('train/'+file,cv2.IMREAD_COLOR)\n",
        "  img = cv2.resize(img, (224,224))\n",
        "  img=img/255.0\n",
        "  train.append((img,L))"
      ],
      "execution_count": 0,
      "outputs": []
    },
    {
      "cell_type": "code",
      "metadata": {
        "id": "BIFVg4NIiEq_",
        "colab_type": "code",
        "colab": {}
      },
      "source": [
        "shuffle(train)"
      ],
      "execution_count": 0,
      "outputs": []
    },
    {
      "cell_type": "code",
      "metadata": {
        "id": "djtNW9IdgEXU",
        "colab_type": "code",
        "colab": {}
      },
      "source": [
        "len(train)"
      ],
      "execution_count": 0,
      "outputs": []
    },
    {
      "cell_type": "code",
      "metadata": {
        "id": "m_aJ56Z1iChc",
        "colab_type": "code",
        "colab": {}
      },
      "source": [
        "[x[1] for x in train[:10]]"
      ],
      "execution_count": 0,
      "outputs": []
    },
    {
      "cell_type": "code",
      "metadata": {
        "id": "Xbyj6M4AjQrs",
        "colab_type": "code",
        "colab": {}
      },
      "source": [
        "test = []\n",
        "\n",
        "for file in os.listdir('test1'):\n",
        "  ## ------------------set label--------------------\n",
        "  L = [-1,-1]\n",
        "  \n",
        "  ## ----------------set images----------------------\n",
        "  img = cv2.imread('test1/'+file,cv2.IMREAD_COLOR)\n",
        "  img = cv2.resize(img, (224,224))\n",
        "  img=img/255.0\n",
        "  test.append((img,L))"
      ],
      "execution_count": 0,
      "outputs": []
    },
    {
      "cell_type": "code",
      "metadata": {
        "id": "otAWtewljbMn",
        "colab_type": "code",
        "colab": {}
      },
      "source": [
        "len(test)"
      ],
      "execution_count": 0,
      "outputs": []
    },
    {
      "cell_type": "markdown",
      "metadata": {
        "id": "Tjv_bSW2i4rV",
        "colab_type": "text"
      },
      "source": [
        "## See Data"
      ]
    },
    {
      "cell_type": "code",
      "metadata": {
        "id": "vt5NZxehiQx1",
        "colab_type": "code",
        "colab": {}
      },
      "source": [
        "def show_images(data, isTest=False):\n",
        "    f, ax = plt.subplots(5,5, figsize=(15,15))\n",
        "    for i,data in enumerate(data[:25]):\n",
        "        img_num = data[1]\n",
        "        img_data = data[0]\n",
        "        label = np.argmax(img_num)\n",
        "        if label  == 0: \n",
        "            str_label='Dog'\n",
        "        elif label == 1: \n",
        "            str_label='Cat'\n",
        "        if(isTest):\n",
        "            str_label=\"None\"\n",
        "        ax[i//5, i%5].imshow(img_data)\n",
        "        ax[i//5, i%5].axis('off')\n",
        "        ax[i//5, i%5].set_title(\"Label: {}\".format(str_label))\n",
        "    plt.show()"
      ],
      "execution_count": 0,
      "outputs": []
    },
    {
      "cell_type": "code",
      "metadata": {
        "id": "WLYsy9gNjGm1",
        "colab_type": "code",
        "colab": {}
      },
      "source": [
        "show_images(train)"
      ],
      "execution_count": 0,
      "outputs": []
    },
    {
      "cell_type": "code",
      "metadata": {
        "id": "sV0h-gmNjIv8",
        "colab_type": "code",
        "colab": {}
      },
      "source": [
        "show_images(test,isTest=True)"
      ],
      "execution_count": 0,
      "outputs": []
    },
    {
      "cell_type": "markdown",
      "metadata": {
        "id": "TdUy9qJpmAsq",
        "colab_type": "text"
      },
      "source": [
        "## Model"
      ]
    },
    {
      "cell_type": "code",
      "metadata": {
        "id": "Tt952n5OjkdV",
        "colab_type": "code",
        "colab": {}
      },
      "source": [
        "X = np.array([i[0] for i in train]).reshape(-1,224,224,3)\n",
        "y = np.array([i[1] for i in train])"
      ],
      "execution_count": 0,
      "outputs": []
    },
    {
      "cell_type": "markdown",
      "metadata": {
        "id": "4wTzdPThmaB4",
        "colab_type": "text"
      },
      "source": [
        "https://keras.io/applications/#classify-imagenet-classes-with-resnet50\n",
        "\n",
        "https://keras.io/applications/#resnet (parameter details)"
      ]
    },
    {
      "cell_type": "code",
      "metadata": {
        "id": "ms7zWyhRmIRT",
        "colab_type": "code",
        "colab": {}
      },
      "source": [
        "model = Sequential()\n",
        "model.add(ResNet50(include_top=False, pooling='max'))\n",
        "model.add(Dense(2, activation='softmax'))"
      ],
      "execution_count": 0,
      "outputs": []
    },
    {
      "cell_type": "code",
      "metadata": {
        "id": "joX9axRrngD8",
        "colab_type": "code",
        "colab": {}
      },
      "source": [
        "# ResNet-50 model is already trained, should not be trained\n",
        "model.layers[0].trainable = False"
      ],
      "execution_count": 0,
      "outputs": []
    },
    {
      "cell_type": "code",
      "metadata": {
        "id": "a44mUuOmn6Rc",
        "colab_type": "code",
        "colab": {}
      },
      "source": [
        "model.summary()"
      ],
      "execution_count": 0,
      "outputs": []
    },
    {
      "cell_type": "code",
      "metadata": {
        "id": "TXVUWOc_oBUu",
        "colab_type": "code",
        "colab": {}
      },
      "source": [
        "model.compile(optimizer='sgd', loss='categorical_crossentropy', metrics=['accuracy'])"
      ],
      "execution_count": 0,
      "outputs": []
    },
    {
      "cell_type": "code",
      "metadata": {
        "id": "qmiGTZ4MojXm",
        "colab_type": "code",
        "colab": {}
      },
      "source": [
        "X_train, X_val, y_train, y_val = train_test_split(X, y, test_size=0.3)"
      ],
      "execution_count": 0,
      "outputs": []
    },
    {
      "cell_type": "code",
      "metadata": {
        "id": "9LB6qyF-onlJ",
        "colab_type": "code",
        "colab": {}
      },
      "source": [
        "train_model = model.fit(X_train, y_train,\n",
        "                  batch_size=64,\n",
        "                  epochs=10,\n",
        "                  verbose=1,\n",
        "                  validation_data=(X_val, y_val))"
      ],
      "execution_count": 0,
      "outputs": []
    },
    {
      "cell_type": "markdown",
      "metadata": {
        "id": "8Rz8A8DzpS4G",
        "colab_type": "text"
      },
      "source": [
        "## Evaluate"
      ]
    },
    {
      "cell_type": "code",
      "metadata": {
        "id": "6JF4QCGAo6vt",
        "colab_type": "code",
        "colab": {}
      },
      "source": [
        "def plot_accuracy_and_loss(train_model):\n",
        "    hist = train_model.history\n",
        "    acc = hist['acc']\n",
        "    val_acc = hist['val_acc']\n",
        "    loss = hist['loss']\n",
        "    val_loss = hist['val_loss']\n",
        "    epochs = range(len(acc))\n",
        "    f, ax = plt.subplots(1,2, figsize=(14,6))\n",
        "    ax[0].plot(epochs, acc, 'g', label='Training accuracy')\n",
        "    ax[0].plot(epochs, val_acc, 'r', label='Validation accuracy')\n",
        "    ax[0].set_title('Training and validation accuracy')\n",
        "    ax[0].legend()\n",
        "    ax[1].plot(epochs, loss, 'g', label='Training loss')\n",
        "    ax[1].plot(epochs, val_loss, 'r', label='Validation loss')\n",
        "    ax[1].set_title('Training and validation loss')\n",
        "    ax[1].legend()\n",
        "    plt.show()"
      ],
      "execution_count": 0,
      "outputs": []
    },
    {
      "cell_type": "code",
      "metadata": {
        "id": "D0HgPZ1mpHW3",
        "colab_type": "code",
        "colab": {}
      },
      "source": [
        "plot_accuracy_and_loss(train_model)"
      ],
      "execution_count": 0,
      "outputs": []
    },
    {
      "cell_type": "code",
      "metadata": {
        "id": "BBZGkJpypH8o",
        "colab_type": "code",
        "colab": {}
      },
      "source": [
        "score = model.evaluate(X_val, y_val, verbose=0)\n",
        "print('Validation loss:', score[0])\n",
        "print('Validation accuracy:', score[1])"
      ],
      "execution_count": 0,
      "outputs": []
    },
    {
      "cell_type": "code",
      "metadata": {
        "id": "elxMqhCnpLSp",
        "colab_type": "code",
        "colab": {}
      },
      "source": [
        "predicted_classes = model.predict_classes(X_val)\n",
        "y_true = np.argmax(y_val,axis=1)"
      ],
      "execution_count": 0,
      "outputs": []
    },
    {
      "cell_type": "code",
      "metadata": {
        "id": "uMx-VhwxqByX",
        "colab_type": "code",
        "colab": {}
      },
      "source": [
        "target_names = [\"Class {}:\".format(i) for i in range(2)]\n",
        "print(classification_report(y_true, predicted_classes, target_names=target_names))"
      ],
      "execution_count": 0,
      "outputs": []
    },
    {
      "cell_type": "markdown",
      "metadata": {
        "id": "hETRUldrpU2s",
        "colab_type": "text"
      },
      "source": [
        "## Test set"
      ]
    },
    {
      "cell_type": "code",
      "metadata": {
        "id": "-ZTu9haxqh-M",
        "colab_type": "code",
        "colab": {}
      },
      "source": [
        "x = test[0][0].reshape(-1,224,224,3)\n",
        "out = model.predict([x])[0]\n",
        "out"
      ],
      "execution_count": 0,
      "outputs": []
    },
    {
      "cell_type": "code",
      "metadata": {
        "id": "UzcSRCuEpcZ6",
        "colab_type": "code",
        "colab": {}
      },
      "source": [
        "f, ax = plt.subplots(5,5, figsize=(15,15))\n",
        "for i,data in enumerate(test[:25]):\n",
        "    img_num = data[1]\n",
        "    img_data = data[0]\n",
        "    orig = img_data\n",
        "    data = img_data.reshape(-1,224,224,3)\n",
        "    model_out = model.predict([data])[0]\n",
        "    \n",
        "    if np.argmax(model_out) == 0: \n",
        "        str_predicted='Dog'\n",
        "    else: \n",
        "        str_predicted='Cat'\n",
        "    ax[i//5, i%5].imshow(orig)\n",
        "    ax[i//5, i%5].axis('off')\n",
        "    ax[i//5, i%5].set_title(\"Predicted:{}\".format(str_predicted))    \n",
        "plt.show()"
      ],
      "execution_count": 0,
      "outputs": []
    }
  ]
}