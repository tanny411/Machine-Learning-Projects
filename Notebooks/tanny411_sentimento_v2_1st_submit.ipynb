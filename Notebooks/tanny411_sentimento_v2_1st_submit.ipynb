{
  "nbformat": 4,
  "nbformat_minor": 0,
  "metadata": {
    "kernelspec": {
      "name": "python3",
      "display_name": "Python 3"
    },
    "language_info": {
      "pygments_lexer": "ipython3",
      "nbconvert_exporter": "python",
      "version": "3.6.4",
      "file_extension": ".py",
      "codemirror_mode": {
        "name": "ipython",
        "version": 3
      },
      "name": "python",
      "mimetype": "text/x-python"
    },
    "colab": {
      "name": "tanny411_sentimento_v2_1st_submit.ipynb",
      "version": "0.3.2",
      "provenance": []
    },
    "accelerator": "GPU"
  },
  "cells": [
    {
      "cell_type": "markdown",
      "metadata": {
        "id": "k3l2WqQtd2QF",
        "colab_type": "text"
      },
      "source": [
        "## Summary:\n",
        "\n",
        "### text-processing(simple):\n",
        "- all text tokenized to words\n",
        "- spaces put around punctuation\n",
        "- 'nt and 's reformed into tokens\n",
        "- vocabulary size of 60k kept\n",
        "- all other tokens recognised as 'unk'\n",
        "- finally all texts padded to size 50\n",
        "\n",
        "### Model architecture:        \n",
        "- simple lstm model\n",
        "- a single lstm layer with hidden dimension = 50, layer dimension = 2\n",
        "- initialized with an embedding layer, with embedding size = 100\n",
        "- a fully connected layer (mainly to flatten) of output dimension 10\n",
        "- final fully connected layer of output dimension 1, for binary classification\n",
        "- dropout of 0.5 used\n",
        "\n",
        "### Why you used these models:\n",
        "- lstm is the most generic kind of layer that applies best for sequence analysis, thats why lstm was used\n",
        "- since the whole input will be given at once, bidirectional lstm was used to capture information from both sides of the input text\n",
        "\n",
        "### Room for improvement:\n",
        "- hyperparameters can be tuned well\n",
        "- convolutional layers can be applied and analysed\n",
        "- in case of cnn, character level cnn may be analysed"
      ]
    },
    {
      "cell_type": "markdown",
      "metadata": {
        "id": "te41vSGYhZE5",
        "colab_type": "text"
      },
      "source": [
        "## Getting Data"
      ]
    },
    {
      "cell_type": "code",
      "metadata": {
        "id": "xNTMoX2Me-j-",
        "colab_type": "code",
        "colab": {}
      },
      "source": [
        "# !pip install kaggle"
      ],
      "execution_count": 0,
      "outputs": []
    },
    {
      "cell_type": "code",
      "metadata": {
        "id": "nLwE-qwYe-gU",
        "colab_type": "code",
        "colab": {}
      },
      "source": [
        "!mkdir .kaggle"
      ],
      "execution_count": 0,
      "outputs": []
    },
    {
      "cell_type": "code",
      "metadata": {
        "id": "r4hr53SlgJgA",
        "colab_type": "code",
        "colab": {}
      },
      "source": [
        "!mkdir ~/.kaggle"
      ],
      "execution_count": 0,
      "outputs": []
    },
    {
      "cell_type": "code",
      "metadata": {
        "id": "ezC0nIDie-et",
        "colab_type": "code",
        "colab": {}
      },
      "source": [
        "import json\n",
        "token = {'username':'','key':''}\n",
        "with open('/content/.kaggle/kaggle.json', 'w') as file:\n",
        "    json.dump(token, file)"
      ],
      "execution_count": 0,
      "outputs": []
    },
    {
      "cell_type": "code",
      "metadata": {
        "id": "KKX3k2c2e-Yc",
        "colab_type": "code",
        "colab": {}
      },
      "source": [
        "!cp /content/.kaggle/kaggle.json ~/.kaggle/kaggle.json"
      ],
      "execution_count": 0,
      "outputs": []
    },
    {
      "cell_type": "code",
      "metadata": {
        "id": "yV5ZltIVfypZ",
        "colab_type": "code",
        "colab": {
          "base_uri": "https://localhost:8080/",
          "height": 51
        },
        "outputId": "34542d51-aa5c-4d9b-f6a9-7e1eea62c4f0"
      },
      "source": [
        "!kaggle config set -n path -v{/content}"
      ],
      "execution_count": 13,
      "outputs": [
        {
          "output_type": "stream",
          "text": [
            "Warning: Your Kaggle API key is readable by other users on this system! To fix this, you can run 'chmod 600 /root/.kaggle/kaggle.json'\n",
            "- path is now set to: {/content}\n"
          ],
          "name": "stdout"
        }
      ]
    },
    {
      "cell_type": "code",
      "metadata": {
        "id": "_0M5gq3YfynA",
        "colab_type": "code",
        "colab": {}
      },
      "source": [
        "!chmod 600 /root/.kaggle/kaggle.json"
      ],
      "execution_count": 0,
      "outputs": []
    },
    {
      "cell_type": "code",
      "metadata": {
        "id": "xWN58vvFfyim",
        "colab_type": "code",
        "colab": {}
      },
      "source": [
        "!kaggle datasets list"
      ],
      "execution_count": 0,
      "outputs": []
    },
    {
      "cell_type": "code",
      "metadata": {
        "id": "RzI8lb_Age_R",
        "colab_type": "code",
        "colab": {}
      },
      "source": [
        "!kaggle datasets list -s sentiment"
      ],
      "execution_count": 0,
      "outputs": []
    },
    {
      "cell_type": "code",
      "metadata": {
        "id": "9kAAyiD6ge7u",
        "colab_type": "code",
        "colab": {
          "base_uri": "https://localhost:8080/",
          "height": 170
        },
        "outputId": "2aa9160b-c129-4a88-a815-c4d3dac59aaf"
      },
      "source": [
        "!kaggle competitions download -c nlp-hack -p /content"
      ],
      "execution_count": 20,
      "outputs": [
        {
          "output_type": "stream",
          "text": [
            "Downloading sample-submission.csv to /content\n",
            "\r  0% 0.00/99.0 [00:00<?, ?B/s]\n",
            "100% 99.0/99.0 [00:00<00:00, 175kB/s]\n",
            "Downloading test.csv.zip to /content\n",
            " 54% 9.00M/16.6M [00:00<00:00, 30.3MB/s]\n",
            "100% 16.6M/16.6M [00:00<00:00, 47.6MB/s]\n",
            "Downloading train.csv.zip to /content\n",
            " 79% 53.0M/66.9M [00:00<00:00, 42.0MB/s]\n",
            "100% 66.9M/66.9M [00:00<00:00, 114MB/s] \n"
          ],
          "name": "stdout"
        }
      ]
    },
    {
      "cell_type": "code",
      "metadata": {
        "id": "896FeTWkhEvp",
        "colab_type": "code",
        "colab": {
          "base_uri": "https://localhost:8080/",
          "height": 136
        },
        "outputId": "e1998ace-1a64-4cc6-b828-252b1c8e56a3"
      },
      "source": [
        "!unzip \\*.zip"
      ],
      "execution_count": 21,
      "outputs": [
        {
          "output_type": "stream",
          "text": [
            "Archive:  test.csv.zip\n",
            "  inflating: test.csv                \n",
            "\n",
            "Archive:  train.csv.zip\n",
            "  inflating: train.csv               \n",
            "\n",
            "2 archives were successfully processed.\n"
          ],
          "name": "stdout"
        }
      ]
    },
    {
      "cell_type": "markdown",
      "metadata": {
        "id": "q02Lopoxhb7O",
        "colab_type": "text"
      },
      "source": [
        "## Starts here"
      ]
    },
    {
      "cell_type": "code",
      "metadata": {
        "_uuid": "8f2839f25d086af736a60e9eeb907d3b93b6e0e5",
        "_cell_guid": "b1076dfc-b9ad-4769-8c92-a6c4dae69d19",
        "trusted": true,
        "id": "AChp_0-sd2QH",
        "colab_type": "code",
        "colab": {}
      },
      "source": [
        "import numpy as np\n",
        "import pandas as pd\n",
        "import os\n",
        "files=['train.csv','test.csv','sample-submission.csv']"
      ],
      "execution_count": 0,
      "outputs": []
    },
    {
      "cell_type": "markdown",
      "metadata": {
        "id": "9vtNX3rGd2QN",
        "colab_type": "text"
      },
      "source": [
        "## Imports"
      ]
    },
    {
      "cell_type": "code",
      "metadata": {
        "trusted": true,
        "id": "_ExMVFIHd2QO",
        "colab_type": "code",
        "colab": {}
      },
      "source": [
        "import numpy as np\n",
        "import pandas as pd\n",
        "import os\n",
        "import string\n",
        "import re\n",
        "import matplotlib.pyplot as plt\n",
        "import torch\n",
        "import torch.nn as nn\n",
        "from torch.nn import functional as F\n",
        "from torch.autograd import Variable\n",
        "import torch.utils.data\n",
        "from sklearn.model_selection import train_test_split\n",
        "from keras.preprocessing.sequence import pad_sequences\n",
        "from collections import Counter\n",
        "import pickle"
      ],
      "execution_count": 0,
      "outputs": []
    },
    {
      "cell_type": "code",
      "metadata": {
        "trusted": true,
        "id": "WIqxMZQ2d2QU",
        "colab_type": "code",
        "colab": {
          "base_uri": "https://localhost:8080/",
          "height": 34
        },
        "outputId": "28722c45-770e-454b-ce02-e0113271a195"
      },
      "source": [
        "device = 'cuda' if torch.cuda.is_available() else 'cpu'\n",
        "device"
      ],
      "execution_count": 25,
      "outputs": [
        {
          "output_type": "execute_result",
          "data": {
            "text/plain": [
              "'cuda'"
            ]
          },
          "metadata": {
            "tags": []
          },
          "execution_count": 25
        }
      ]
    },
    {
      "cell_type": "markdown",
      "metadata": {
        "id": "1B-YlJR4d2QY",
        "colab_type": "text"
      },
      "source": [
        "## See Data"
      ]
    },
    {
      "cell_type": "code",
      "metadata": {
        "trusted": true,
        "id": "0lRr78Drd2Qa",
        "colab_type": "code",
        "colab": {
          "base_uri": "https://localhost:8080/",
          "height": 289
        },
        "outputId": "d744267e-a877-4e8e-98c2-ae347f363354"
      },
      "source": [
        "train = pd.read_csv(files[0],index_col=0)\n",
        "test = pd.read_csv(files[1],index_col=0)\n",
        "train.head()"
      ],
      "execution_count": 26,
      "outputs": [
        {
          "output_type": "stream",
          "text": [
            "/usr/local/lib/python3.6/dist-packages/numpy/lib/arraysetops.py:569: FutureWarning: elementwise comparison failed; returning scalar instead, but in the future will perform elementwise comparison\n",
            "  mask |= (ar1 == a)\n"
          ],
          "name": "stderr"
        },
        {
          "output_type": "execute_result",
          "data": {
            "text/html": [
              "<div>\n",
              "<style scoped>\n",
              "    .dataframe tbody tr th:only-of-type {\n",
              "        vertical-align: middle;\n",
              "    }\n",
              "\n",
              "    .dataframe tbody tr th {\n",
              "        vertical-align: top;\n",
              "    }\n",
              "\n",
              "    .dataframe thead th {\n",
              "        text-align: right;\n",
              "    }\n",
              "</style>\n",
              "<table border=\"1\" class=\"dataframe\">\n",
              "  <thead>\n",
              "    <tr style=\"text-align: right;\">\n",
              "      <th></th>\n",
              "      <th>date</th>\n",
              "      <th>user</th>\n",
              "      <th>text</th>\n",
              "      <th>target</th>\n",
              "    </tr>\n",
              "    <tr>\n",
              "      <th>Id</th>\n",
              "      <th></th>\n",
              "      <th></th>\n",
              "      <th></th>\n",
              "      <th></th>\n",
              "    </tr>\n",
              "  </thead>\n",
              "  <tbody>\n",
              "    <tr>\n",
              "      <th>0</th>\n",
              "      <td>Fri Jun 05 22:04:23 PDT 2009</td>\n",
              "      <td>JGoldsborough</td>\n",
              "      <td>@jbtaylor WIth ya. &amp;quot;I'd like a Palm Pre, ...</td>\n",
              "      <td>4</td>\n",
              "    </tr>\n",
              "    <tr>\n",
              "      <th>1</th>\n",
              "      <td>Sat Jun 06 03:12:21 PDT 2009</td>\n",
              "      <td>Psioui</td>\n",
              "      <td>felt the earthquake this afternoon, it seems t...</td>\n",
              "      <td>4</td>\n",
              "    </tr>\n",
              "    <tr>\n",
              "      <th>2</th>\n",
              "      <td>Sat May 30 19:02:49 PDT 2009</td>\n",
              "      <td>adriville</td>\n",
              "      <td>Ruffles on shirts are like so in, me Likey</td>\n",
              "      <td>4</td>\n",
              "    </tr>\n",
              "    <tr>\n",
              "      <th>3</th>\n",
              "      <td>Thu Jun 25 05:59:18 PDT 2009</td>\n",
              "      <td>Blondie128</td>\n",
              "      <td>Pretty bad night into a crappy morning....FML!...</td>\n",
              "      <td>0</td>\n",
              "    </tr>\n",
              "    <tr>\n",
              "      <th>4</th>\n",
              "      <td>Sat May 30 11:16:35 PDT 2009</td>\n",
              "      <td>khrabrov</td>\n",
              "      <td>@dcbriccetti yeah, what a clear view!</td>\n",
              "      <td>4</td>\n",
              "    </tr>\n",
              "  </tbody>\n",
              "</table>\n",
              "</div>"
            ],
            "text/plain": [
              "                            date  ... target\n",
              "Id                                ...       \n",
              "0   Fri Jun 05 22:04:23 PDT 2009  ...      4\n",
              "1   Sat Jun 06 03:12:21 PDT 2009  ...      4\n",
              "2   Sat May 30 19:02:49 PDT 2009  ...      4\n",
              "3   Thu Jun 25 05:59:18 PDT 2009  ...      0\n",
              "4   Sat May 30 11:16:35 PDT 2009  ...      4\n",
              "\n",
              "[5 rows x 4 columns]"
            ]
          },
          "metadata": {
            "tags": []
          },
          "execution_count": 26
        }
      ]
    },
    {
      "cell_type": "code",
      "metadata": {
        "trusted": true,
        "id": "XBQoIFFUd2Qf",
        "colab_type": "code",
        "colab": {
          "base_uri": "https://localhost:8080/",
          "height": 34
        },
        "outputId": "de398d6e-91a7-422d-ff5b-b0112191bd69"
      },
      "source": [
        "len(train)"
      ],
      "execution_count": 27,
      "outputs": [
        {
          "output_type": "execute_result",
          "data": {
            "text/plain": [
              "1280000"
            ]
          },
          "metadata": {
            "tags": []
          },
          "execution_count": 27
        }
      ]
    },
    {
      "cell_type": "code",
      "metadata": {
        "trusted": true,
        "id": "WreW1T1zd2Qj",
        "colab_type": "code",
        "colab": {}
      },
      "source": [
        "# pd.set_option('display.max_colwidth',-1)\n",
        "# train['text'][:10]"
      ],
      "execution_count": 0,
      "outputs": []
    },
    {
      "cell_type": "code",
      "metadata": {
        "trusted": true,
        "id": "p0H_NZXVd2Qo",
        "colab_type": "code",
        "colab": {}
      },
      "source": [
        "# text = [text for text in train['text']]\n",
        "# text[:3]"
      ],
      "execution_count": 0,
      "outputs": []
    },
    {
      "cell_type": "markdown",
      "metadata": {
        "id": "1LTN99IVd2Qt",
        "colab_type": "text"
      },
      "source": [
        "## Test tokenization"
      ]
    },
    {
      "cell_type": "code",
      "metadata": {
        "trusted": true,
        "id": "JS5FU2xrd2Qv",
        "colab_type": "code",
        "colab": {}
      },
      "source": [
        "# Str = \"\"\"aysha   \\tkamal\n",
        "\n",
        "# also this is two new\\x0b\\x0clines\"\"\"\n",
        "# \"\".join([replacements.get(c,c) for c in Str])"
      ],
      "execution_count": 0,
      "outputs": []
    },
    {
      "cell_type": "code",
      "metadata": {
        "trusted": true,
        "id": "0qH0P6-vd2Q0",
        "colab_type": "code",
        "colab": {}
      },
      "source": [
        "# import re\n",
        "\n",
        "# hum = re.compile(\"([\\'!\\\"#$%&()*+,-./:;<=>?@[\\]^_`{|}~\\\\\\])\")"
      ],
      "execution_count": 0,
      "outputs": []
    },
    {
      "cell_type": "code",
      "metadata": {
        "trusted": true,
        "id": "EeaebUYwd2Q6",
        "colab_type": "code",
        "colab": {}
      },
      "source": [
        "# Str = \"\\\\\\\\\\\\\\\\\\\\\\\\\"\n",
        "# x = hum.sub(r' \\1 ',Str);\n",
        "# print(x)"
      ],
      "execution_count": 0,
      "outputs": []
    },
    {
      "cell_type": "code",
      "metadata": {
        "trusted": true,
        "id": "O39yF-ONd2RA",
        "colab_type": "code",
        "colab": {}
      },
      "source": [
        "# Str = \"aysha aren't you the                 sweetest?+,-./:;text<=lol>?@[\\kamal\"\n",
        "# x = hum.sub(r' \\1 ',Str);\n",
        "# print(x)"
      ],
      "execution_count": 0,
      "outputs": []
    },
    {
      "cell_type": "code",
      "metadata": {
        "trusted": true,
        "id": "Uta_Ayhod2RE",
        "colab_type": "code",
        "colab": {}
      },
      "source": [
        "# re_apos = re.compile(r\"n ' t \")    # n't\n",
        "# re_bpos = re.compile(r\" ' s \")     # 's\n",
        "# re_mult_space = re.compile(r\"  *\") # replace multiple spaces with just one\n",
        "\n",
        "# sent = re_apos.sub(r\" n't \", x)\n",
        "# sent = re_bpos.sub(r\" 's \", sent)\n",
        "# sent = re_mult_space.sub(' ', sent) ; sent"
      ],
      "execution_count": 0,
      "outputs": []
    },
    {
      "cell_type": "code",
      "metadata": {
        "trusted": true,
        "id": "6VrkFM0wd2RI",
        "colab_type": "code",
        "colab": {}
      },
      "source": [
        "# print(sent)"
      ],
      "execution_count": 0,
      "outputs": []
    },
    {
      "cell_type": "code",
      "metadata": {
        "trusted": true,
        "id": "3sld8eFnd2RN",
        "colab_type": "code",
        "colab": {}
      },
      "source": [
        "# sent=\"AYSHA kamal Tanny TANny\"\n",
        "# ret = ['xbos']\n",
        "# for w in sent.split():\n",
        "#     if w.isupper():\n",
        "#         ret.append('xwup')\n",
        "#     elif w[0].isupper():\n",
        "#         ret.append('xup')\n",
        "#     ret.append(w.lower())\n",
        "# ret"
      ],
      "execution_count": 0,
      "outputs": []
    },
    {
      "cell_type": "markdown",
      "metadata": {
        "id": "58fes6m4d2RT",
        "colab_type": "text"
      },
      "source": [
        "## Tokenization"
      ]
    },
    {
      "cell_type": "code",
      "metadata": {
        "trusted": true,
        "id": "SaswC4ESd2RU",
        "colab_type": "code",
        "colab": {}
      },
      "source": [
        "### All tokenizations combined\n",
        "re_punc = re.compile(\"([\\'!\\\"#$%&()*+,-./:;<=>?@[\\]^_`{|}~\\\\\\])\") # add spaces around punctuation\n",
        "## () for capturing group, [] for one of the groups in the braces\n",
        "re_apos = re.compile(r\"n ' t \")    # n't\n",
        "re_bpos = re.compile(r\" ' s \")     # 's\n",
        "re_mult_space = re.compile(r\"  *\") # replace multiple spaces with just one\n",
        "replacements = {'\\t':' ','\\n':' ','\\r':' ','\\x0b':' ','\\x0c':' '}\n",
        "\n",
        "def simple_toks(sent):\n",
        "    sent = \"\".join([replacements.get(c,c) for c in sent])\n",
        "    sent = re_punc.sub(r\" \\1 \", sent) # \\1 is the group that we have captured\n",
        "    sent = re_apos.sub(r\" n't \", sent)\n",
        "    sent = re_bpos.sub(r\" 's \", sent)\n",
        "    sent = re_mult_space.sub(' ', sent)\n",
        "    ret = ['xbos']\n",
        "    for w in sent.split():\n",
        "        if w.isupper():\n",
        "            ret.append('xwup')\n",
        "        elif w[0].isupper():\n",
        "            ret.append('xup')\n",
        "        ret.append(w.lower())\n",
        "    return ret"
      ],
      "execution_count": 0,
      "outputs": []
    },
    {
      "cell_type": "code",
      "metadata": {
        "trusted": true,
        "id": "ksGCDiHJd2RZ",
        "colab_type": "code",
        "colab": {}
      },
      "source": [
        "textlist = train['text'].apply(simple_toks).tolist()"
      ],
      "execution_count": 0,
      "outputs": []
    },
    {
      "cell_type": "code",
      "metadata": {
        "trusted": true,
        "id": "ZotK5Ibfd2Re",
        "colab_type": "code",
        "colab": {}
      },
      "source": [
        "with open(\"tokenized.txt\", \"wb\") as fp:   #Pickling\n",
        "    pickle.dump(textlist, fp)\n",
        "\n",
        "# with open(\"tokenized.txt\", \"rb\") as fp:   # Unpickling\n",
        "#     textlist = pickle.load(fp)"
      ],
      "execution_count": 0,
      "outputs": []
    },
    {
      "cell_type": "markdown",
      "metadata": {
        "id": "CKx6dwX9d2Ri",
        "colab_type": "text"
      },
      "source": [
        "## Vocabulary Creation"
      ]
    },
    {
      "cell_type": "code",
      "metadata": {
        "trusted": true,
        "id": "iMYmVftqd2Rk",
        "colab_type": "code",
        "colab": {}
      },
      "source": [
        "from collections import Counter\n",
        "full_vocab = Counter([w for row in textlist for w in row])"
      ],
      "execution_count": 0,
      "outputs": []
    },
    {
      "cell_type": "code",
      "metadata": {
        "trusted": true,
        "id": "6oMCnNovd2Rs",
        "colab_type": "code",
        "colab": {
          "base_uri": "https://localhost:8080/",
          "height": 34
        },
        "outputId": "4ea3458a-0f97-467b-acb5-a5e702456bf9"
      },
      "source": [
        "## 192 total characters\n",
        "len(full_vocab)"
      ],
      "execution_count": 32,
      "outputs": [
        {
          "output_type": "execute_result",
          "data": {
            "text/plain": [
              "575227"
            ]
          },
          "metadata": {
            "tags": []
          },
          "execution_count": 32
        }
      ]
    },
    {
      "cell_type": "code",
      "metadata": {
        "trusted": true,
        "id": "lfxStVBVd2R0",
        "colab_type": "code",
        "colab": {
          "base_uri": "https://localhost:8080/",
          "height": 34
        },
        "outputId": "9f709e1d-2ae8-400b-e11b-84537cf583a4"
      },
      "source": [
        "itos = ['xunk']+[word for word,cnt in full_vocab.most_common(60000)]\n",
        "len(itos)"
      ],
      "execution_count": 33,
      "outputs": [
        {
          "output_type": "execute_result",
          "data": {
            "text/plain": [
              "60001"
            ]
          },
          "metadata": {
            "tags": []
          },
          "execution_count": 33
        }
      ]
    },
    {
      "cell_type": "code",
      "metadata": {
        "trusted": true,
        "id": "QknWnJP6d2R7",
        "colab_type": "code",
        "colab": {
          "base_uri": "https://localhost:8080/",
          "height": 34
        },
        "outputId": "fe1b70be-5408-4c61-978d-06c6f68ef22f"
      },
      "source": [
        "stoi = {w:i for i,w in enumerate(itos)}\n",
        "len(stoi)"
      ],
      "execution_count": 34,
      "outputs": [
        {
          "output_type": "execute_result",
          "data": {
            "text/plain": [
              "60001"
            ]
          },
          "metadata": {
            "tags": []
          },
          "execution_count": 34
        }
      ]
    },
    {
      "cell_type": "markdown",
      "metadata": {
        "id": "X7npyA-md2R_",
        "colab_type": "text"
      },
      "source": [
        "60k is MORE THAN ENOUGH I think"
      ]
    },
    {
      "cell_type": "markdown",
      "metadata": {
        "id": "ieV-77Osd2SB",
        "colab_type": "text"
      },
      "source": [
        "## Remove other words"
      ]
    },
    {
      "cell_type": "code",
      "metadata": {
        "trusted": true,
        "id": "7Z6vwKR5d2SC",
        "colab_type": "code",
        "colab": {}
      },
      "source": [
        "# ## debug time\n",
        "# original = textlist\n",
        "# textlist = textlist[:10000]\n",
        "# len(original), len(textlist)"
      ],
      "execution_count": 0,
      "outputs": []
    },
    {
      "cell_type": "code",
      "metadata": {
        "trusted": true,
        "_kg_hide-output": true,
        "id": "3NDLicIyd2SI",
        "colab_type": "code",
        "colab": {}
      },
      "source": [
        "# textlistfin=[[w if w in itos else itos[0] for w in sent] for sent in textlist]\n",
        "# len(textlistfin), len(textlist)"
      ],
      "execution_count": 0,
      "outputs": []
    },
    {
      "cell_type": "markdown",
      "metadata": {
        "id": "xdGmWaHRd2SM",
        "colab_type": "text"
      },
      "source": [
        " ## Numericalisation + remove unknown words"
      ]
    },
    {
      "cell_type": "code",
      "metadata": {
        "trusted": true,
        "id": "5GN_fmvod2SN",
        "colab_type": "code",
        "colab": {}
      },
      "source": [
        "# ## testing\n",
        "# textlist_test = train['text'][:10].apply(simple_toks).tolist()\n",
        "# nums_test = [[stoi[w] if w in itos else 0 for w in sent] for sent in textlist_test]"
      ],
      "execution_count": 0,
      "outputs": []
    },
    {
      "cell_type": "code",
      "metadata": {
        "trusted": true,
        "id": "IE5ViJVXd2SR",
        "colab_type": "code",
        "colab": {
          "base_uri": "https://localhost:8080/",
          "height": 34
        },
        "outputId": "8253ac24-8e49-463d-fb8c-a0b33e23cc87"
      },
      "source": [
        "nums = [[stoi[w] if w in itos else 0 for w in sent] for sent in textlist] ##so slow tho, NEED a way to parallel process\n",
        "len(nums)"
      ],
      "execution_count": 35,
      "outputs": [
        {
          "output_type": "execute_result",
          "data": {
            "text/plain": [
              "1280000"
            ]
          },
          "metadata": {
            "tags": []
          },
          "execution_count": 35
        }
      ]
    },
    {
      "cell_type": "markdown",
      "metadata": {
        "id": "8_th8MCMd2SW",
        "colab_type": "text"
      },
      "source": [
        "## labels"
      ]
    },
    {
      "cell_type": "code",
      "metadata": {
        "trusted": true,
        "id": "Jm9vLbxLd2SY",
        "colab_type": "code",
        "colab": {}
      },
      "source": [
        "labels = train['target']/4"
      ],
      "execution_count": 0,
      "outputs": []
    },
    {
      "cell_type": "code",
      "metadata": {
        "trusted": true,
        "id": "yFD6HECMd2Sc",
        "colab_type": "code",
        "colab": {}
      },
      "source": [
        "# ## debug time\n",
        "# originalLabel = labels\n",
        "# labels = labels[:10000]\n",
        "# len(originalLabel), len(labels)"
      ],
      "execution_count": 0,
      "outputs": []
    },
    {
      "cell_type": "code",
      "metadata": {
        "trusted": true,
        "id": "Wb9dyhbsd2Sh",
        "colab_type": "code",
        "colab": {
          "base_uri": "https://localhost:8080/",
          "height": 34
        },
        "outputId": "c7d95b19-1c94-4515-aa61-c308e3d3e37a"
      },
      "source": [
        "type(labels), labels.shape"
      ],
      "execution_count": 38,
      "outputs": [
        {
          "output_type": "execute_result",
          "data": {
            "text/plain": [
              "(pandas.core.series.Series, (1280000,))"
            ]
          },
          "metadata": {
            "tags": []
          },
          "execution_count": 38
        }
      ]
    },
    {
      "cell_type": "code",
      "metadata": {
        "trusted": true,
        "id": "6PdIHHP6d2So",
        "colab_type": "code",
        "colab": {}
      },
      "source": [
        "labels = np.array(labels).reshape(-1,1)"
      ],
      "execution_count": 0,
      "outputs": []
    },
    {
      "cell_type": "markdown",
      "metadata": {
        "id": "FoycJnx-d2Sy",
        "colab_type": "text"
      },
      "source": [
        "## Padding"
      ]
    },
    {
      "cell_type": "code",
      "metadata": {
        "trusted": true,
        "id": "WMmp72r9d2S0",
        "colab_type": "code",
        "colab": {}
      },
      "source": [
        "max_length=50"
      ],
      "execution_count": 0,
      "outputs": []
    },
    {
      "cell_type": "code",
      "metadata": {
        "trusted": true,
        "id": "4FCUdjNHd2S6",
        "colab_type": "code",
        "colab": {}
      },
      "source": [
        "padded = pad_sequences(nums, maxlen=max_length, padding='post', truncating='post', value=0)"
      ],
      "execution_count": 0,
      "outputs": []
    },
    {
      "cell_type": "code",
      "metadata": {
        "trusted": true,
        "id": "OWo6mhead2TA",
        "colab_type": "code",
        "colab": {
          "base_uri": "https://localhost:8080/",
          "height": 34
        },
        "outputId": "4f8e9e27-2393-4043-ea1f-909d712914c3"
      },
      "source": [
        "padded.shape"
      ],
      "execution_count": 42,
      "outputs": [
        {
          "output_type": "execute_result",
          "data": {
            "text/plain": [
              "(1280000, 50)"
            ]
          },
          "metadata": {
            "tags": []
          },
          "execution_count": 42
        }
      ]
    },
    {
      "cell_type": "markdown",
      "metadata": {
        "id": "dLD5Eamgd2TJ",
        "colab_type": "text"
      },
      "source": [
        "## Split"
      ]
    },
    {
      "cell_type": "code",
      "metadata": {
        "trusted": true,
        "id": "RBGF2eEHd2TL",
        "colab_type": "code",
        "colab": {}
      },
      "source": [
        "xtrain, xtest, ytrain, ytest = train_test_split(padded,labels,test_size = 0.1,random_state = 42)"
      ],
      "execution_count": 0,
      "outputs": []
    },
    {
      "cell_type": "markdown",
      "metadata": {
        "id": "oSbJyc0Ud2TS",
        "colab_type": "text"
      },
      "source": [
        "## The model"
      ]
    },
    {
      "cell_type": "code",
      "metadata": {
        "trusted": true,
        "id": "IOxkSr3fd2TU",
        "colab_type": "code",
        "colab": {}
      },
      "source": [
        "xTrain = torch.from_numpy(xtrain).type(torch.LongTensor).to(device)\n",
        "yTrain = torch.from_numpy(ytrain).type(torch.FloatTensor).to(device)\n",
        "\n",
        "xTest = torch.from_numpy(xtest).type(torch.LongTensor).to(device)\n",
        "yTest = torch.from_numpy(ytest).type(torch.FloatTensor).to(device)"
      ],
      "execution_count": 0,
      "outputs": []
    },
    {
      "cell_type": "code",
      "metadata": {
        "trusted": true,
        "id": "-GPAaT10d2Ta",
        "colab_type": "code",
        "colab": {
          "base_uri": "https://localhost:8080/",
          "height": 85
        },
        "outputId": "5239cb62-1102-4299-b952-5293b6770df8"
      },
      "source": [
        "xTrain.shape, yTrain.shape, xTest.shape, yTest.shape"
      ],
      "execution_count": 45,
      "outputs": [
        {
          "output_type": "execute_result",
          "data": {
            "text/plain": [
              "(torch.Size([1152000, 50]),\n",
              " torch.Size([1152000, 1]),\n",
              " torch.Size([128000, 50]),\n",
              " torch.Size([128000, 1]))"
            ]
          },
          "metadata": {
            "tags": []
          },
          "execution_count": 45
        }
      ]
    },
    {
      "cell_type": "code",
      "metadata": {
        "trusted": true,
        "id": "zVQoQWL3d2Tf",
        "colab_type": "code",
        "colab": {
          "base_uri": "https://localhost:8080/",
          "height": 34
        },
        "outputId": "3a10ecd8-7c2f-4cc3-9079-8049e427c351"
      },
      "source": [
        "xTrain.dtype, yTrain.dtype, xTest.dtype, yTest.dtype"
      ],
      "execution_count": 46,
      "outputs": [
        {
          "output_type": "execute_result",
          "data": {
            "text/plain": [
              "(torch.int64, torch.float32, torch.int64, torch.float32)"
            ]
          },
          "metadata": {
            "tags": []
          },
          "execution_count": 46
        }
      ]
    },
    {
      "cell_type": "code",
      "metadata": {
        "trusted": true,
        "id": "pFjitNs6d2Tj",
        "colab_type": "code",
        "colab": {
          "base_uri": "https://localhost:8080/",
          "height": 34
        },
        "outputId": "b2debff8-72ce-4197-d919-cddd610a9fbb"
      },
      "source": [
        "xTrain.is_cuda"
      ],
      "execution_count": 47,
      "outputs": [
        {
          "output_type": "execute_result",
          "data": {
            "text/plain": [
              "True"
            ]
          },
          "metadata": {
            "tags": []
          },
          "execution_count": 47
        }
      ]
    },
    {
      "cell_type": "code",
      "metadata": {
        "trusted": true,
        "id": "VEUOX7zkd2To",
        "colab_type": "code",
        "colab": {}
      },
      "source": [
        "batch_size = 100\n",
        "num_epochs = 20\n",
        "\n",
        "# dataset\n",
        "train = torch.utils.data.TensorDataset(xTrain,yTrain)\n",
        "test = torch.utils.data.TensorDataset(xTest,yTest)\n",
        "\n",
        "# data loader\n",
        "train_loader = torch.utils.data.DataLoader(train, batch_size = batch_size, shuffle = True)\n",
        "test_loader = torch.utils.data.DataLoader(test, batch_size = batch_size, shuffle = True)"
      ],
      "execution_count": 0,
      "outputs": []
    },
    {
      "cell_type": "code",
      "metadata": {
        "trusted": true,
        "id": "u7XqRUrCd2Tt",
        "colab_type": "code",
        "colab": {}
      },
      "source": [
        "class memodel(nn.Module):\n",
        "    def __init__(self, vocabsz, mxlen):\n",
        "        super().__init__()\n",
        "        self.vocab_size=vocabsz\n",
        "        self.mx_len=mxlen\n",
        "        ##config\n",
        "        self.embd_size=100\n",
        "        self.hidden_dim=50\n",
        "        self.hidden_dim2=10\n",
        "        self.layer_dim=2\n",
        "        self.output_dim=1\n",
        "        self.drp=0.5\n",
        "        ##layers\n",
        "        self.embeddings = nn.Embedding(self.vocab_size, self.embd_size)\n",
        "        ##when using pretained\n",
        "#         self.embeddings.weight = nn.Parameter(word_embeddings, requires_grad=False)\n",
        "        self.lstm = nn.LSTM(input_size = self.embd_size,\n",
        "                            hidden_size = self.hidden_dim,\n",
        "                            num_layers = self.layer_dim,\n",
        "                            dropout = self.drp, #keep\n",
        "                            bidirectional = True)\n",
        "        self.dropout = nn.Dropout(self.drp)\n",
        "        self.fc = nn.Linear(2*self.hidden_dim*self.mx_len,self.hidden_dim2) #because bilinear\n",
        "        self.out=nn.Linear(self.hidden_dim2,self.output_dim)\n",
        "        self.out_act = nn.Sigmoid()\n",
        "        self.act = nn.ReLU()\n",
        "    def forward(self, x):\n",
        "        # x.shape = (seq_len, batch_size)\n",
        "        embedded_sent = self.embeddings(x)\n",
        "#         print(embedded_sent.shape)\n",
        "        # embedded_sent.shape = (seq_len, batch_size, embed_size)\n",
        "        lstm_out, (h_n,c_n) = self.lstm(embedded_sent)\n",
        "#         print(lstm_out.shape)\n",
        "        # lstm_out.shape = (seq_len, batch_size, 2 * hidden_size)\n",
        "        linear_output = self.act(self.dropout(self.fc(lstm_out.view(batch_size,-1))))\n",
        "#         print(linear_output.shape)\n",
        "        linear_output2 = self.out_act(self.out(linear_output))\n",
        "#         print(linear_output2.shape)\n",
        "        return linear_output2"
      ],
      "execution_count": 0,
      "outputs": []
    },
    {
      "cell_type": "code",
      "metadata": {
        "trusted": true,
        "id": "ENJQeLYEd2Ty",
        "colab_type": "code",
        "colab": {}
      },
      "source": [
        "model = memodel(len(itos),max_length).to(device)\n",
        "error = nn.BCELoss()\n",
        "opt = torch.optim.Adam(model.parameters(), lr=0.001)"
      ],
      "execution_count": 0,
      "outputs": []
    },
    {
      "cell_type": "code",
      "metadata": {
        "trusted": true,
        "id": "mQP-esajd2T1",
        "colab_type": "code",
        "colab": {}
      },
      "source": [
        "# x,y = next(iter(train_loader))\n",
        "# txt = Variable(x.reshape(-1,batch_size))\n",
        "# lbl = Variable(y)\n",
        "\n",
        "# print(txt.shape, lbl.shape)\n",
        "\n",
        "# outputs = model(txt)"
      ],
      "execution_count": 0,
      "outputs": []
    },
    {
      "cell_type": "code",
      "metadata": {
        "trusted": true,
        "id": "gVNP8qIrd2T_",
        "colab_type": "code",
        "colab": {}
      },
      "source": [
        "loss_list = []\n",
        "iteration_list = []\n",
        "accuracy_list = []\n",
        "train_loss_list = []\n",
        "train_acc_list = []\n",
        "count=0"
      ],
      "execution_count": 0,
      "outputs": []
    },
    {
      "cell_type": "code",
      "metadata": {
        "trusted": true,
        "id": "7-VjsX3wd2UC",
        "colab_type": "code",
        "colab": {
          "base_uri": "https://localhost:8080/",
          "height": 1000
        },
        "outputId": "9322b33f-5cc3-42aa-d347-23ba330e836b"
      },
      "source": [
        "for epoch in range(num_epochs):\n",
        "    train_loss=0\n",
        "    train_total=0\n",
        "    for txt,lbl in train_loader:\n",
        "        model.train()\n",
        "        txt = Variable(txt.reshape(-1,batch_size))\n",
        "        lbl = Variable(lbl)\n",
        "        opt.zero_grad()\n",
        "        outputs = model(txt)\n",
        "        loss = error(outputs, lbl)\n",
        "        loss.backward()\n",
        "        opt.step()\n",
        "        count+=1\n",
        "        train_loss+=loss.data\n",
        "        train_total+=lbl.shape[0]\n",
        "        if count%500==0: #500\n",
        "             with torch.no_grad():\n",
        "                model.eval()\n",
        "                validation_loss=0\n",
        "                total=0\n",
        "                correct=0\n",
        "                for txt,lbl in test_loader:\n",
        "                    txt = Variable(txt.reshape(-1,batch_size))\n",
        "                    lbl = Variable(lbl)\n",
        "                    outputs = model(txt)\n",
        "                    valid_loss = error(outputs, lbl)\n",
        "                    ##loss\n",
        "                    validation_loss+=valid_loss.data\n",
        "                    ##accuracy:\n",
        "                    prediction=outputs.data>=0.5\n",
        "                    total+=lbl.shape[0] #not necessary it will be batch_size\n",
        "                    correct+=(prediction==lbl.type(torch.uint8)).sum()\n",
        "                loss_list.append(validation_loss/total)\n",
        "                accuracy_list.append(100*correct/float(total))\n",
        "                iteration_list.append(count)\n",
        "                train_loss_list.append(train_loss/train_total)\n",
        "                train_loss=0\n",
        "                train_total=0\n",
        "\n",
        "                if count%2000==0: #2000\n",
        "                    print('Iteration/Epoch: {}/{}  trainloss: {} Loss: {}  Accuracy: {} %'.format(count,epoch+1,train_loss_list[-1],loss_list[-1], accuracy_list[-1]))"
      ],
      "execution_count": 56,
      "outputs": [
        {
          "output_type": "stream",
          "text": [
            "Iteration/Epoch: 2000/1  trainloss: 0.005065105855464935 Loss: 0.004657149780541658  Accuracy: 78 %\n",
            "Iteration/Epoch: 4000/1  trainloss: 0.0049364459700882435 Loss: 0.004589539486914873  Accuracy: 78 %\n",
            "Iteration/Epoch: 6000/1  trainloss: 0.00480145076289773 Loss: 0.004479596856981516  Accuracy: 79 %\n",
            "Iteration/Epoch: 8000/1  trainloss: 0.0047453781589865685 Loss: 0.004395619500428438  Accuracy: 79 %\n",
            "Iteration/Epoch: 10000/1  trainloss: 0.004751995205879211 Loss: 0.004368609748780727  Accuracy: 79 %\n",
            "Iteration/Epoch: 12000/2  trainloss: 0.004614599514752626 Loss: 0.00436389958485961  Accuracy: 80 %\n",
            "Iteration/Epoch: 14000/2  trainloss: 0.0045767370611429214 Loss: 0.004326497204601765  Accuracy: 79 %\n",
            "Iteration/Epoch: 16000/2  trainloss: 0.004603560082614422 Loss: 0.0043096644803881645  Accuracy: 80 %\n",
            "Iteration/Epoch: 18000/2  trainloss: 0.0046049668453633785 Loss: 0.004330892115831375  Accuracy: 79 %\n",
            "Iteration/Epoch: 20000/2  trainloss: 0.00458318367600441 Loss: 0.004268149379640818  Accuracy: 80 %\n",
            "Iteration/Epoch: 22000/2  trainloss: 0.004576835315674543 Loss: 0.004251922946423292  Accuracy: 80 %\n",
            "Iteration/Epoch: 24000/3  trainloss: 0.004461349919438362 Loss: 0.0042652166448533535  Accuracy: 80 %\n",
            "Iteration/Epoch: 26000/3  trainloss: 0.004497281275689602 Loss: 0.004264979623258114  Accuracy: 80 %\n",
            "Iteration/Epoch: 28000/3  trainloss: 0.004465230740606785 Loss: 0.004266883246600628  Accuracy: 80 %\n",
            "Iteration/Epoch: 30000/3  trainloss: 0.0044691190123558044 Loss: 0.004229349549859762  Accuracy: 80 %\n",
            "Iteration/Epoch: 32000/3  trainloss: 0.004451695829629898 Loss: 0.004244137089699507  Accuracy: 80 %\n",
            "Iteration/Epoch: 34000/3  trainloss: 0.004509520251303911 Loss: 0.004233268089592457  Accuracy: 80 %\n",
            "Iteration/Epoch: 36000/4  trainloss: 0.004402116406708956 Loss: 0.004292687401175499  Accuracy: 80 %\n",
            "Iteration/Epoch: 38000/4  trainloss: 0.004401042591780424 Loss: 0.004256198648363352  Accuracy: 80 %\n",
            "Iteration/Epoch: 40000/4  trainloss: 0.004405938554555178 Loss: 0.004252349026501179  Accuracy: 80 %\n",
            "Iteration/Epoch: 42000/4  trainloss: 0.004427531734108925 Loss: 0.004228433594107628  Accuracy: 80 %\n",
            "Iteration/Epoch: 44000/4  trainloss: 0.00444450369104743 Loss: 0.004240844398736954  Accuracy: 80 %\n",
            "Iteration/Epoch: 46000/4  trainloss: 0.004422818776220083 Loss: 0.00423286622390151  Accuracy: 80 %\n",
            "Iteration/Epoch: 48000/5  trainloss: 0.004366396460682154 Loss: 0.004242273047566414  Accuracy: 80 %\n",
            "Iteration/Epoch: 50000/5  trainloss: 0.004457212518900633 Loss: 0.004237817134708166  Accuracy: 80 %\n",
            "Iteration/Epoch: 52000/5  trainloss: 0.004393921699374914 Loss: 0.004253267776221037  Accuracy: 80 %\n",
            "Iteration/Epoch: 54000/5  trainloss: 0.0043755569495260715 Loss: 0.004226784687489271  Accuracy: 80 %\n",
            "Iteration/Epoch: 56000/5  trainloss: 0.004442398902028799 Loss: 0.004254388622939587  Accuracy: 80 %\n",
            "Iteration/Epoch: 58000/6  trainloss: 0.0043259719386696815 Loss: 0.00424565002322197  Accuracy: 80 %\n",
            "Iteration/Epoch: 60000/6  trainloss: 0.00430978974327445 Loss: 0.004224047530442476  Accuracy: 80 %\n",
            "Iteration/Epoch: 62000/6  trainloss: 0.004356708377599716 Loss: 0.004233091603964567  Accuracy: 80 %\n",
            "Iteration/Epoch: 64000/6  trainloss: 0.004361089784651995 Loss: 0.004244553856551647  Accuracy: 80 %\n",
            "Iteration/Epoch: 66000/6  trainloss: 0.004376368131488562 Loss: 0.004228818230330944  Accuracy: 80 %\n",
            "Iteration/Epoch: 68000/6  trainloss: 0.004361982923001051 Loss: 0.004235400818288326  Accuracy: 80 %\n",
            "Iteration/Epoch: 70000/7  trainloss: 0.004273836500942707 Loss: 0.004257285036146641  Accuracy: 80 %\n",
            "Iteration/Epoch: 72000/7  trainloss: 0.004303318914026022 Loss: 0.004254539031535387  Accuracy: 80 %\n",
            "Iteration/Epoch: 74000/7  trainloss: 0.004323352128267288 Loss: 0.004247541073709726  Accuracy: 80 %\n",
            "Iteration/Epoch: 76000/7  trainloss: 0.004382910206913948 Loss: 0.0042288037948310375  Accuracy: 80 %\n",
            "Iteration/Epoch: 78000/7  trainloss: 0.00437058275565505 Loss: 0.004238399676978588  Accuracy: 80 %\n",
            "Iteration/Epoch: 80000/7  trainloss: 0.004324876703321934 Loss: 0.004230838268995285  Accuracy: 80 %\n",
            "Iteration/Epoch: 82000/8  trainloss: 0.004290552344173193 Loss: 0.004260507877916098  Accuracy: 80 %\n",
            "Iteration/Epoch: 84000/8  trainloss: 0.004284988157451153 Loss: 0.00425708619877696  Accuracy: 80 %\n",
            "Iteration/Epoch: 86000/8  trainloss: 0.0043115741573274136 Loss: 0.004262211266905069  Accuracy: 80 %\n",
            "Iteration/Epoch: 88000/8  trainloss: 0.004299192223697901 Loss: 0.004265832714736462  Accuracy: 80 %\n",
            "Iteration/Epoch: 90000/8  trainloss: 0.004307003226131201 Loss: 0.004266372416168451  Accuracy: 80 %\n",
            "Iteration/Epoch: 92000/8  trainloss: 0.00429608765989542 Loss: 0.004251974169164896  Accuracy: 80 %\n",
            "Iteration/Epoch: 94000/9  trainloss: 0.004267670679837465 Loss: 0.004272692371159792  Accuracy: 80 %\n",
            "Iteration/Epoch: 96000/9  trainloss: 0.004237725865095854 Loss: 0.004246142227202654  Accuracy: 80 %\n",
            "Iteration/Epoch: 98000/9  trainloss: 0.00429426459595561 Loss: 0.0042649791575968266  Accuracy: 80 %\n",
            "Iteration/Epoch: 100000/9  trainloss: 0.0043685478158295155 Loss: 0.004255674779415131  Accuracy: 80 %\n",
            "Iteration/Epoch: 102000/9  trainloss: 0.004295742604881525 Loss: 0.004249501042068005  Accuracy: 80 %\n",
            "Iteration/Epoch: 104000/10  trainloss: 0.004163910169154406 Loss: 0.0042836349457502365  Accuracy: 80 %\n",
            "Iteration/Epoch: 106000/10  trainloss: 0.004234187304973602 Loss: 0.004264843184500933  Accuracy: 80 %\n",
            "Iteration/Epoch: 108000/10  trainloss: 0.004245498683303595 Loss: 0.004247857723385096  Accuracy: 80 %\n",
            "Iteration/Epoch: 110000/10  trainloss: 0.004316373728215694 Loss: 0.004269515164196491  Accuracy: 80 %\n",
            "Iteration/Epoch: 112000/10  trainloss: 0.0043024602346122265 Loss: 0.0042876568622887135  Accuracy: 80 %\n",
            "Iteration/Epoch: 114000/10  trainloss: 0.00427605165168643 Loss: 0.004248525016009808  Accuracy: 80 %\n",
            "Iteration/Epoch: 116000/11  trainloss: 0.00418015057221055 Loss: 0.0042977421544492245  Accuracy: 80 %\n",
            "Iteration/Epoch: 118000/11  trainloss: 0.004211151506751776 Loss: 0.004280081018805504  Accuracy: 80 %\n",
            "Iteration/Epoch: 120000/11  trainloss: 0.004190218634903431 Loss: 0.004279732704162598  Accuracy: 80 %\n",
            "Iteration/Epoch: 122000/11  trainloss: 0.004231750033795834 Loss: 0.004274996928870678  Accuracy: 80 %\n",
            "Iteration/Epoch: 124000/11  trainloss: 0.004238208290189505 Loss: 0.0042790817096829414  Accuracy: 80 %\n",
            "Iteration/Epoch: 126000/11  trainloss: 0.004279822111129761 Loss: 0.00426306389272213  Accuracy: 80 %\n",
            "Iteration/Epoch: 128000/12  trainloss: 0.004190385807305574 Loss: 0.004284366965293884  Accuracy: 80 %\n",
            "Iteration/Epoch: 130000/12  trainloss: 0.004246481694281101 Loss: 0.004322423133999109  Accuracy: 80 %\n",
            "Iteration/Epoch: 132000/12  trainloss: 0.004228298552334309 Loss: 0.004301879089325666  Accuracy: 80 %\n",
            "Iteration/Epoch: 134000/12  trainloss: 0.004256907384842634 Loss: 0.004295571241527796  Accuracy: 80 %\n",
            "Iteration/Epoch: 136000/12  trainloss: 0.0042503452859818935 Loss: 0.004303468391299248  Accuracy: 80 %\n",
            "Iteration/Epoch: 138000/12  trainloss: 0.004227390047162771 Loss: 0.004298580810427666  Accuracy: 80 %\n",
            "Iteration/Epoch: 140000/13  trainloss: 0.0041536372154951096 Loss: 0.0043195514008402824  Accuracy: 80 %\n",
            "Iteration/Epoch: 142000/13  trainloss: 0.004172101151198149 Loss: 0.004377203062176704  Accuracy: 80 %\n",
            "Iteration/Epoch: 144000/13  trainloss: 0.00420745462179184 Loss: 0.004326758440583944  Accuracy: 80 %\n",
            "Iteration/Epoch: 146000/13  trainloss: 0.004207799211144447 Loss: 0.004317831248044968  Accuracy: 80 %\n",
            "Iteration/Epoch: 148000/13  trainloss: 0.0042157843708992004 Loss: 0.004277375061064959  Accuracy: 80 %\n",
            "Iteration/Epoch: 150000/14  trainloss: 0.004275203682482243 Loss: 0.004299251362681389  Accuracy: 80 %\n",
            "Iteration/Epoch: 152000/14  trainloss: 0.004200383089482784 Loss: 0.004336047451943159  Accuracy: 80 %\n",
            "Iteration/Epoch: 154000/14  trainloss: 0.004136831033974886 Loss: 0.004305175039917231  Accuracy: 80 %\n",
            "Iteration/Epoch: 156000/14  trainloss: 0.004181608557701111 Loss: 0.004343417473137379  Accuracy: 80 %\n",
            "Iteration/Epoch: 158000/14  trainloss: 0.004219217225909233 Loss: 0.004324091132730246  Accuracy: 80 %\n",
            "Iteration/Epoch: 160000/14  trainloss: 0.004200706258416176 Loss: 0.004337559919804335  Accuracy: 80 %\n",
            "Iteration/Epoch: 162000/15  trainloss: 0.004106908105313778 Loss: 0.004399401601403952  Accuracy: 80 %\n",
            "Iteration/Epoch: 164000/15  trainloss: 0.0041573247872292995 Loss: 0.004337359219789505  Accuracy: 80 %\n",
            "Iteration/Epoch: 166000/15  trainloss: 0.0041193305514752865 Loss: 0.004378165118396282  Accuracy: 80 %\n",
            "Iteration/Epoch: 168000/15  trainloss: 0.004186396952718496 Loss: 0.004315851256251335  Accuracy: 80 %\n",
            "Iteration/Epoch: 170000/15  trainloss: 0.004203944467008114 Loss: 0.004315366968512535  Accuracy: 80 %\n",
            "Iteration/Epoch: 172000/15  trainloss: 0.004230485297739506 Loss: 0.004325076472014189  Accuracy: 80 %\n",
            "Iteration/Epoch: 174000/16  trainloss: 0.004153657238930464 Loss: 0.004359362181276083  Accuracy: 80 %\n",
            "Iteration/Epoch: 176000/16  trainloss: 0.004185129422694445 Loss: 0.00430067116394639  Accuracy: 80 %\n",
            "Iteration/Epoch: 178000/16  trainloss: 0.004199061077088118 Loss: 0.004322505556046963  Accuracy: 80 %\n",
            "Iteration/Epoch: 180000/16  trainloss: 0.0041420734487473965 Loss: 0.004310709424316883  Accuracy: 80 %\n",
            "Iteration/Epoch: 182000/16  trainloss: 0.004163952078670263 Loss: 0.00440033245831728  Accuracy: 80 %\n",
            "Iteration/Epoch: 184000/16  trainloss: 0.004171987995505333 Loss: 0.004402517806738615  Accuracy: 80 %\n",
            "Iteration/Epoch: 186000/17  trainloss: 0.004123284015804529 Loss: 0.0043392726220190525  Accuracy: 80 %\n",
            "Iteration/Epoch: 188000/17  trainloss: 0.00412122905254364 Loss: 0.004344973713159561  Accuracy: 80 %\n",
            "Iteration/Epoch: 190000/17  trainloss: 0.004151563160121441 Loss: 0.00437003280967474  Accuracy: 80 %\n",
            "Iteration/Epoch: 192000/17  trainloss: 0.0041634333319962025 Loss: 0.004363290499895811  Accuracy: 80 %\n",
            "Iteration/Epoch: 194000/17  trainloss: 0.004140022676438093 Loss: 0.004319960717111826  Accuracy: 80 %\n",
            "Iteration/Epoch: 196000/18  trainloss: 0.004020536784082651 Loss: 0.004367702640593052  Accuracy: 80 %\n",
            "Iteration/Epoch: 198000/18  trainloss: 0.004126733168959618 Loss: 0.004387801047414541  Accuracy: 80 %\n",
            "Iteration/Epoch: 200000/18  trainloss: 0.0041241697035729885 Loss: 0.0043508862145245075  Accuracy: 80 %\n",
            "Iteration/Epoch: 202000/18  trainloss: 0.0041553364135324955 Loss: 0.004316962324082851  Accuracy: 80 %\n",
            "Iteration/Epoch: 204000/18  trainloss: 0.004088173620402813 Loss: 0.004393455572426319  Accuracy: 80 %\n",
            "Iteration/Epoch: 206000/18  trainloss: 0.004162628669291735 Loss: 0.004368179943412542  Accuracy: 80 %\n",
            "Iteration/Epoch: 208000/19  trainloss: 0.004115227144211531 Loss: 0.004429025109857321  Accuracy: 80 %\n",
            "Iteration/Epoch: 210000/19  trainloss: 0.004113443661481142 Loss: 0.004397248383611441  Accuracy: 80 %\n",
            "Iteration/Epoch: 212000/19  trainloss: 0.004139268305152655 Loss: 0.004389551468193531  Accuracy: 80 %\n",
            "Iteration/Epoch: 214000/19  trainloss: 0.004141916520893574 Loss: 0.0043848068453371525  Accuracy: 80 %\n",
            "Iteration/Epoch: 216000/19  trainloss: 0.004141239915043116 Loss: 0.004372991621494293  Accuracy: 80 %\n",
            "Iteration/Epoch: 218000/19  trainloss: 0.004147158935666084 Loss: 0.004359726328402758  Accuracy: 80 %\n",
            "Iteration/Epoch: 220000/20  trainloss: 0.004066344350576401 Loss: 0.004413142800331116  Accuracy: 80 %\n",
            "Iteration/Epoch: 222000/20  trainloss: 0.004111411049962044 Loss: 0.00437037693336606  Accuracy: 80 %\n",
            "Iteration/Epoch: 224000/20  trainloss: 0.004165822174400091 Loss: 0.004371862392872572  Accuracy: 80 %\n",
            "Iteration/Epoch: 226000/20  trainloss: 0.004121297970414162 Loss: 0.004400347825139761  Accuracy: 80 %\n",
            "Iteration/Epoch: 228000/20  trainloss: 0.004146716557443142 Loss: 0.004397785756736994  Accuracy: 80 %\n",
            "Iteration/Epoch: 230000/20  trainloss: 0.004160125739872456 Loss: 0.004424958489835262  Accuracy: 80 %\n"
          ],
          "name": "stdout"
        }
      ]
    },
    {
      "cell_type": "markdown",
      "metadata": {
        "id": "_ohIBrrtIh0c",
        "colab_type": "text"
      },
      "source": [
        "1152000"
      ]
    },
    {
      "cell_type": "code",
      "metadata": {
        "trusted": true,
        "id": "FSYtb9pZd2UI",
        "colab_type": "code",
        "colab": {
          "base_uri": "https://localhost:8080/",
          "height": 34
        },
        "outputId": "7d40463e-7c5e-4da4-e0af-f3d6d711f625"
      },
      "source": [
        "len(iteration_list), len(train_loss_list), len(accuracy_list), len(loss_list)"
      ],
      "execution_count": 57,
      "outputs": [
        {
          "output_type": "execute_result",
          "data": {
            "text/plain": [
              "(460, 460, 460, 460)"
            ]
          },
          "metadata": {
            "tags": []
          },
          "execution_count": 57
        }
      ]
    },
    {
      "cell_type": "code",
      "metadata": {
        "trusted": true,
        "id": "54SwJOCed2UN",
        "colab_type": "code",
        "colab": {
          "base_uri": "https://localhost:8080/",
          "height": 295
        },
        "outputId": "e0d528db-cba9-49a2-c06e-ec089e82c379"
      },
      "source": [
        "# visualization loss \n",
        "plt.plot(iteration_list,loss_list,label='validation')\n",
        "plt.plot(iteration_list,train_loss_list,label='train')\n",
        "plt.xlabel(\"Number of iteration\")\n",
        "plt.ylabel(\"Loss\")\n",
        "plt.legend(loc='best')\n",
        "plt.title(\"RNN: Loss vs Number of iteration\")\n",
        "plt.show()"
      ],
      "execution_count": 58,
      "outputs": [
        {
          "output_type": "display_data",
          "data": {
            "image/png": "[encoded data removed]",
            "text/plain": [
              "<Figure size 432x288 with 1 Axes>"
            ]
          },
          "metadata": {
            "tags": []
          }
        }
      ]
    },
    {
      "cell_type": "code",
      "metadata": {
        "trusted": true,
        "id": "t_ZCuX8nd2Ua",
        "colab_type": "code",
        "colab": {
          "base_uri": "https://localhost:8080/",
          "height": 295
        },
        "outputId": "ad3de01d-4cdc-49a4-e22b-cb3c05e9cb6b"
      },
      "source": [
        "# visualization accuracy \n",
        "plt.plot(iteration_list,accuracy_list,color = \"red\")\n",
        "plt.xlabel(\"Number of iteration\")\n",
        "plt.ylabel(\"Accuracy\")\n",
        "plt.title(\"RNN: Accuracy vs Number of iteration\")\n",
        "plt.savefig('graph.png')\n",
        "plt.show()"
      ],
      "execution_count": 59,
      "outputs": [
        {
          "output_type": "display_data",
          "data": {
            "image/png": "[encoded data removed]",
            "text/plain": [
              "<Figure size 432x288 with 1 Axes>"
            ]
          },
          "metadata": {
            "tags": []
          }
        }
      ]
    },
    {
      "cell_type": "code",
      "metadata": {
        "trusted": true,
        "id": "H9HJle8ld2Uf",
        "colab_type": "code",
        "colab": {}
      },
      "source": [
        "# torch.cuda.is_available()"
      ],
      "execution_count": 0,
      "outputs": []
    },
    {
      "cell_type": "code",
      "metadata": {
        "trusted": true,
        "id": "-y4mi4MLd2Uk",
        "colab_type": "code",
        "colab": {}
      },
      "source": [
        "# import pycuda.driver as cuda\n",
        "# cuda.init()\n",
        "# ## Get Id of default device\n",
        "# torch.cuda.current_device()\n",
        "# # 0\n",
        "# cuda.Device(0).name() # '0' is the id of your GPU\n",
        "# # Tesla K80"
      ],
      "execution_count": 0,
      "outputs": []
    },
    {
      "cell_type": "markdown",
      "metadata": {
        "id": "B3DQwNa0d2Ut",
        "colab_type": "text"
      },
      "source": [
        "## Testing"
      ]
    },
    {
      "cell_type": "code",
      "metadata": {
        "trusted": true,
        "id": "ox23mQtyd2U0",
        "colab_type": "code",
        "colab": {
          "base_uri": "https://localhost:8080/",
          "height": 235
        },
        "outputId": "566ed79e-26a9-4a92-c56d-a50bc7d8f9a8"
      },
      "source": [
        "test = pd.read_csv(files[1],index_col=0)\n",
        "test.head()"
      ],
      "execution_count": 62,
      "outputs": [
        {
          "output_type": "execute_result",
          "data": {
            "text/html": [
              "<div>\n",
              "<style scoped>\n",
              "    .dataframe tbody tr th:only-of-type {\n",
              "        vertical-align: middle;\n",
              "    }\n",
              "\n",
              "    .dataframe tbody tr th {\n",
              "        vertical-align: top;\n",
              "    }\n",
              "\n",
              "    .dataframe thead th {\n",
              "        text-align: right;\n",
              "    }\n",
              "</style>\n",
              "<table border=\"1\" class=\"dataframe\">\n",
              "  <thead>\n",
              "    <tr style=\"text-align: right;\">\n",
              "      <th></th>\n",
              "      <th>date</th>\n",
              "      <th>user</th>\n",
              "      <th>text</th>\n",
              "    </tr>\n",
              "    <tr>\n",
              "      <th>Id</th>\n",
              "      <th></th>\n",
              "      <th></th>\n",
              "      <th></th>\n",
              "    </tr>\n",
              "  </thead>\n",
              "  <tbody>\n",
              "    <tr>\n",
              "      <th>1280000</th>\n",
              "      <td>Tue Jun 16 18:18:12 PDT 2009</td>\n",
              "      <td>LaLaLindsey0609</td>\n",
              "      <td>@chrishasboobs AHHH I HOPE YOUR OK!!!</td>\n",
              "    </tr>\n",
              "    <tr>\n",
              "      <th>1280001</th>\n",
              "      <td>Mon Apr 06 23:11:14 PDT 2009</td>\n",
              "      <td>sexygrneyes</td>\n",
              "      <td>@misstoriblack cool , i have no tweet apps  fo...</td>\n",
              "    </tr>\n",
              "    <tr>\n",
              "      <th>1280002</th>\n",
              "      <td>Tue Jun 23 13:40:11 PDT 2009</td>\n",
              "      <td>sammydearr</td>\n",
              "      <td>@TiannaChaos i know  just family drama. its la...</td>\n",
              "    </tr>\n",
              "    <tr>\n",
              "      <th>1280003</th>\n",
              "      <td>Mon Jun 01 10:26:07 PDT 2009</td>\n",
              "      <td>Lamb_Leanne</td>\n",
              "      <td>School email won't open  and I have geography ...</td>\n",
              "    </tr>\n",
              "    <tr>\n",
              "      <th>1280004</th>\n",
              "      <td>Sat Jun 20 12:56:51 PDT 2009</td>\n",
              "      <td>yogicerdito</td>\n",
              "      <td>upper airways problem</td>\n",
              "    </tr>\n",
              "  </tbody>\n",
              "</table>\n",
              "</div>"
            ],
            "text/plain": [
              "                                 date  ...                                               text\n",
              "Id                                     ...                                                   \n",
              "1280000  Tue Jun 16 18:18:12 PDT 2009  ...             @chrishasboobs AHHH I HOPE YOUR OK!!! \n",
              "1280001  Mon Apr 06 23:11:14 PDT 2009  ...  @misstoriblack cool , i have no tweet apps  fo...\n",
              "1280002  Tue Jun 23 13:40:11 PDT 2009  ...  @TiannaChaos i know  just family drama. its la...\n",
              "1280003  Mon Jun 01 10:26:07 PDT 2009  ...  School email won't open  and I have geography ...\n",
              "1280004  Sat Jun 20 12:56:51 PDT 2009  ...                             upper airways problem \n",
              "\n",
              "[5 rows x 3 columns]"
            ]
          },
          "metadata": {
            "tags": []
          },
          "execution_count": 62
        }
      ]
    },
    {
      "cell_type": "code",
      "metadata": {
        "trusted": true,
        "id": "FdgMBz7id2U4",
        "colab_type": "code",
        "colab": {}
      },
      "source": [
        "textlist = test['text'].apply(simple_toks).tolist()"
      ],
      "execution_count": 0,
      "outputs": []
    },
    {
      "cell_type": "code",
      "metadata": {
        "trusted": true,
        "id": "1zQ3hzG2d2U9",
        "colab_type": "code",
        "colab": {}
      },
      "source": [
        "nums = [[stoi[w] if w in itos else 0 for w in sent] for sent in textlist]"
      ],
      "execution_count": 0,
      "outputs": []
    },
    {
      "cell_type": "code",
      "metadata": {
        "id": "QV_GvQm_L-VL",
        "colab_type": "code",
        "colab": {}
      },
      "source": [
        "with open(\"test_nums.txt\", \"wb\") as fp:   #Pickling\n",
        "    pickle.dump(nums, fp)"
      ],
      "execution_count": 0,
      "outputs": []
    },
    {
      "cell_type": "code",
      "metadata": {
        "trusted": true,
        "id": "OCrKtuvad2VD",
        "colab_type": "code",
        "colab": {}
      },
      "source": [
        "padded = pad_sequences(nums, maxlen=max_length, padding='post', truncating='post', value=0)"
      ],
      "execution_count": 0,
      "outputs": []
    },
    {
      "cell_type": "code",
      "metadata": {
        "trusted": true,
        "id": "JeJLkfBOd2VF",
        "colab_type": "code",
        "colab": {}
      },
      "source": [
        "x = torch.from_numpy(padded).type(torch.LongTensor).to(device)\n",
        "x = torch.utils.data.TensorDataset(x)\n",
        "x_loader = torch.utils.data.DataLoader(x, batch_size = batch_size, shuffle = True)"
      ],
      "execution_count": 0,
      "outputs": []
    },
    {
      "cell_type": "code",
      "metadata": {
        "trusted": true,
        "id": "zenWKSWed2VI",
        "colab_type": "code",
        "colab": {
          "base_uri": "https://localhost:8080/",
          "height": 34
        },
        "outputId": "b0e4a99c-740a-4899-ddd3-c047cfdce070"
      },
      "source": [
        "preds = torch.zeros([len(test),1])\n",
        "preds.shape"
      ],
      "execution_count": 67,
      "outputs": [
        {
          "output_type": "execute_result",
          "data": {
            "text/plain": [
              "torch.Size([320000, 1])"
            ]
          },
          "metadata": {
            "tags": []
          },
          "execution_count": 67
        }
      ]
    },
    {
      "cell_type": "code",
      "metadata": {
        "trusted": true,
        "id": "Wx3S0njDd2VL",
        "colab_type": "code",
        "colab": {}
      },
      "source": [
        "model.eval()\n",
        "cnt=0\n",
        "for txt in x_loader:\n",
        "    bs=txt[0].shape[0]\n",
        "    txt = Variable(txt[0].reshape(-1,bs))\n",
        "    outputs = model(txt)\n",
        "    ncnt=cnt+bs\n",
        "    preds[cnt:ncnt]=(outputs.data>=0.5)\n",
        "    cnt=ncnt"
      ],
      "execution_count": 0,
      "outputs": []
    },
    {
      "cell_type": "code",
      "metadata": {
        "trusted": true,
        "id": "WbCtV2Xvd2VO",
        "colab_type": "code",
        "colab": {}
      },
      "source": [
        "out = pd.Series(preds.numpy().reshape(-1))"
      ],
      "execution_count": 0,
      "outputs": []
    },
    {
      "cell_type": "code",
      "metadata": {
        "trusted": true,
        "id": "YeXufXhad2VU",
        "colab_type": "code",
        "colab": {}
      },
      "source": [
        "out.index=test.index"
      ],
      "execution_count": 0,
      "outputs": []
    },
    {
      "cell_type": "code",
      "metadata": {
        "trusted": true,
        "id": "bSJgX-54d2VY",
        "colab_type": "code",
        "colab": {}
      },
      "source": [
        "out = out.astype(int)"
      ],
      "execution_count": 0,
      "outputs": []
    },
    {
      "cell_type": "code",
      "metadata": {
        "trusted": true,
        "id": "DClKVle5d2Vb",
        "colab_type": "code",
        "colab": {
          "base_uri": "https://localhost:8080/",
          "height": 390
        },
        "outputId": "cfe389ec-6343-4176-d48e-a9a3856c51be"
      },
      "source": [
        "outdf = pd.DataFrame(out*4)\n",
        "outdf.head(10)"
      ],
      "execution_count": 72,
      "outputs": [
        {
          "output_type": "execute_result",
          "data": {
            "text/html": [
              "<div>\n",
              "<style scoped>\n",
              "    .dataframe tbody tr th:only-of-type {\n",
              "        vertical-align: middle;\n",
              "    }\n",
              "\n",
              "    .dataframe tbody tr th {\n",
              "        vertical-align: top;\n",
              "    }\n",
              "\n",
              "    .dataframe thead th {\n",
              "        text-align: right;\n",
              "    }\n",
              "</style>\n",
              "<table border=\"1\" class=\"dataframe\">\n",
              "  <thead>\n",
              "    <tr style=\"text-align: right;\">\n",
              "      <th></th>\n",
              "      <th>0</th>\n",
              "    </tr>\n",
              "    <tr>\n",
              "      <th>Id</th>\n",
              "      <th></th>\n",
              "    </tr>\n",
              "  </thead>\n",
              "  <tbody>\n",
              "    <tr>\n",
              "      <th>1280000</th>\n",
              "      <td>4</td>\n",
              "    </tr>\n",
              "    <tr>\n",
              "      <th>1280001</th>\n",
              "      <td>4</td>\n",
              "    </tr>\n",
              "    <tr>\n",
              "      <th>1280002</th>\n",
              "      <td>0</td>\n",
              "    </tr>\n",
              "    <tr>\n",
              "      <th>1280003</th>\n",
              "      <td>4</td>\n",
              "    </tr>\n",
              "    <tr>\n",
              "      <th>1280004</th>\n",
              "      <td>4</td>\n",
              "    </tr>\n",
              "    <tr>\n",
              "      <th>1280005</th>\n",
              "      <td>4</td>\n",
              "    </tr>\n",
              "    <tr>\n",
              "      <th>1280006</th>\n",
              "      <td>0</td>\n",
              "    </tr>\n",
              "    <tr>\n",
              "      <th>1280007</th>\n",
              "      <td>4</td>\n",
              "    </tr>\n",
              "    <tr>\n",
              "      <th>1280008</th>\n",
              "      <td>4</td>\n",
              "    </tr>\n",
              "    <tr>\n",
              "      <th>1280009</th>\n",
              "      <td>0</td>\n",
              "    </tr>\n",
              "  </tbody>\n",
              "</table>\n",
              "</div>"
            ],
            "text/plain": [
              "         0\n",
              "Id        \n",
              "1280000  4\n",
              "1280001  4\n",
              "1280002  0\n",
              "1280003  4\n",
              "1280004  4\n",
              "1280005  4\n",
              "1280006  0\n",
              "1280007  4\n",
              "1280008  4\n",
              "1280009  0"
            ]
          },
          "metadata": {
            "tags": []
          },
          "execution_count": 72
        }
      ]
    },
    {
      "cell_type": "code",
      "metadata": {
        "trusted": true,
        "id": "SvLJNciod2Vf",
        "colab_type": "code",
        "colab": {}
      },
      "source": [
        "outdf.columns=['target']"
      ],
      "execution_count": 0,
      "outputs": []
    },
    {
      "cell_type": "code",
      "metadata": {
        "trusted": true,
        "id": "A0_PD_kFd2Vj",
        "colab_type": "code",
        "colab": {
          "base_uri": "https://localhost:8080/",
          "height": 390
        },
        "outputId": "6867dcb5-9627-476d-fb5d-b576a8f95dd8"
      },
      "source": [
        "outdf.head(10)"
      ],
      "execution_count": 74,
      "outputs": [
        {
          "output_type": "execute_result",
          "data": {
            "text/html": [
              "<div>\n",
              "<style scoped>\n",
              "    .dataframe tbody tr th:only-of-type {\n",
              "        vertical-align: middle;\n",
              "    }\n",
              "\n",
              "    .dataframe tbody tr th {\n",
              "        vertical-align: top;\n",
              "    }\n",
              "\n",
              "    .dataframe thead th {\n",
              "        text-align: right;\n",
              "    }\n",
              "</style>\n",
              "<table border=\"1\" class=\"dataframe\">\n",
              "  <thead>\n",
              "    <tr style=\"text-align: right;\">\n",
              "      <th></th>\n",
              "      <th>target</th>\n",
              "    </tr>\n",
              "    <tr>\n",
              "      <th>Id</th>\n",
              "      <th></th>\n",
              "    </tr>\n",
              "  </thead>\n",
              "  <tbody>\n",
              "    <tr>\n",
              "      <th>1280000</th>\n",
              "      <td>4</td>\n",
              "    </tr>\n",
              "    <tr>\n",
              "      <th>1280001</th>\n",
              "      <td>4</td>\n",
              "    </tr>\n",
              "    <tr>\n",
              "      <th>1280002</th>\n",
              "      <td>0</td>\n",
              "    </tr>\n",
              "    <tr>\n",
              "      <th>1280003</th>\n",
              "      <td>4</td>\n",
              "    </tr>\n",
              "    <tr>\n",
              "      <th>1280004</th>\n",
              "      <td>4</td>\n",
              "    </tr>\n",
              "    <tr>\n",
              "      <th>1280005</th>\n",
              "      <td>4</td>\n",
              "    </tr>\n",
              "    <tr>\n",
              "      <th>1280006</th>\n",
              "      <td>0</td>\n",
              "    </tr>\n",
              "    <tr>\n",
              "      <th>1280007</th>\n",
              "      <td>4</td>\n",
              "    </tr>\n",
              "    <tr>\n",
              "      <th>1280008</th>\n",
              "      <td>4</td>\n",
              "    </tr>\n",
              "    <tr>\n",
              "      <th>1280009</th>\n",
              "      <td>0</td>\n",
              "    </tr>\n",
              "  </tbody>\n",
              "</table>\n",
              "</div>"
            ],
            "text/plain": [
              "         target\n",
              "Id             \n",
              "1280000       4\n",
              "1280001       4\n",
              "1280002       0\n",
              "1280003       4\n",
              "1280004       4\n",
              "1280005       4\n",
              "1280006       0\n",
              "1280007       4\n",
              "1280008       4\n",
              "1280009       0"
            ]
          },
          "metadata": {
            "tags": []
          },
          "execution_count": 74
        }
      ]
    },
    {
      "cell_type": "code",
      "metadata": {
        "trusted": true,
        "id": "iAE7u0Odd2Vl",
        "colab_type": "code",
        "colab": {}
      },
      "source": [
        "outdf.to_csv('test_output.csv')"
      ],
      "execution_count": 0,
      "outputs": []
    },
    {
      "cell_type": "code",
      "metadata": {
        "trusted": true,
        "id": "Q0tE6UBWd2Vu",
        "colab_type": "code",
        "colab": {}
      },
      "source": [
        "ts = pd.read_csv('test_output.csv')"
      ],
      "execution_count": 0,
      "outputs": []
    },
    {
      "cell_type": "code",
      "metadata": {
        "trusted": true,
        "id": "IvfYxGpNd2Vy",
        "colab_type": "code",
        "colab": {
          "base_uri": "https://localhost:8080/",
          "height": 204
        },
        "outputId": "9e194332-e445-447c-d58e-6e30ee60e5ba"
      },
      "source": [
        "ts.head()"
      ],
      "execution_count": 77,
      "outputs": [
        {
          "output_type": "execute_result",
          "data": {
            "text/html": [
              "<div>\n",
              "<style scoped>\n",
              "    .dataframe tbody tr th:only-of-type {\n",
              "        vertical-align: middle;\n",
              "    }\n",
              "\n",
              "    .dataframe tbody tr th {\n",
              "        vertical-align: top;\n",
              "    }\n",
              "\n",
              "    .dataframe thead th {\n",
              "        text-align: right;\n",
              "    }\n",
              "</style>\n",
              "<table border=\"1\" class=\"dataframe\">\n",
              "  <thead>\n",
              "    <tr style=\"text-align: right;\">\n",
              "      <th></th>\n",
              "      <th>Id</th>\n",
              "      <th>target</th>\n",
              "    </tr>\n",
              "  </thead>\n",
              "  <tbody>\n",
              "    <tr>\n",
              "      <th>0</th>\n",
              "      <td>1280000</td>\n",
              "      <td>4</td>\n",
              "    </tr>\n",
              "    <tr>\n",
              "      <th>1</th>\n",
              "      <td>1280001</td>\n",
              "      <td>4</td>\n",
              "    </tr>\n",
              "    <tr>\n",
              "      <th>2</th>\n",
              "      <td>1280002</td>\n",
              "      <td>0</td>\n",
              "    </tr>\n",
              "    <tr>\n",
              "      <th>3</th>\n",
              "      <td>1280003</td>\n",
              "      <td>4</td>\n",
              "    </tr>\n",
              "    <tr>\n",
              "      <th>4</th>\n",
              "      <td>1280004</td>\n",
              "      <td>4</td>\n",
              "    </tr>\n",
              "  </tbody>\n",
              "</table>\n",
              "</div>"
            ],
            "text/plain": [
              "        Id  target\n",
              "0  1280000       4\n",
              "1  1280001       4\n",
              "2  1280002       0\n",
              "3  1280003       4\n",
              "4  1280004       4"
            ]
          },
          "metadata": {
            "tags": []
          },
          "execution_count": 77
        }
      ]
    },
    {
      "cell_type": "markdown",
      "metadata": {
        "id": "QrEsEPAjd2V4",
        "colab_type": "text"
      },
      "source": [
        "## Required Printing"
      ]
    },
    {
      "cell_type": "code",
      "metadata": {
        "trusted": true,
        "id": "9NaHgsDPd2V5",
        "colab_type": "code",
        "colab": {
          "base_uri": "https://localhost:8080/",
          "height": 1000
        },
        "outputId": "731675c5-491f-4689-949b-2ea1f80f67ba"
      },
      "source": [
        "outdf"
      ],
      "execution_count": 78,
      "outputs": [
        {
          "output_type": "execute_result",
          "data": {
            "text/html": [
              "<div>\n",
              "<style scoped>\n",
              "    .dataframe tbody tr th:only-of-type {\n",
              "        vertical-align: middle;\n",
              "    }\n",
              "\n",
              "    .dataframe tbody tr th {\n",
              "        vertical-align: top;\n",
              "    }\n",
              "\n",
              "    .dataframe thead th {\n",
              "        text-align: right;\n",
              "    }\n",
              "</style>\n",
              "<table border=\"1\" class=\"dataframe\">\n",
              "  <thead>\n",
              "    <tr style=\"text-align: right;\">\n",
              "      <th></th>\n",
              "      <th>target</th>\n",
              "    </tr>\n",
              "    <tr>\n",
              "      <th>Id</th>\n",
              "      <th></th>\n",
              "    </tr>\n",
              "  </thead>\n",
              "  <tbody>\n",
              "    <tr>\n",
              "      <th>1280000</th>\n",
              "      <td>4</td>\n",
              "    </tr>\n",
              "    <tr>\n",
              "      <th>1280001</th>\n",
              "      <td>4</td>\n",
              "    </tr>\n",
              "    <tr>\n",
              "      <th>1280002</th>\n",
              "      <td>0</td>\n",
              "    </tr>\n",
              "    <tr>\n",
              "      <th>1280003</th>\n",
              "      <td>4</td>\n",
              "    </tr>\n",
              "    <tr>\n",
              "      <th>1280004</th>\n",
              "      <td>4</td>\n",
              "    </tr>\n",
              "    <tr>\n",
              "      <th>1280005</th>\n",
              "      <td>4</td>\n",
              "    </tr>\n",
              "    <tr>\n",
              "      <th>1280006</th>\n",
              "      <td>0</td>\n",
              "    </tr>\n",
              "    <tr>\n",
              "      <th>1280007</th>\n",
              "      <td>4</td>\n",
              "    </tr>\n",
              "    <tr>\n",
              "      <th>1280008</th>\n",
              "      <td>4</td>\n",
              "    </tr>\n",
              "    <tr>\n",
              "      <th>1280009</th>\n",
              "      <td>0</td>\n",
              "    </tr>\n",
              "    <tr>\n",
              "      <th>1280010</th>\n",
              "      <td>4</td>\n",
              "    </tr>\n",
              "    <tr>\n",
              "      <th>1280011</th>\n",
              "      <td>0</td>\n",
              "    </tr>\n",
              "    <tr>\n",
              "      <th>1280012</th>\n",
              "      <td>0</td>\n",
              "    </tr>\n",
              "    <tr>\n",
              "      <th>1280013</th>\n",
              "      <td>4</td>\n",
              "    </tr>\n",
              "    <tr>\n",
              "      <th>1280014</th>\n",
              "      <td>0</td>\n",
              "    </tr>\n",
              "    <tr>\n",
              "      <th>1280015</th>\n",
              "      <td>4</td>\n",
              "    </tr>\n",
              "    <tr>\n",
              "      <th>1280016</th>\n",
              "      <td>0</td>\n",
              "    </tr>\n",
              "    <tr>\n",
              "      <th>1280017</th>\n",
              "      <td>0</td>\n",
              "    </tr>\n",
              "    <tr>\n",
              "      <th>1280018</th>\n",
              "      <td>4</td>\n",
              "    </tr>\n",
              "    <tr>\n",
              "      <th>1280019</th>\n",
              "      <td>0</td>\n",
              "    </tr>\n",
              "    <tr>\n",
              "      <th>1280020</th>\n",
              "      <td>4</td>\n",
              "    </tr>\n",
              "    <tr>\n",
              "      <th>1280021</th>\n",
              "      <td>4</td>\n",
              "    </tr>\n",
              "    <tr>\n",
              "      <th>1280022</th>\n",
              "      <td>0</td>\n",
              "    </tr>\n",
              "    <tr>\n",
              "      <th>1280023</th>\n",
              "      <td>0</td>\n",
              "    </tr>\n",
              "    <tr>\n",
              "      <th>1280024</th>\n",
              "      <td>4</td>\n",
              "    </tr>\n",
              "    <tr>\n",
              "      <th>1280025</th>\n",
              "      <td>0</td>\n",
              "    </tr>\n",
              "    <tr>\n",
              "      <th>1280026</th>\n",
              "      <td>4</td>\n",
              "    </tr>\n",
              "    <tr>\n",
              "      <th>1280027</th>\n",
              "      <td>0</td>\n",
              "    </tr>\n",
              "    <tr>\n",
              "      <th>1280028</th>\n",
              "      <td>0</td>\n",
              "    </tr>\n",
              "    <tr>\n",
              "      <th>1280029</th>\n",
              "      <td>4</td>\n",
              "    </tr>\n",
              "    <tr>\n",
              "      <th>...</th>\n",
              "      <td>...</td>\n",
              "    </tr>\n",
              "    <tr>\n",
              "      <th>1599970</th>\n",
              "      <td>4</td>\n",
              "    </tr>\n",
              "    <tr>\n",
              "      <th>1599971</th>\n",
              "      <td>0</td>\n",
              "    </tr>\n",
              "    <tr>\n",
              "      <th>1599972</th>\n",
              "      <td>0</td>\n",
              "    </tr>\n",
              "    <tr>\n",
              "      <th>1599973</th>\n",
              "      <td>0</td>\n",
              "    </tr>\n",
              "    <tr>\n",
              "      <th>1599974</th>\n",
              "      <td>4</td>\n",
              "    </tr>\n",
              "    <tr>\n",
              "      <th>1599975</th>\n",
              "      <td>4</td>\n",
              "    </tr>\n",
              "    <tr>\n",
              "      <th>1599976</th>\n",
              "      <td>0</td>\n",
              "    </tr>\n",
              "    <tr>\n",
              "      <th>1599977</th>\n",
              "      <td>4</td>\n",
              "    </tr>\n",
              "    <tr>\n",
              "      <th>1599978</th>\n",
              "      <td>0</td>\n",
              "    </tr>\n",
              "    <tr>\n",
              "      <th>1599979</th>\n",
              "      <td>0</td>\n",
              "    </tr>\n",
              "    <tr>\n",
              "      <th>1599980</th>\n",
              "      <td>4</td>\n",
              "    </tr>\n",
              "    <tr>\n",
              "      <th>1599981</th>\n",
              "      <td>0</td>\n",
              "    </tr>\n",
              "    <tr>\n",
              "      <th>1599982</th>\n",
              "      <td>0</td>\n",
              "    </tr>\n",
              "    <tr>\n",
              "      <th>1599983</th>\n",
              "      <td>4</td>\n",
              "    </tr>\n",
              "    <tr>\n",
              "      <th>1599984</th>\n",
              "      <td>4</td>\n",
              "    </tr>\n",
              "    <tr>\n",
              "      <th>1599985</th>\n",
              "      <td>4</td>\n",
              "    </tr>\n",
              "    <tr>\n",
              "      <th>1599986</th>\n",
              "      <td>4</td>\n",
              "    </tr>\n",
              "    <tr>\n",
              "      <th>1599987</th>\n",
              "      <td>0</td>\n",
              "    </tr>\n",
              "    <tr>\n",
              "      <th>1599988</th>\n",
              "      <td>4</td>\n",
              "    </tr>\n",
              "    <tr>\n",
              "      <th>1599989</th>\n",
              "      <td>4</td>\n",
              "    </tr>\n",
              "    <tr>\n",
              "      <th>1599990</th>\n",
              "      <td>4</td>\n",
              "    </tr>\n",
              "    <tr>\n",
              "      <th>1599991</th>\n",
              "      <td>0</td>\n",
              "    </tr>\n",
              "    <tr>\n",
              "      <th>1599992</th>\n",
              "      <td>0</td>\n",
              "    </tr>\n",
              "    <tr>\n",
              "      <th>1599993</th>\n",
              "      <td>4</td>\n",
              "    </tr>\n",
              "    <tr>\n",
              "      <th>1599994</th>\n",
              "      <td>0</td>\n",
              "    </tr>\n",
              "    <tr>\n",
              "      <th>1599995</th>\n",
              "      <td>0</td>\n",
              "    </tr>\n",
              "    <tr>\n",
              "      <th>1599996</th>\n",
              "      <td>0</td>\n",
              "    </tr>\n",
              "    <tr>\n",
              "      <th>1599997</th>\n",
              "      <td>0</td>\n",
              "    </tr>\n",
              "    <tr>\n",
              "      <th>1599998</th>\n",
              "      <td>4</td>\n",
              "    </tr>\n",
              "    <tr>\n",
              "      <th>1599999</th>\n",
              "      <td>0</td>\n",
              "    </tr>\n",
              "  </tbody>\n",
              "</table>\n",
              "<p>320000 rows × 1 columns</p>\n",
              "</div>"
            ],
            "text/plain": [
              "         target\n",
              "Id             \n",
              "1280000       4\n",
              "1280001       4\n",
              "1280002       0\n",
              "1280003       4\n",
              "1280004       4\n",
              "1280005       4\n",
              "1280006       0\n",
              "1280007       4\n",
              "1280008       4\n",
              "1280009       0\n",
              "1280010       4\n",
              "1280011       0\n",
              "1280012       0\n",
              "1280013       4\n",
              "1280014       0\n",
              "1280015       4\n",
              "1280016       0\n",
              "1280017       0\n",
              "1280018       4\n",
              "1280019       0\n",
              "1280020       4\n",
              "1280021       4\n",
              "1280022       0\n",
              "1280023       0\n",
              "1280024       4\n",
              "1280025       0\n",
              "1280026       4\n",
              "1280027       0\n",
              "1280028       0\n",
              "1280029       4\n",
              "...         ...\n",
              "1599970       4\n",
              "1599971       0\n",
              "1599972       0\n",
              "1599973       0\n",
              "1599974       4\n",
              "1599975       4\n",
              "1599976       0\n",
              "1599977       4\n",
              "1599978       0\n",
              "1599979       0\n",
              "1599980       4\n",
              "1599981       0\n",
              "1599982       0\n",
              "1599983       4\n",
              "1599984       4\n",
              "1599985       4\n",
              "1599986       4\n",
              "1599987       0\n",
              "1599988       4\n",
              "1599989       4\n",
              "1599990       4\n",
              "1599991       0\n",
              "1599992       0\n",
              "1599993       4\n",
              "1599994       0\n",
              "1599995       0\n",
              "1599996       0\n",
              "1599997       0\n",
              "1599998       4\n",
              "1599999       0\n",
              "\n",
              "[320000 rows x 1 columns]"
            ]
          },
          "metadata": {
            "tags": []
          },
          "execution_count": 78
        }
      ]
    },
    {
      "cell_type": "code",
      "metadata": {
        "trusted": true,
        "id": "FuAzDO5Nd2V8",
        "colab_type": "code",
        "colab": {
          "base_uri": "https://localhost:8080/",
          "height": 34
        },
        "outputId": "febc211b-35d9-46f5-d2e0-e12457dc0ec0"
      },
      "source": [
        "print('training loss {}, validation loss {}, validation accuracy {}'.format(train_loss_list[-1],loss_list[-1],accuracy_list[-1]))"
      ],
      "execution_count": 79,
      "outputs": [
        {
          "output_type": "stream",
          "text": [
            "training loss 0.004160125739872456, validation loss 0.004424958489835262, validation accuracy 80\n"
          ],
          "name": "stdout"
        }
      ]
    },
    {
      "cell_type": "code",
      "metadata": {
        "id": "3tR7QJAYiCn3",
        "colab_type": "code",
        "colab": {}
      },
      "source": [
        ""
      ],
      "execution_count": 0,
      "outputs": []
    }
  ]
}
