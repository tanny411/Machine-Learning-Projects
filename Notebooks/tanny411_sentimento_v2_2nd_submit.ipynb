{
  "nbformat": 4,
  "nbformat_minor": 0,
  "metadata": {
    "kernelspec": {
      "name": "python3",
      "display_name": "Python 3"
    },
    "language_info": {
      "pygments_lexer": "ipython3",
      "nbconvert_exporter": "python",
      "version": "3.6.4",
      "file_extension": ".py",
      "codemirror_mode": {
        "name": "ipython",
        "version": 3
      },
      "name": "python",
      "mimetype": "text/x-python"
    },
    "colab": {
      "name": "tanny411_sentimento_v2_2nd_submit.ipynb",
      "version": "0.3.2",
      "provenance": [],
      "toc_visible": true
    },
    "accelerator": "GPU"
  },
  "cells": [
    {
      "cell_type": "markdown",
      "metadata": {
        "id": "k3l2WqQtd2QF",
        "colab_type": "text"
      },
      "source": [
        "## Summary:\n",
        "\n",
        "### text-processing(simple):\n",
        "- all text tokenized to words\n",
        "- spaces put around punctuation\n",
        "- 'nt and 's reformed into tokens\n",
        "- vocabulary size of 60k kept\n",
        "- all other tokens recognised as 'unk'\n",
        "- finally all texts padded to size 50\n",
        "\n",
        "### Model architecture:        \n",
        "- simple lstm model\n",
        "- a single lstm layer with hidden dimension = 50, layer dimension = 2\n",
        "- initialized with an embedding layer, with embedding size = 100\n",
        "- a fully connected layer (mainly to flatten) of output dimension 10\n",
        "- final fully connected layer of output dimension 1, for binary classification\n",
        "- dropout of 0.5 used\n",
        "\n",
        "### Why you used these models:\n",
        "- lstm is the most generic kind of layer that applies best for sequence analysis, thats why lstm was used\n",
        "- since the whole input will be given at once, bidirectional lstm was used to capture information from both sides of the input text\n",
        "\n",
        "### Room for improvement:\n",
        "- hyperparameters can be tuned well\n",
        "- convolutional layers can be applied and analysed\n",
        "- in case of cnn, character level cnn may be analysed"
      ]
    },
    {
      "cell_type": "markdown",
      "metadata": {
        "id": "te41vSGYhZE5",
        "colab_type": "text"
      },
      "source": [
        "## Getting Data"
      ]
    },
    {
      "cell_type": "code",
      "metadata": {
        "id": "xNTMoX2Me-j-",
        "colab_type": "code",
        "colab": {}
      },
      "source": [
        "# !pip install kaggle"
      ],
      "execution_count": 0,
      "outputs": []
    },
    {
      "cell_type": "code",
      "metadata": {
        "id": "nLwE-qwYe-gU",
        "colab_type": "code",
        "colab": {}
      },
      "source": [
        "!mkdir .kaggle"
      ],
      "execution_count": 0,
      "outputs": []
    },
    {
      "cell_type": "code",
      "metadata": {
        "id": "r4hr53SlgJgA",
        "colab_type": "code",
        "colab": {}
      },
      "source": [
        "!mkdir ~/.kaggle"
      ],
      "execution_count": 0,
      "outputs": []
    },
    {
      "cell_type": "code",
      "metadata": {
        "id": "ezC0nIDie-et",
        "colab_type": "code",
        "colab": {}
      },
      "source": [
        "import json\n",
        "token = {'username':'','key':''}\n",
        "with open('/content/.kaggle/kaggle.json', 'w') as file:\n",
        "    json.dump(token, file)"
      ],
      "execution_count": 0,
      "outputs": []
    },
    {
      "cell_type": "code",
      "metadata": {
        "id": "KKX3k2c2e-Yc",
        "colab_type": "code",
        "colab": {}
      },
      "source": [
        "!cp /content/.kaggle/kaggle.json ~/.kaggle/kaggle.json"
      ],
      "execution_count": 0,
      "outputs": []
    },
    {
      "cell_type": "code",
      "metadata": {
        "id": "yV5ZltIVfypZ",
        "colab_type": "code",
        "outputId": "4adf2ea2-2866-427b-dbe9-3988cd5a8922",
        "colab": {
          "base_uri": "https://localhost:8080/",
          "height": 71
        }
      },
      "source": [
        "!kaggle config set -n path -v{/content}"
      ],
      "execution_count": 5,
      "outputs": [
        {
          "output_type": "stream",
          "text": [
            "Warning: Your Kaggle API key is readable by other users on this system! To fix this, you can run 'chmod 600 /root/.kaggle/kaggle.json'\n",
            "- path is now set to: {/content}\n"
          ],
          "name": "stdout"
        }
      ]
    },
    {
      "cell_type": "code",
      "metadata": {
        "id": "_0M5gq3YfynA",
        "colab_type": "code",
        "colab": {}
      },
      "source": [
        "!chmod 600 /root/.kaggle/kaggle.json"
      ],
      "execution_count": 0,
      "outputs": []
    },
    {
      "cell_type": "code",
      "metadata": {
        "id": "xWN58vvFfyim",
        "colab_type": "code",
        "colab": {}
      },
      "source": [
        "# !kaggle datasets list"
      ],
      "execution_count": 0,
      "outputs": []
    },
    {
      "cell_type": "code",
      "metadata": {
        "id": "RzI8lb_Age_R",
        "colab_type": "code",
        "colab": {}
      },
      "source": [
        "# !kaggle datasets list -s sentiment"
      ],
      "execution_count": 0,
      "outputs": []
    },
    {
      "cell_type": "code",
      "metadata": {
        "id": "9kAAyiD6ge7u",
        "colab_type": "code",
        "outputId": "1b77060d-6f7e-4d20-f05f-ca912587c94c",
        "colab": {
          "base_uri": "https://localhost:8080/",
          "height": 170
        }
      },
      "source": [
        "!kaggle competitions download -c nlp-hack -p /content"
      ],
      "execution_count": 7,
      "outputs": [
        {
          "output_type": "stream",
          "text": [
            "Downloading sample-submission.csv to /content\n",
            "\r  0% 0.00/99.0 [00:00<?, ?B/s]\n",
            "100% 99.0/99.0 [00:00<00:00, 55.7kB/s]\n",
            "Downloading test.csv.zip to /content\n",
            " 54% 9.00M/16.6M [00:00<00:00, 15.5MB/s]\n",
            "100% 16.6M/16.6M [00:00<00:00, 28.4MB/s]\n",
            "Downloading train.csv.zip to /content\n",
            " 91% 61.0M/66.9M [00:01<00:00, 19.7MB/s]\n",
            "100% 66.9M/66.9M [00:01<00:00, 39.7MB/s]\n"
          ],
          "name": "stdout"
        }
      ]
    },
    {
      "cell_type": "code",
      "metadata": {
        "id": "896FeTWkhEvp",
        "colab_type": "code",
        "outputId": "65426414-68b5-4cfc-9762-3915a54552d8",
        "colab": {
          "base_uri": "https://localhost:8080/",
          "height": 136
        }
      },
      "source": [
        "!unzip \\*.zip"
      ],
      "execution_count": 8,
      "outputs": [
        {
          "output_type": "stream",
          "text": [
            "Archive:  test.csv.zip\n",
            "  inflating: test.csv                \n",
            "\n",
            "Archive:  train.csv.zip\n",
            "  inflating: train.csv               \n",
            "\n",
            "2 archives were successfully processed.\n"
          ],
          "name": "stdout"
        }
      ]
    },
    {
      "cell_type": "markdown",
      "metadata": {
        "id": "q02Lopoxhb7O",
        "colab_type": "text"
      },
      "source": [
        "## Starts here"
      ]
    },
    {
      "cell_type": "code",
      "metadata": {
        "_uuid": "8f2839f25d086af736a60e9eeb907d3b93b6e0e5",
        "_cell_guid": "b1076dfc-b9ad-4769-8c92-a6c4dae69d19",
        "trusted": true,
        "id": "AChp_0-sd2QH",
        "colab_type": "code",
        "colab": {}
      },
      "source": [
        "import numpy as np\n",
        "import pandas as pd\n",
        "import os\n",
        "files=['train.csv','test.csv','sample-submission.csv']"
      ],
      "execution_count": 0,
      "outputs": []
    },
    {
      "cell_type": "markdown",
      "metadata": {
        "id": "9vtNX3rGd2QN",
        "colab_type": "text"
      },
      "source": [
        "## Imports"
      ]
    },
    {
      "cell_type": "code",
      "metadata": {
        "trusted": true,
        "id": "_ExMVFIHd2QO",
        "colab_type": "code",
        "outputId": "c1b8e40f-5947-405d-affb-6cfcd0c041cc",
        "colab": {
          "base_uri": "https://localhost:8080/",
          "height": 34
        }
      },
      "source": [
        "import numpy as np\n",
        "import pandas as pd\n",
        "import os\n",
        "import string\n",
        "import re\n",
        "import matplotlib.pyplot as plt\n",
        "import torch\n",
        "import torch.nn as nn\n",
        "from torch.nn import functional as F\n",
        "from torch.autograd import Variable\n",
        "import torch.utils.data\n",
        "from sklearn.model_selection import train_test_split\n",
        "from keras.preprocessing.sequence import pad_sequences\n",
        "from collections import Counter\n",
        "import pickle"
      ],
      "execution_count": 10,
      "outputs": [
        {
          "output_type": "stream",
          "text": [
            "Using TensorFlow backend.\n"
          ],
          "name": "stderr"
        }
      ]
    },
    {
      "cell_type": "code",
      "metadata": {
        "trusted": true,
        "id": "WIqxMZQ2d2QU",
        "colab_type": "code",
        "outputId": "89f14785-bbad-488a-dfba-da715e973bc6",
        "colab": {
          "base_uri": "https://localhost:8080/",
          "height": 34
        }
      },
      "source": [
        "device = 'cuda' if torch.cuda.is_available() else 'cpu'\n",
        "device"
      ],
      "execution_count": 11,
      "outputs": [
        {
          "output_type": "execute_result",
          "data": {
            "text/plain": [
              "'cuda'"
            ]
          },
          "metadata": {
            "tags": []
          },
          "execution_count": 11
        }
      ]
    },
    {
      "cell_type": "markdown",
      "metadata": {
        "id": "1B-YlJR4d2QY",
        "colab_type": "text"
      },
      "source": [
        "## See Data"
      ]
    },
    {
      "cell_type": "code",
      "metadata": {
        "trusted": true,
        "id": "0lRr78Drd2Qa",
        "colab_type": "code",
        "outputId": "7221b95f-b377-4411-f9bc-dd61a4bf75ca",
        "colab": {
          "base_uri": "https://localhost:8080/",
          "height": 289
        }
      },
      "source": [
        "train = pd.read_csv(files[0],index_col=0)\n",
        "test = pd.read_csv(files[1],index_col=0)\n",
        "train.head()"
      ],
      "execution_count": 12,
      "outputs": [
        {
          "output_type": "stream",
          "text": [
            "/usr/local/lib/python3.6/dist-packages/numpy/lib/arraysetops.py:569: FutureWarning: elementwise comparison failed; returning scalar instead, but in the future will perform elementwise comparison\n",
            "  mask |= (ar1 == a)\n"
          ],
          "name": "stderr"
        },
        {
          "output_type": "execute_result",
          "data": {
            "text/html": [
              "<div>\n",
              "<style scoped>\n",
              "    .dataframe tbody tr th:only-of-type {\n",
              "        vertical-align: middle;\n",
              "    }\n",
              "\n",
              "    .dataframe tbody tr th {\n",
              "        vertical-align: top;\n",
              "    }\n",
              "\n",
              "    .dataframe thead th {\n",
              "        text-align: right;\n",
              "    }\n",
              "</style>\n",
              "<table border=\"1\" class=\"dataframe\">\n",
              "  <thead>\n",
              "    <tr style=\"text-align: right;\">\n",
              "      <th></th>\n",
              "      <th>date</th>\n",
              "      <th>user</th>\n",
              "      <th>text</th>\n",
              "      <th>target</th>\n",
              "    </tr>\n",
              "    <tr>\n",
              "      <th>Id</th>\n",
              "      <th></th>\n",
              "      <th></th>\n",
              "      <th></th>\n",
              "      <th></th>\n",
              "    </tr>\n",
              "  </thead>\n",
              "  <tbody>\n",
              "    <tr>\n",
              "      <th>0</th>\n",
              "      <td>Fri Jun 05 22:04:23 PDT 2009</td>\n",
              "      <td>JGoldsborough</td>\n",
              "      <td>@jbtaylor WIth ya. &amp;quot;I'd like a Palm Pre, ...</td>\n",
              "      <td>4</td>\n",
              "    </tr>\n",
              "    <tr>\n",
              "      <th>1</th>\n",
              "      <td>Sat Jun 06 03:12:21 PDT 2009</td>\n",
              "      <td>Psioui</td>\n",
              "      <td>felt the earthquake this afternoon, it seems t...</td>\n",
              "      <td>4</td>\n",
              "    </tr>\n",
              "    <tr>\n",
              "      <th>2</th>\n",
              "      <td>Sat May 30 19:02:49 PDT 2009</td>\n",
              "      <td>adriville</td>\n",
              "      <td>Ruffles on shirts are like so in, me Likey</td>\n",
              "      <td>4</td>\n",
              "    </tr>\n",
              "    <tr>\n",
              "      <th>3</th>\n",
              "      <td>Thu Jun 25 05:59:18 PDT 2009</td>\n",
              "      <td>Blondie128</td>\n",
              "      <td>Pretty bad night into a crappy morning....FML!...</td>\n",
              "      <td>0</td>\n",
              "    </tr>\n",
              "    <tr>\n",
              "      <th>4</th>\n",
              "      <td>Sat May 30 11:16:35 PDT 2009</td>\n",
              "      <td>khrabrov</td>\n",
              "      <td>@dcbriccetti yeah, what a clear view!</td>\n",
              "      <td>4</td>\n",
              "    </tr>\n",
              "  </tbody>\n",
              "</table>\n",
              "</div>"
            ],
            "text/plain": [
              "                            date  ... target\n",
              "Id                                ...       \n",
              "0   Fri Jun 05 22:04:23 PDT 2009  ...      4\n",
              "1   Sat Jun 06 03:12:21 PDT 2009  ...      4\n",
              "2   Sat May 30 19:02:49 PDT 2009  ...      4\n",
              "3   Thu Jun 25 05:59:18 PDT 2009  ...      0\n",
              "4   Sat May 30 11:16:35 PDT 2009  ...      4\n",
              "\n",
              "[5 rows x 4 columns]"
            ]
          },
          "metadata": {
            "tags": []
          },
          "execution_count": 12
        }
      ]
    },
    {
      "cell_type": "code",
      "metadata": {
        "trusted": true,
        "id": "XBQoIFFUd2Qf",
        "colab_type": "code",
        "outputId": "ebdc16ed-e2f6-4a61-bdc9-55243c639aa1",
        "colab": {
          "base_uri": "https://localhost:8080/",
          "height": 34
        }
      },
      "source": [
        "len(train)"
      ],
      "execution_count": 0,
      "outputs": [
        {
          "output_type": "execute_result",
          "data": {
            "text/plain": [
              "1280000"
            ]
          },
          "metadata": {
            "tags": []
          },
          "execution_count": 15
        }
      ]
    },
    {
      "cell_type": "code",
      "metadata": {
        "trusted": true,
        "id": "WreW1T1zd2Qj",
        "colab_type": "code",
        "colab": {}
      },
      "source": [
        "# pd.set_option('display.max_colwidth',-1)\n",
        "# train['text'][:10]"
      ],
      "execution_count": 0,
      "outputs": []
    },
    {
      "cell_type": "code",
      "metadata": {
        "trusted": true,
        "id": "p0H_NZXVd2Qo",
        "colab_type": "code",
        "colab": {}
      },
      "source": [
        "# text = [text for text in train['text']]\n",
        "# text[:3]"
      ],
      "execution_count": 0,
      "outputs": []
    },
    {
      "cell_type": "markdown",
      "metadata": {
        "id": "1LTN99IVd2Qt",
        "colab_type": "text"
      },
      "source": [
        "## Test tokenization"
      ]
    },
    {
      "cell_type": "code",
      "metadata": {
        "trusted": true,
        "id": "JS5FU2xrd2Qv",
        "colab_type": "code",
        "colab": {}
      },
      "source": [
        "# Str = \"\"\"aysha   \\tkamal\n",
        "\n",
        "# also this is two new\\x0b\\x0clines\"\"\"\n",
        "# \"\".join([replacements.get(c,c) for c in Str])"
      ],
      "execution_count": 0,
      "outputs": []
    },
    {
      "cell_type": "code",
      "metadata": {
        "trusted": true,
        "id": "0qH0P6-vd2Q0",
        "colab_type": "code",
        "colab": {}
      },
      "source": [
        "# import re\n",
        "\n",
        "# hum = re.compile(\"([\\'!\\\"#$%&()*+,-./:;<=>?@[\\]^_`{|}~\\\\\\])\")"
      ],
      "execution_count": 0,
      "outputs": []
    },
    {
      "cell_type": "code",
      "metadata": {
        "trusted": true,
        "id": "EeaebUYwd2Q6",
        "colab_type": "code",
        "colab": {}
      },
      "source": [
        "# Str = \"\\\\\\\\\\\\\\\\\\\\\\\\\"\n",
        "# x = hum.sub(r' \\1 ',Str);\n",
        "# print(x)"
      ],
      "execution_count": 0,
      "outputs": []
    },
    {
      "cell_type": "code",
      "metadata": {
        "trusted": true,
        "id": "O39yF-ONd2RA",
        "colab_type": "code",
        "colab": {}
      },
      "source": [
        "# Str = \"aysha aren't you the                 sweetest?+,-./:;text<=lol>?@[\\kamal\"\n",
        "# x = hum.sub(r' \\1 ',Str);\n",
        "# print(x)"
      ],
      "execution_count": 0,
      "outputs": []
    },
    {
      "cell_type": "code",
      "metadata": {
        "trusted": true,
        "id": "Uta_Ayhod2RE",
        "colab_type": "code",
        "colab": {}
      },
      "source": [
        "# re_apos = re.compile(r\"n ' t \")    # n't\n",
        "# re_bpos = re.compile(r\" ' s \")     # 's\n",
        "# re_mult_space = re.compile(r\"  *\") # replace multiple spaces with just one\n",
        "\n",
        "# sent = re_apos.sub(r\" n't \", x)\n",
        "# sent = re_bpos.sub(r\" 's \", sent)\n",
        "# sent = re_mult_space.sub(' ', sent) ; sent"
      ],
      "execution_count": 0,
      "outputs": []
    },
    {
      "cell_type": "code",
      "metadata": {
        "trusted": true,
        "id": "6VrkFM0wd2RI",
        "colab_type": "code",
        "colab": {}
      },
      "source": [
        "# print(sent)"
      ],
      "execution_count": 0,
      "outputs": []
    },
    {
      "cell_type": "code",
      "metadata": {
        "trusted": true,
        "id": "3sld8eFnd2RN",
        "colab_type": "code",
        "colab": {}
      },
      "source": [
        "# sent=\"AYSHA kamal Tanny TANny\"\n",
        "# ret = ['xbos']\n",
        "# for w in sent.split():\n",
        "#     if w.isupper():\n",
        "#         ret.append('xwup')\n",
        "#     elif w[0].isupper():\n",
        "#         ret.append('xup')\n",
        "#     ret.append(w.lower())\n",
        "# ret"
      ],
      "execution_count": 0,
      "outputs": []
    },
    {
      "cell_type": "markdown",
      "metadata": {
        "id": "58fes6m4d2RT",
        "colab_type": "text"
      },
      "source": [
        "## Tokenization"
      ]
    },
    {
      "cell_type": "code",
      "metadata": {
        "trusted": true,
        "id": "SaswC4ESd2RU",
        "colab_type": "code",
        "colab": {}
      },
      "source": [
        "### All tokenizations combined\n",
        "re_punc = re.compile(\"([\\'!\\\"#$%&()*+,-./:;<=>?@[\\]^_`{|}~\\\\\\])\") # add spaces around punctuation\n",
        "## () for capturing group, [] for one of the groups in the braces\n",
        "re_apos = re.compile(r\"n ' t \")    # n't\n",
        "re_bpos = re.compile(r\" ' s \")     # 's\n",
        "re_mult_space = re.compile(r\"  *\") # replace multiple spaces with just one\n",
        "replacements = {'\\t':' ','\\n':' ','\\r':' ','\\x0b':' ','\\x0c':' '}\n",
        "\n",
        "def simple_toks(sent):\n",
        "    sent = \"\".join([replacements.get(c,c) for c in sent])\n",
        "    sent = re_punc.sub(r\" \\1 \", sent) # \\1 is the group that we have captured\n",
        "    sent = re_apos.sub(r\" n't \", sent)\n",
        "    sent = re_bpos.sub(r\" 's \", sent)\n",
        "    sent = re_mult_space.sub(' ', sent)\n",
        "    ret = ['xbos']\n",
        "    for w in sent.split():\n",
        "        if w.isupper():\n",
        "            ret.append('xwup')\n",
        "        elif w[0].isupper():\n",
        "            ret.append('xup')\n",
        "        ret.append(w.lower())\n",
        "    return ret"
      ],
      "execution_count": 0,
      "outputs": []
    },
    {
      "cell_type": "code",
      "metadata": {
        "trusted": true,
        "id": "ksGCDiHJd2RZ",
        "colab_type": "code",
        "colab": {}
      },
      "source": [
        "textlist = train['text'].apply(simple_toks).tolist()"
      ],
      "execution_count": 0,
      "outputs": []
    },
    {
      "cell_type": "code",
      "metadata": {
        "trusted": true,
        "id": "ZotK5Ibfd2Re",
        "colab_type": "code",
        "colab": {}
      },
      "source": [
        "with open(\"tokenized.txt\", \"wb\") as fp:   #Pickling\n",
        "    pickle.dump(textlist, fp)\n",
        "\n",
        "# with open(\"tokenized.txt\", \"rb\") as fp:   # Unpickling\n",
        "#     textlist = pickle.load(fp)"
      ],
      "execution_count": 0,
      "outputs": []
    },
    {
      "cell_type": "code",
      "metadata": {
        "id": "-4yn0YwQ1JjA",
        "colab_type": "code",
        "colab": {}
      },
      "source": [
        "with open(\"tokenized.txt\", \"rb\") as fp:   # Unpickling\n",
        "    textlist = pickle.load(fp)"
      ],
      "execution_count": 0,
      "outputs": []
    },
    {
      "cell_type": "markdown",
      "metadata": {
        "id": "CKx6dwX9d2Ri",
        "colab_type": "text"
      },
      "source": [
        "## Vocabulary Creation"
      ]
    },
    {
      "cell_type": "code",
      "metadata": {
        "trusted": true,
        "id": "iMYmVftqd2Rk",
        "colab_type": "code",
        "colab": {}
      },
      "source": [
        "from collections import Counter\n",
        "full_vocab = Counter([w for row in textlist for w in row])"
      ],
      "execution_count": 0,
      "outputs": []
    },
    {
      "cell_type": "code",
      "metadata": {
        "trusted": true,
        "id": "6oMCnNovd2Rs",
        "colab_type": "code",
        "outputId": "5d05c4f0-e4d3-4d70-befd-e432846031de",
        "colab": {
          "base_uri": "https://localhost:8080/",
          "height": 34
        }
      },
      "source": [
        "## 192 total characters\n",
        "len(full_vocab)"
      ],
      "execution_count": 0,
      "outputs": [
        {
          "output_type": "execute_result",
          "data": {
            "text/plain": [
              "575227"
            ]
          },
          "metadata": {
            "tags": []
          },
          "execution_count": 16
        }
      ]
    },
    {
      "cell_type": "code",
      "metadata": {
        "trusted": true,
        "id": "lfxStVBVd2R0",
        "colab_type": "code",
        "outputId": "5d9280f0-7deb-4e1a-937d-e9f0cd91d5b1",
        "colab": {
          "base_uri": "https://localhost:8080/",
          "height": 34
        }
      },
      "source": [
        "itos = ['xunk']+[word for word,cnt in full_vocab.most_common(60000)]\n",
        "len(itos)"
      ],
      "execution_count": 0,
      "outputs": [
        {
          "output_type": "execute_result",
          "data": {
            "text/plain": [
              "60001"
            ]
          },
          "metadata": {
            "tags": []
          },
          "execution_count": 17
        }
      ]
    },
    {
      "cell_type": "code",
      "metadata": {
        "trusted": true,
        "id": "QknWnJP6d2R7",
        "colab_type": "code",
        "outputId": "ce718d13-1f6d-4c53-f525-eaebb66c200c",
        "colab": {
          "base_uri": "https://localhost:8080/",
          "height": 34
        }
      },
      "source": [
        "stoi = {w:i for i,w in enumerate(itos)}\n",
        "len(stoi)"
      ],
      "execution_count": 0,
      "outputs": [
        {
          "output_type": "execute_result",
          "data": {
            "text/plain": [
              "60001"
            ]
          },
          "metadata": {
            "tags": []
          },
          "execution_count": 18
        }
      ]
    },
    {
      "cell_type": "code",
      "metadata": {
        "id": "KxEDgSXXPi3g",
        "colab_type": "code",
        "colab": {}
      },
      "source": [
        "with open(\"itos.txt\", \"wb\") as fp:   #Pickling\n",
        "    pickle.dump(itos, fp)\n",
        "\n",
        "with open(\"stoi.txt\", \"wb\") as fp:   #Pickling\n",
        "    pickle.dump(stoi, fp)"
      ],
      "execution_count": 0,
      "outputs": []
    },
    {
      "cell_type": "code",
      "metadata": {
        "id": "OK3jJgtdYX6r",
        "colab_type": "code",
        "colab": {}
      },
      "source": [
        "with open(\"itos.txt\", \"rb\") as fp:   # Unpickling\n",
        "    itos = pickle.load(fp)"
      ],
      "execution_count": 0,
      "outputs": []
    },
    {
      "cell_type": "markdown",
      "metadata": {
        "id": "X7npyA-md2R_",
        "colab_type": "text"
      },
      "source": [
        "60k is MORE THAN ENOUGH I think"
      ]
    },
    {
      "cell_type": "markdown",
      "metadata": {
        "id": "ieV-77Osd2SB",
        "colab_type": "text"
      },
      "source": [
        "## Remove other words"
      ]
    },
    {
      "cell_type": "code",
      "metadata": {
        "trusted": true,
        "id": "7Z6vwKR5d2SC",
        "colab_type": "code",
        "colab": {}
      },
      "source": [
        "# ## debug time\n",
        "# original = textlist\n",
        "# textlist = textlist[:10000]\n",
        "# len(original), len(textlist)"
      ],
      "execution_count": 0,
      "outputs": []
    },
    {
      "cell_type": "code",
      "metadata": {
        "trusted": true,
        "_kg_hide-output": true,
        "id": "3NDLicIyd2SI",
        "colab_type": "code",
        "colab": {}
      },
      "source": [
        "# textlistfin=[[w if w in itos else itos[0] for w in sent] for sent in textlist]\n",
        "# len(textlistfin), len(textlist)"
      ],
      "execution_count": 0,
      "outputs": []
    },
    {
      "cell_type": "markdown",
      "metadata": {
        "id": "xdGmWaHRd2SM",
        "colab_type": "text"
      },
      "source": [
        " ## Numericalisation + remove unknown words"
      ]
    },
    {
      "cell_type": "code",
      "metadata": {
        "trusted": true,
        "id": "5GN_fmvod2SN",
        "colab_type": "code",
        "colab": {}
      },
      "source": [
        "# ## testing\n",
        "# textlist_test = train['text'][:10].apply(simple_toks).tolist()\n",
        "# nums_test = [[stoi[w] if w in itos else 0 for w in sent] for sent in textlist_test]"
      ],
      "execution_count": 0,
      "outputs": []
    },
    {
      "cell_type": "code",
      "metadata": {
        "trusted": true,
        "id": "IE5ViJVXd2SR",
        "colab_type": "code",
        "outputId": "c03bc68f-a9d7-43cb-cfcb-181717559d32",
        "colab": {
          "base_uri": "https://localhost:8080/",
          "height": 34
        }
      },
      "source": [
        "nums = [[stoi[w] if w in itos else 0 for w in sent] for sent in textlist] ##so slow tho, NEED a way to parallel process\n",
        "len(nums)"
      ],
      "execution_count": 0,
      "outputs": [
        {
          "output_type": "execute_result",
          "data": {
            "text/plain": [
              "1280000"
            ]
          },
          "metadata": {
            "tags": []
          },
          "execution_count": 21
        }
      ]
    },
    {
      "cell_type": "code",
      "metadata": {
        "id": "P3Gc5xQe1iLv",
        "colab_type": "code",
        "colab": {}
      },
      "source": [
        "with open(\"tokenized_nums.txt\", \"wb\") as fp:   #Pickling\n",
        "    pickle.dump(nums, fp)"
      ],
      "execution_count": 0,
      "outputs": []
    },
    {
      "cell_type": "code",
      "metadata": {
        "id": "NsPmJ6plQmOe",
        "colab_type": "code",
        "colab": {}
      },
      "source": [
        "with open(\"tokenized_nums.txt\", \"rb\") as fp:   # Unpickling\n",
        "    nums = pickle.load(fp)"
      ],
      "execution_count": 0,
      "outputs": []
    },
    {
      "cell_type": "markdown",
      "metadata": {
        "id": "8_th8MCMd2SW",
        "colab_type": "text"
      },
      "source": [
        "## labels"
      ]
    },
    {
      "cell_type": "code",
      "metadata": {
        "trusted": true,
        "id": "Jm9vLbxLd2SY",
        "colab_type": "code",
        "colab": {}
      },
      "source": [
        "labels = train['target']/4"
      ],
      "execution_count": 0,
      "outputs": []
    },
    {
      "cell_type": "code",
      "metadata": {
        "trusted": true,
        "id": "yFD6HECMd2Sc",
        "colab_type": "code",
        "colab": {}
      },
      "source": [
        "# ## debug time\n",
        "# originalLabel = labels\n",
        "# labels = labels[:10000]\n",
        "# len(originalLabel), len(labels)"
      ],
      "execution_count": 0,
      "outputs": []
    },
    {
      "cell_type": "code",
      "metadata": {
        "trusted": true,
        "id": "Wb9dyhbsd2Sh",
        "colab_type": "code",
        "outputId": "0f0f270c-a22b-4f19-d973-587e0a0b8d36",
        "colab": {
          "base_uri": "https://localhost:8080/",
          "height": 34
        }
      },
      "source": [
        "type(labels), labels.shape"
      ],
      "execution_count": 18,
      "outputs": [
        {
          "output_type": "execute_result",
          "data": {
            "text/plain": [
              "(pandas.core.series.Series, (1280000,))"
            ]
          },
          "metadata": {
            "tags": []
          },
          "execution_count": 18
        }
      ]
    },
    {
      "cell_type": "code",
      "metadata": {
        "trusted": true,
        "id": "6PdIHHP6d2So",
        "colab_type": "code",
        "colab": {}
      },
      "source": [
        "labels = np.array(labels).reshape(-1,1)"
      ],
      "execution_count": 0,
      "outputs": []
    },
    {
      "cell_type": "markdown",
      "metadata": {
        "id": "FoycJnx-d2Sy",
        "colab_type": "text"
      },
      "source": [
        "## Padding"
      ]
    },
    {
      "cell_type": "code",
      "metadata": {
        "trusted": true,
        "id": "WMmp72r9d2S0",
        "colab_type": "code",
        "colab": {}
      },
      "source": [
        "max_length=50"
      ],
      "execution_count": 0,
      "outputs": []
    },
    {
      "cell_type": "code",
      "metadata": {
        "trusted": true,
        "id": "4FCUdjNHd2S6",
        "colab_type": "code",
        "colab": {}
      },
      "source": [
        "padded = pad_sequences(nums, maxlen=max_length, padding='post', truncating='post', value=0)"
      ],
      "execution_count": 0,
      "outputs": []
    },
    {
      "cell_type": "code",
      "metadata": {
        "trusted": true,
        "id": "OWo6mhead2TA",
        "colab_type": "code",
        "outputId": "1f5c131d-b565-49f9-d14e-53c01d2e341f",
        "colab": {
          "base_uri": "https://localhost:8080/",
          "height": 34
        }
      },
      "source": [
        "padded.shape"
      ],
      "execution_count": 22,
      "outputs": [
        {
          "output_type": "execute_result",
          "data": {
            "text/plain": [
              "(1280000, 50)"
            ]
          },
          "metadata": {
            "tags": []
          },
          "execution_count": 22
        }
      ]
    },
    {
      "cell_type": "markdown",
      "metadata": {
        "id": "dLD5Eamgd2TJ",
        "colab_type": "text"
      },
      "source": [
        "## Split"
      ]
    },
    {
      "cell_type": "code",
      "metadata": {
        "trusted": true,
        "id": "RBGF2eEHd2TL",
        "colab_type": "code",
        "colab": {}
      },
      "source": [
        "xtrain, xtest, ytrain, ytest = train_test_split(padded,labels,test_size = 0.1,random_state = 42)"
      ],
      "execution_count": 0,
      "outputs": []
    },
    {
      "cell_type": "markdown",
      "metadata": {
        "id": "oSbJyc0Ud2TS",
        "colab_type": "text"
      },
      "source": [
        "## The model"
      ]
    },
    {
      "cell_type": "code",
      "metadata": {
        "trusted": true,
        "id": "IOxkSr3fd2TU",
        "colab_type": "code",
        "colab": {}
      },
      "source": [
        "xTrain = torch.from_numpy(xtrain).type(torch.LongTensor).to(device)\n",
        "yTrain = torch.from_numpy(ytrain).type(torch.FloatTensor).to(device)\n",
        "\n",
        "xTest = torch.from_numpy(xtest).type(torch.LongTensor).to(device)\n",
        "yTest = torch.from_numpy(ytest).type(torch.FloatTensor).to(device)"
      ],
      "execution_count": 0,
      "outputs": []
    },
    {
      "cell_type": "code",
      "metadata": {
        "trusted": true,
        "id": "-GPAaT10d2Ta",
        "colab_type": "code",
        "outputId": "07872f6d-c5a7-415d-8aff-5366ce433345",
        "colab": {
          "base_uri": "https://localhost:8080/",
          "height": 85
        }
      },
      "source": [
        "xTrain.shape, yTrain.shape, xTest.shape, yTest.shape"
      ],
      "execution_count": 25,
      "outputs": [
        {
          "output_type": "execute_result",
          "data": {
            "text/plain": [
              "(torch.Size([1152000, 50]),\n",
              " torch.Size([1152000, 1]),\n",
              " torch.Size([128000, 50]),\n",
              " torch.Size([128000, 1]))"
            ]
          },
          "metadata": {
            "tags": []
          },
          "execution_count": 25
        }
      ]
    },
    {
      "cell_type": "code",
      "metadata": {
        "trusted": true,
        "id": "zVQoQWL3d2Tf",
        "colab_type": "code",
        "outputId": "25ad8ac7-39f5-44b5-bf54-ae02e5d460fc",
        "colab": {
          "base_uri": "https://localhost:8080/",
          "height": 34
        }
      },
      "source": [
        "xTrain.dtype, yTrain.dtype, xTest.dtype, yTest.dtype"
      ],
      "execution_count": 26,
      "outputs": [
        {
          "output_type": "execute_result",
          "data": {
            "text/plain": [
              "(torch.int64, torch.float32, torch.int64, torch.float32)"
            ]
          },
          "metadata": {
            "tags": []
          },
          "execution_count": 26
        }
      ]
    },
    {
      "cell_type": "code",
      "metadata": {
        "trusted": true,
        "id": "pFjitNs6d2Tj",
        "colab_type": "code",
        "outputId": "4eab89de-a3f1-407f-fe15-45d979bca091",
        "colab": {
          "base_uri": "https://localhost:8080/",
          "height": 34
        }
      },
      "source": [
        "xTrain.is_cuda"
      ],
      "execution_count": 27,
      "outputs": [
        {
          "output_type": "execute_result",
          "data": {
            "text/plain": [
              "True"
            ]
          },
          "metadata": {
            "tags": []
          },
          "execution_count": 27
        }
      ]
    },
    {
      "cell_type": "code",
      "metadata": {
        "trusted": true,
        "id": "VEUOX7zkd2To",
        "colab_type": "code",
        "colab": {}
      },
      "source": [
        "batch_size = 100\n",
        "num_epochs = 20\n",
        "\n",
        "# dataset\n",
        "train = torch.utils.data.TensorDataset(xTrain,yTrain)\n",
        "test = torch.utils.data.TensorDataset(xTest,yTest)\n",
        "\n",
        "# data loader\n",
        "train_loader = torch.utils.data.DataLoader(train, batch_size = batch_size, shuffle = True)\n",
        "test_loader = torch.utils.data.DataLoader(test, batch_size = batch_size, shuffle = True)"
      ],
      "execution_count": 0,
      "outputs": []
    },
    {
      "cell_type": "code",
      "metadata": {
        "trusted": true,
        "id": "u7XqRUrCd2Tt",
        "colab_type": "code",
        "colab": {}
      },
      "source": [
        "class memodel(nn.Module):\n",
        "    def __init__(self, vocabsz, mxlen):\n",
        "        super().__init__()\n",
        "        self.vocab_size=vocabsz\n",
        "        self.mx_len=mxlen\n",
        "        ##config\n",
        "        self.embd_size=100\n",
        "        self.hidden_dim=50\n",
        "        self.hidden_dim2=512\n",
        "        self.layer_dim=2\n",
        "        self.output_dim=1\n",
        "        self.drp=0.8\n",
        "        ##layers\n",
        "        self.embeddings = nn.Embedding(self.vocab_size, self.embd_size)\n",
        "        ##when using pretained\n",
        "#         self.embeddings.weight = nn.Parameter(word_embeddings, requires_grad=False)\n",
        "        self.lstm = nn.LSTM(input_size = self.embd_size,\n",
        "                            hidden_size = self.hidden_dim,\n",
        "                            num_layers = self.layer_dim,\n",
        "                            dropout = self.drp, #keep\n",
        "                            bidirectional = True)\n",
        "        self.dropout = nn.Dropout(self.drp)\n",
        "        self.fc = nn.Linear(2*self.hidden_dim*self.mx_len,self.hidden_dim2) #because bilinear\n",
        "        self.fc2=nn.Linear(self.hidden_dim2,256)\n",
        "        self.fc3=nn.Linear(256,64)\n",
        "        self.out=nn.Linear(64,self.output_dim)\n",
        "        self.out_act = nn.Sigmoid()\n",
        "        self.act = nn.ReLU()\n",
        "    def forward(self, x):\n",
        "        # x.shape = (seq_len, batch_size)\n",
        "        embedded_sent = self.embeddings(x)\n",
        "#         print(embedded_sent.shape)\n",
        "        # embedded_sent.shape = (seq_len, batch_size, embed_size)\n",
        "        lstm_out, (h_n,c_n) = self.lstm(embedded_sent)\n",
        "#         print(lstm_out.shape)\n",
        "        # lstm_out.shape = (seq_len, batch_size, 2 * hidden_size)\n",
        "        linear_output = self.act(self.dropout(self.fc(lstm_out.view(batch_size,-1))))\n",
        "#         print(linear_output.shape)\n",
        "        linear_output = self.act(self.dropout(self.fc2(linear_output)))\n",
        "        linear_output = self.act(self.dropout(self.fc3(linear_output)))\n",
        "        linear_output = self.out_act(self.out(linear_output))\n",
        "        # print(linear_output.shape)\n",
        "        return linear_output"
      ],
      "execution_count": 0,
      "outputs": []
    },
    {
      "cell_type": "code",
      "metadata": {
        "trusted": true,
        "id": "ENJQeLYEd2Ty",
        "colab_type": "code",
        "colab": {}
      },
      "source": [
        "model = memodel(len(itos),max_length).to(device)\n",
        "error = nn.BCELoss()\n",
        "opt = torch.optim.Adam(model.parameters(), lr=0.001)"
      ],
      "execution_count": 0,
      "outputs": []
    },
    {
      "cell_type": "code",
      "metadata": {
        "trusted": true,
        "id": "mQP-esajd2T1",
        "colab_type": "code",
        "colab": {}
      },
      "source": [
        "# x,y = next(iter(train_loader))\n",
        "# txt = Variable(x.reshape(-1,batch_size))\n",
        "# lbl = Variable(y)\n",
        "\n",
        "# print(txt.shape, lbl.shape)\n",
        "\n",
        "# outputs = model(txt)"
      ],
      "execution_count": 0,
      "outputs": []
    },
    {
      "cell_type": "code",
      "metadata": {
        "trusted": true,
        "id": "gVNP8qIrd2T_",
        "colab_type": "code",
        "colab": {}
      },
      "source": [
        "loss_list = []\n",
        "iteration_list = []\n",
        "accuracy_list = []\n",
        "train_loss_list = []\n",
        "train_acc_list = []\n",
        "count=0"
      ],
      "execution_count": 0,
      "outputs": []
    },
    {
      "cell_type": "code",
      "metadata": {
        "trusted": true,
        "id": "7-VjsX3wd2UC",
        "colab_type": "code",
        "colab": {}
      },
      "source": [
        "def train(ep):\n",
        "  global loss_list\n",
        "  global iteration_list\n",
        "  global accuracy_list\n",
        "  global train_loss_list\n",
        "  global train_acc_list\n",
        "  global count\n",
        "\n",
        "  for epoch in range(ep): ##initially 2 epochs done\n",
        "      train_loss=0\n",
        "      train_total=0\n",
        "      for txt,lbl in train_loader:\n",
        "          model.train()\n",
        "          txt = Variable(txt.reshape(-1,batch_size))\n",
        "          lbl = Variable(lbl)\n",
        "          opt.zero_grad()\n",
        "          outputs = model(txt)\n",
        "          loss = error(outputs, lbl)\n",
        "          loss.backward()\n",
        "          opt.step()\n",
        "          count+=1\n",
        "          train_loss+=loss.data\n",
        "          train_total+=lbl.shape[0]\n",
        "          if count%500==0: #500\n",
        "              with torch.no_grad():\n",
        "                  model.eval()\n",
        "                  validation_loss=0\n",
        "                  total=0\n",
        "                  correct=0\n",
        "                  for txt,lbl in test_loader:\n",
        "                      txt = Variable(txt.reshape(-1,batch_size))\n",
        "                      lbl = Variable(lbl)\n",
        "                      outputs = model(txt)\n",
        "                      valid_loss = error(outputs+1e-10, lbl)\n",
        "                      ##loss\n",
        "                      validation_loss+=valid_loss.data\n",
        "                      ##accuracy:\n",
        "                      prediction=outputs.data>=0.5\n",
        "                      total+=lbl.shape[0] #not necessary it will be batch_size\n",
        "                      correct+=(prediction==lbl.type(torch.uint8)).sum()\n",
        "                  loss_list.append(validation_loss/total)\n",
        "                  accuracy_list.append(100*correct/float(total))\n",
        "                  iteration_list.append(count)\n",
        "                  train_loss_list.append(train_loss/train_total)\n",
        "                  train_loss=0\n",
        "                  train_total=0\n",
        "\n",
        "                  if count%2000==0: #2000\n",
        "                      print('Iteration/Epoch: {}/{}  trainloss: {} Loss: {}  Accuracy: {} %'.format(count,epoch+1,train_loss_list[-1],loss_list[-1], accuracy_list[-1]))"
      ],
      "execution_count": 0,
      "outputs": []
    },
    {
      "cell_type": "code",
      "metadata": {
        "id": "M6e-ujX2JE0o",
        "colab_type": "code",
        "outputId": "673054f6-554e-4630-b054-a0b9458c5c3e",
        "colab": {
          "base_uri": "https://localhost:8080/",
          "height": 204
        }
      },
      "source": [
        "train(2)"
      ],
      "execution_count": 38,
      "outputs": [
        {
          "output_type": "stream",
          "text": [
            "Iteration/Epoch: 2000/1  trainloss: 0.0060212393291294575 Loss: 0.005335208959877491  Accuracy: 74 %\n",
            "Iteration/Epoch: 4000/1  trainloss: 0.005227928981184959 Loss: 0.004783340264111757  Accuracy: 77 %\n",
            "Iteration/Epoch: 6000/1  trainloss: 0.005049338564276695 Loss: 0.004589787218719721  Accuracy: 79 %\n",
            "Iteration/Epoch: 8000/1  trainloss: 0.00490714842453599 Loss: 0.004656331613659859  Accuracy: 79 %\n",
            "Iteration/Epoch: 10000/1  trainloss: 0.0048902928829193115 Loss: 0.004503071773797274  Accuracy: 79 %\n",
            "Iteration/Epoch: 12000/2  trainloss: 0.00475357286632061 Loss: 0.004473483189940453  Accuracy: 79 %\n",
            "Iteration/Epoch: 14000/2  trainloss: 0.004705145955085754 Loss: 0.004373140167444944  Accuracy: 80 %\n",
            "Iteration/Epoch: 16000/2  trainloss: 0.004717438947409391 Loss: 0.004370126873254776  Accuracy: 80 %\n",
            "Iteration/Epoch: 18000/2  trainloss: 0.004676843527704477 Loss: 0.004435522016137838  Accuracy: 80 %\n",
            "Iteration/Epoch: 20000/2  trainloss: 0.004663154948502779 Loss: 0.004281064961105585  Accuracy: 80 %\n",
            "Iteration/Epoch: 22000/2  trainloss: 0.004633192904293537 Loss: 0.004313149489462376  Accuracy: 80 %\n"
          ],
          "name": "stdout"
        }
      ]
    },
    {
      "cell_type": "code",
      "metadata": {
        "id": "f5XlURjfZQWe",
        "colab_type": "code",
        "outputId": "6eb9555b-0c37-41fb-d4bc-d3ce9e30c6ae",
        "colab": {
          "base_uri": "https://localhost:8080/",
          "height": 306
        }
      },
      "source": [
        "train(3)"
      ],
      "execution_count": 39,
      "outputs": [
        {
          "output_type": "stream",
          "text": [
            "Iteration/Epoch: 24000/1  trainloss: 0.004519458394497633 Loss: 0.004272834397852421  Accuracy: 80 %\n",
            "Iteration/Epoch: 26000/1  trainloss: 0.004541847389191389 Loss: 0.004301476292312145  Accuracy: 80 %\n",
            "Iteration/Epoch: 28000/1  trainloss: 0.0045300680212676525 Loss: 0.0043265619315207005  Accuracy: 80 %\n",
            "Iteration/Epoch: 30000/1  trainloss: 0.00456807529553771 Loss: 0.004372905474156141  Accuracy: 80 %\n",
            "Iteration/Epoch: 32000/1  trainloss: 0.004510989412665367 Loss: 0.004284496884793043  Accuracy: 80 %\n",
            "Iteration/Epoch: 34000/1  trainloss: 0.004557648673653603 Loss: 0.0042922417633235455  Accuracy: 80 %\n",
            "Iteration/Epoch: 36000/2  trainloss: 0.004495724570006132 Loss: 0.004318266175687313  Accuracy: 80 %\n",
            "Iteration/Epoch: 38000/2  trainloss: 0.004478839226067066 Loss: 0.0043519288301467896  Accuracy: 80 %\n",
            "Iteration/Epoch: 40000/2  trainloss: 0.0044360714964568615 Loss: 0.004324218723922968  Accuracy: 80 %\n",
            "Iteration/Epoch: 42000/2  trainloss: 0.004496511071920395 Loss: 0.004390971269458532  Accuracy: 80 %\n",
            "Iteration/Epoch: 44000/2  trainloss: 0.0045091393403708935 Loss: 0.00436921464279294  Accuracy: 80 %\n",
            "Iteration/Epoch: 46000/2  trainloss: 0.004460999742150307 Loss: 0.004305650945752859  Accuracy: 80 %\n",
            "Iteration/Epoch: 48000/3  trainloss: 0.0043771895579993725 Loss: 0.004258102271705866  Accuracy: 80 %\n",
            "Iteration/Epoch: 50000/3  trainloss: 0.00440971739590168 Loss: 0.004291635472327471  Accuracy: 80 %\n",
            "Iteration/Epoch: 52000/3  trainloss: 0.004443954676389694 Loss: 0.004395502153784037  Accuracy: 79 %\n",
            "Iteration/Epoch: 54000/3  trainloss: 0.004366034641861916 Loss: 0.004378870129585266  Accuracy: 80 %\n",
            "Iteration/Epoch: 56000/3  trainloss: 0.004466503392904997 Loss: 0.004346171859651804  Accuracy: 80 %\n"
          ],
          "name": "stdout"
        }
      ]
    },
    {
      "cell_type": "code",
      "metadata": {
        "trusted": true,
        "id": "FSYtb9pZd2UI",
        "colab_type": "code",
        "colab": {
          "base_uri": "https://localhost:8080/",
          "height": 34
        },
        "outputId": "42c593f7-4fe9-4678-ff92-1d468c139d45"
      },
      "source": [
        "len(iteration_list), len(train_loss_list), len(accuracy_list), len(loss_list)"
      ],
      "execution_count": 40,
      "outputs": [
        {
          "output_type": "execute_result",
          "data": {
            "text/plain": [
              "(115, 115, 115, 115)"
            ]
          },
          "metadata": {
            "tags": []
          },
          "execution_count": 40
        }
      ]
    },
    {
      "cell_type": "code",
      "metadata": {
        "trusted": true,
        "id": "54SwJOCed2UN",
        "colab_type": "code",
        "outputId": "e0e5fd12-7974-4f91-a0c8-0b22af0eda55",
        "colab": {
          "base_uri": "https://localhost:8080/",
          "height": 295
        }
      },
      "source": [
        "# visualization loss \n",
        "plt.plot(iteration_list,loss_list,label='validation')\n",
        "plt.plot(iteration_list,train_loss_list,label='train')\n",
        "plt.xlabel(\"Number of iteration\")\n",
        "plt.ylabel(\"Loss\")\n",
        "plt.legend(loc='best')\n",
        "plt.title(\"RNN: Loss vs Number of iteration\")\n",
        "plt.show()"
      ],
      "execution_count": 41,
      "outputs": [
        {
          "output_type": "display_data",
          "data": {
            "image/png": "[encoded data removed]",
            "text/plain": [
              "<Figure size 432x288 with 1 Axes>"
            ]
          },
          "metadata": {
            "tags": []
          }
        }
      ]
    },
    {
      "cell_type": "code",
      "metadata": {
        "trusted": true,
        "id": "t_ZCuX8nd2Ua",
        "colab_type": "code",
        "outputId": "c24c6114-dcbb-40d1-b2f0-0380f62016ca",
        "colab": {
          "base_uri": "https://localhost:8080/",
          "height": 295
        }
      },
      "source": [
        "# visualization accuracy \n",
        "plt.plot(iteration_list,accuracy_list,color = \"red\")\n",
        "plt.xlabel(\"Number of iteration\")\n",
        "plt.ylabel(\"Accuracy\")\n",
        "plt.title(\"RNN: Accuracy vs Number of iteration\")\n",
        "plt.savefig('graph.png')\n",
        "plt.show()"
      ],
      "execution_count": 42,
      "outputs": [
        {
          "output_type": "display_data",
          "data": {
            "image/png": "[encoded data removed]",
            "text/plain": [
              "<Figure size 432x288 with 1 Axes>"
            ]
          },
          "metadata": {
            "tags": []
          }
        }
      ]
    },
    {
      "cell_type": "code",
      "metadata": {
        "trusted": true,
        "id": "H9HJle8ld2Uf",
        "colab_type": "code",
        "colab": {}
      },
      "source": [
        "# torch.cuda.is_available()"
      ],
      "execution_count": 0,
      "outputs": []
    },
    {
      "cell_type": "code",
      "metadata": {
        "trusted": true,
        "id": "-y4mi4MLd2Uk",
        "colab_type": "code",
        "colab": {}
      },
      "source": [
        "# import pycuda.driver as cuda\n",
        "# cuda.init()\n",
        "# ## Get Id of default device\n",
        "# torch.cuda.current_device()\n",
        "# # 0\n",
        "# cuda.Device(0).name() # '0' is the id of your GPU\n",
        "# # Tesla K80"
      ],
      "execution_count": 0,
      "outputs": []
    },
    {
      "cell_type": "markdown",
      "metadata": {
        "id": "YH-fN9elUvb1",
        "colab_type": "text"
      },
      "source": [
        "## Save model\n",
        "and load"
      ]
    },
    {
      "cell_type": "code",
      "metadata": {
        "id": "gPWKyKAYVYz1",
        "colab_type": "code",
        "colab": {}
      },
      "source": [
        "state = {\n",
        "            'epoch': 5,\n",
        "            'state_dict': model.state_dict(),\n",
        "            'optimizer' : opt.state_dict()\n",
        "        }"
      ],
      "execution_count": 0,
      "outputs": []
    },
    {
      "cell_type": "code",
      "metadata": {
        "id": "QRIvoKriVlFk",
        "colab_type": "code",
        "colab": {}
      },
      "source": [
        "torch.save(state, 'model.pth.tar' )"
      ],
      "execution_count": 0,
      "outputs": []
    },
    {
      "cell_type": "code",
      "metadata": {
        "id": "EEO6BJz7Uw-q",
        "colab_type": "code",
        "colab": {}
      },
      "source": [
        "checkpoint = torch.load('model.pth.tar')\n",
        "start_epoch = checkpoint['epoch']+1\n",
        "model.load_state_dict(checkpoint['state_dict'])\n",
        "opt.load_state_dict(checkpoint['optimizer'])"
      ],
      "execution_count": 0,
      "outputs": []
    },
    {
      "cell_type": "markdown",
      "metadata": {
        "id": "B3DQwNa0d2Ut",
        "colab_type": "text"
      },
      "source": [
        "## Testing"
      ]
    },
    {
      "cell_type": "code",
      "metadata": {
        "trusted": true,
        "id": "ox23mQtyd2U0",
        "colab_type": "code",
        "outputId": "03fdcf63-6b2c-44fe-906a-c25584c885c6",
        "colab": {
          "base_uri": "https://localhost:8080/",
          "height": 235
        }
      },
      "source": [
        "test = pd.read_csv(files[1],index_col=0)\n",
        "test.head()"
      ],
      "execution_count": 46,
      "outputs": [
        {
          "output_type": "execute_result",
          "data": {
            "text/html": [
              "<div>\n",
              "<style scoped>\n",
              "    .dataframe tbody tr th:only-of-type {\n",
              "        vertical-align: middle;\n",
              "    }\n",
              "\n",
              "    .dataframe tbody tr th {\n",
              "        vertical-align: top;\n",
              "    }\n",
              "\n",
              "    .dataframe thead th {\n",
              "        text-align: right;\n",
              "    }\n",
              "</style>\n",
              "<table border=\"1\" class=\"dataframe\">\n",
              "  <thead>\n",
              "    <tr style=\"text-align: right;\">\n",
              "      <th></th>\n",
              "      <th>date</th>\n",
              "      <th>user</th>\n",
              "      <th>text</th>\n",
              "    </tr>\n",
              "    <tr>\n",
              "      <th>Id</th>\n",
              "      <th></th>\n",
              "      <th></th>\n",
              "      <th></th>\n",
              "    </tr>\n",
              "  </thead>\n",
              "  <tbody>\n",
              "    <tr>\n",
              "      <th>1280000</th>\n",
              "      <td>Tue Jun 16 18:18:12 PDT 2009</td>\n",
              "      <td>LaLaLindsey0609</td>\n",
              "      <td>@chrishasboobs AHHH I HOPE YOUR OK!!!</td>\n",
              "    </tr>\n",
              "    <tr>\n",
              "      <th>1280001</th>\n",
              "      <td>Mon Apr 06 23:11:14 PDT 2009</td>\n",
              "      <td>sexygrneyes</td>\n",
              "      <td>@misstoriblack cool , i have no tweet apps  fo...</td>\n",
              "    </tr>\n",
              "    <tr>\n",
              "      <th>1280002</th>\n",
              "      <td>Tue Jun 23 13:40:11 PDT 2009</td>\n",
              "      <td>sammydearr</td>\n",
              "      <td>@TiannaChaos i know  just family drama. its la...</td>\n",
              "    </tr>\n",
              "    <tr>\n",
              "      <th>1280003</th>\n",
              "      <td>Mon Jun 01 10:26:07 PDT 2009</td>\n",
              "      <td>Lamb_Leanne</td>\n",
              "      <td>School email won't open  and I have geography ...</td>\n",
              "    </tr>\n",
              "    <tr>\n",
              "      <th>1280004</th>\n",
              "      <td>Sat Jun 20 12:56:51 PDT 2009</td>\n",
              "      <td>yogicerdito</td>\n",
              "      <td>upper airways problem</td>\n",
              "    </tr>\n",
              "  </tbody>\n",
              "</table>\n",
              "</div>"
            ],
            "text/plain": [
              "                                 date  ...                                               text\n",
              "Id                                     ...                                                   \n",
              "1280000  Tue Jun 16 18:18:12 PDT 2009  ...             @chrishasboobs AHHH I HOPE YOUR OK!!! \n",
              "1280001  Mon Apr 06 23:11:14 PDT 2009  ...  @misstoriblack cool , i have no tweet apps  fo...\n",
              "1280002  Tue Jun 23 13:40:11 PDT 2009  ...  @TiannaChaos i know  just family drama. its la...\n",
              "1280003  Mon Jun 01 10:26:07 PDT 2009  ...  School email won't open  and I have geography ...\n",
              "1280004  Sat Jun 20 12:56:51 PDT 2009  ...                             upper airways problem \n",
              "\n",
              "[5 rows x 3 columns]"
            ]
          },
          "metadata": {
            "tags": []
          },
          "execution_count": 46
        }
      ]
    },
    {
      "cell_type": "code",
      "metadata": {
        "trusted": true,
        "id": "FdgMBz7id2U4",
        "colab_type": "code",
        "colab": {}
      },
      "source": [
        "textlist = test['text'].apply(simple_toks).tolist()"
      ],
      "execution_count": 0,
      "outputs": []
    },
    {
      "cell_type": "code",
      "metadata": {
        "trusted": true,
        "id": "1zQ3hzG2d2U9",
        "colab_type": "code",
        "colab": {}
      },
      "source": [
        "nums = [[stoi[w] if w in itos else 0 for w in sent] for sent in textlist]"
      ],
      "execution_count": 0,
      "outputs": []
    },
    {
      "cell_type": "code",
      "metadata": {
        "id": "C_Ih-80NzwBq",
        "colab_type": "code",
        "colab": {}
      },
      "source": [
        "with open(\"test_nums.txt\", \"rb\") as fp:   # Unpickling\n",
        "    nums = pickle.load(fp)"
      ],
      "execution_count": 0,
      "outputs": []
    },
    {
      "cell_type": "code",
      "metadata": {
        "trusted": true,
        "id": "OCrKtuvad2VD",
        "colab_type": "code",
        "colab": {}
      },
      "source": [
        "padded = pad_sequences(nums, maxlen=max_length, padding='post', truncating='post', value=0)"
      ],
      "execution_count": 0,
      "outputs": []
    },
    {
      "cell_type": "code",
      "metadata": {
        "trusted": true,
        "id": "JeJLkfBOd2VF",
        "colab_type": "code",
        "colab": {}
      },
      "source": [
        "x = torch.from_numpy(padded).type(torch.LongTensor).to(device)\n",
        "x = torch.utils.data.TensorDataset(x)\n",
        "x_loader = torch.utils.data.DataLoader(x, batch_size = batch_size, shuffle = True)"
      ],
      "execution_count": 0,
      "outputs": []
    },
    {
      "cell_type": "code",
      "metadata": {
        "trusted": true,
        "id": "zenWKSWed2VI",
        "colab_type": "code",
        "colab": {
          "base_uri": "https://localhost:8080/",
          "height": 34
        },
        "outputId": "86cfdba1-50f1-4607-a257-66ab687a34d6"
      },
      "source": [
        "preds = torch.zeros([len(test),1])\n",
        "preds.shape"
      ],
      "execution_count": 50,
      "outputs": [
        {
          "output_type": "execute_result",
          "data": {
            "text/plain": [
              "torch.Size([320000, 1])"
            ]
          },
          "metadata": {
            "tags": []
          },
          "execution_count": 50
        }
      ]
    },
    {
      "cell_type": "code",
      "metadata": {
        "trusted": true,
        "id": "Wx3S0njDd2VL",
        "colab_type": "code",
        "colab": {}
      },
      "source": [
        "model.eval()\n",
        "cnt=0\n",
        "for txt in x_loader:\n",
        "    bs=txt[0].shape[0]\n",
        "    txt = Variable(txt[0].reshape(-1,bs))\n",
        "    outputs = model(txt)\n",
        "    ncnt=cnt+bs\n",
        "    preds[cnt:ncnt]=(outputs.data>=0.5)\n",
        "    cnt=ncnt"
      ],
      "execution_count": 0,
      "outputs": []
    },
    {
      "cell_type": "code",
      "metadata": {
        "trusted": true,
        "id": "WbCtV2Xvd2VO",
        "colab_type": "code",
        "colab": {}
      },
      "source": [
        "out = pd.Series(preds.numpy().reshape(-1))"
      ],
      "execution_count": 0,
      "outputs": []
    },
    {
      "cell_type": "code",
      "metadata": {
        "trusted": true,
        "id": "YeXufXhad2VU",
        "colab_type": "code",
        "colab": {}
      },
      "source": [
        "out.index=test.index"
      ],
      "execution_count": 0,
      "outputs": []
    },
    {
      "cell_type": "code",
      "metadata": {
        "trusted": true,
        "id": "bSJgX-54d2VY",
        "colab_type": "code",
        "colab": {}
      },
      "source": [
        "out = out.astype(int)"
      ],
      "execution_count": 0,
      "outputs": []
    },
    {
      "cell_type": "code",
      "metadata": {
        "trusted": true,
        "id": "DClKVle5d2Vb",
        "colab_type": "code",
        "colab": {
          "base_uri": "https://localhost:8080/",
          "height": 390
        },
        "outputId": "811824b3-b149-445b-a242-d3a68fa42c82"
      },
      "source": [
        "outdf = pd.DataFrame(out*4)\n",
        "outdf.head(10)"
      ],
      "execution_count": 55,
      "outputs": [
        {
          "output_type": "execute_result",
          "data": {
            "text/html": [
              "<div>\n",
              "<style scoped>\n",
              "    .dataframe tbody tr th:only-of-type {\n",
              "        vertical-align: middle;\n",
              "    }\n",
              "\n",
              "    .dataframe tbody tr th {\n",
              "        vertical-align: top;\n",
              "    }\n",
              "\n",
              "    .dataframe thead th {\n",
              "        text-align: right;\n",
              "    }\n",
              "</style>\n",
              "<table border=\"1\" class=\"dataframe\">\n",
              "  <thead>\n",
              "    <tr style=\"text-align: right;\">\n",
              "      <th></th>\n",
              "      <th>0</th>\n",
              "    </tr>\n",
              "    <tr>\n",
              "      <th>Id</th>\n",
              "      <th></th>\n",
              "    </tr>\n",
              "  </thead>\n",
              "  <tbody>\n",
              "    <tr>\n",
              "      <th>1280000</th>\n",
              "      <td>4</td>\n",
              "    </tr>\n",
              "    <tr>\n",
              "      <th>1280001</th>\n",
              "      <td>0</td>\n",
              "    </tr>\n",
              "    <tr>\n",
              "      <th>1280002</th>\n",
              "      <td>4</td>\n",
              "    </tr>\n",
              "    <tr>\n",
              "      <th>1280003</th>\n",
              "      <td>0</td>\n",
              "    </tr>\n",
              "    <tr>\n",
              "      <th>1280004</th>\n",
              "      <td>0</td>\n",
              "    </tr>\n",
              "    <tr>\n",
              "      <th>1280005</th>\n",
              "      <td>4</td>\n",
              "    </tr>\n",
              "    <tr>\n",
              "      <th>1280006</th>\n",
              "      <td>4</td>\n",
              "    </tr>\n",
              "    <tr>\n",
              "      <th>1280007</th>\n",
              "      <td>4</td>\n",
              "    </tr>\n",
              "    <tr>\n",
              "      <th>1280008</th>\n",
              "      <td>4</td>\n",
              "    </tr>\n",
              "    <tr>\n",
              "      <th>1280009</th>\n",
              "      <td>0</td>\n",
              "    </tr>\n",
              "  </tbody>\n",
              "</table>\n",
              "</div>"
            ],
            "text/plain": [
              "         0\n",
              "Id        \n",
              "1280000  4\n",
              "1280001  0\n",
              "1280002  4\n",
              "1280003  0\n",
              "1280004  0\n",
              "1280005  4\n",
              "1280006  4\n",
              "1280007  4\n",
              "1280008  4\n",
              "1280009  0"
            ]
          },
          "metadata": {
            "tags": []
          },
          "execution_count": 55
        }
      ]
    },
    {
      "cell_type": "code",
      "metadata": {
        "trusted": true,
        "id": "SvLJNciod2Vf",
        "colab_type": "code",
        "colab": {}
      },
      "source": [
        "outdf.columns=['target']"
      ],
      "execution_count": 0,
      "outputs": []
    },
    {
      "cell_type": "code",
      "metadata": {
        "trusted": true,
        "id": "A0_PD_kFd2Vj",
        "colab_type": "code",
        "colab": {
          "base_uri": "https://localhost:8080/",
          "height": 390
        },
        "outputId": "415d5de7-1491-48df-84c7-bc4b382d54ac"
      },
      "source": [
        "outdf.head(10)"
      ],
      "execution_count": 57,
      "outputs": [
        {
          "output_type": "execute_result",
          "data": {
            "text/html": [
              "<div>\n",
              "<style scoped>\n",
              "    .dataframe tbody tr th:only-of-type {\n",
              "        vertical-align: middle;\n",
              "    }\n",
              "\n",
              "    .dataframe tbody tr th {\n",
              "        vertical-align: top;\n",
              "    }\n",
              "\n",
              "    .dataframe thead th {\n",
              "        text-align: right;\n",
              "    }\n",
              "</style>\n",
              "<table border=\"1\" class=\"dataframe\">\n",
              "  <thead>\n",
              "    <tr style=\"text-align: right;\">\n",
              "      <th></th>\n",
              "      <th>target</th>\n",
              "    </tr>\n",
              "    <tr>\n",
              "      <th>Id</th>\n",
              "      <th></th>\n",
              "    </tr>\n",
              "  </thead>\n",
              "  <tbody>\n",
              "    <tr>\n",
              "      <th>1280000</th>\n",
              "      <td>4</td>\n",
              "    </tr>\n",
              "    <tr>\n",
              "      <th>1280001</th>\n",
              "      <td>0</td>\n",
              "    </tr>\n",
              "    <tr>\n",
              "      <th>1280002</th>\n",
              "      <td>4</td>\n",
              "    </tr>\n",
              "    <tr>\n",
              "      <th>1280003</th>\n",
              "      <td>0</td>\n",
              "    </tr>\n",
              "    <tr>\n",
              "      <th>1280004</th>\n",
              "      <td>0</td>\n",
              "    </tr>\n",
              "    <tr>\n",
              "      <th>1280005</th>\n",
              "      <td>4</td>\n",
              "    </tr>\n",
              "    <tr>\n",
              "      <th>1280006</th>\n",
              "      <td>4</td>\n",
              "    </tr>\n",
              "    <tr>\n",
              "      <th>1280007</th>\n",
              "      <td>4</td>\n",
              "    </tr>\n",
              "    <tr>\n",
              "      <th>1280008</th>\n",
              "      <td>4</td>\n",
              "    </tr>\n",
              "    <tr>\n",
              "      <th>1280009</th>\n",
              "      <td>0</td>\n",
              "    </tr>\n",
              "  </tbody>\n",
              "</table>\n",
              "</div>"
            ],
            "text/plain": [
              "         target\n",
              "Id             \n",
              "1280000       4\n",
              "1280001       0\n",
              "1280002       4\n",
              "1280003       0\n",
              "1280004       0\n",
              "1280005       4\n",
              "1280006       4\n",
              "1280007       4\n",
              "1280008       4\n",
              "1280009       0"
            ]
          },
          "metadata": {
            "tags": []
          },
          "execution_count": 57
        }
      ]
    },
    {
      "cell_type": "code",
      "metadata": {
        "trusted": true,
        "id": "iAE7u0Odd2Vl",
        "colab_type": "code",
        "colab": {}
      },
      "source": [
        "outdf.to_csv('test_output.csv')"
      ],
      "execution_count": 0,
      "outputs": []
    },
    {
      "cell_type": "code",
      "metadata": {
        "trusted": true,
        "id": "Q0tE6UBWd2Vu",
        "colab_type": "code",
        "colab": {}
      },
      "source": [
        "ts = pd.read_csv('test_output.csv')"
      ],
      "execution_count": 0,
      "outputs": []
    },
    {
      "cell_type": "code",
      "metadata": {
        "trusted": true,
        "id": "IvfYxGpNd2Vy",
        "colab_type": "code",
        "colab": {
          "base_uri": "https://localhost:8080/",
          "height": 204
        },
        "outputId": "00a82e13-6a9d-4c40-f0cd-7e37e5a44d26"
      },
      "source": [
        "ts.head()"
      ],
      "execution_count": 60,
      "outputs": [
        {
          "output_type": "execute_result",
          "data": {
            "text/html": [
              "<div>\n",
              "<style scoped>\n",
              "    .dataframe tbody tr th:only-of-type {\n",
              "        vertical-align: middle;\n",
              "    }\n",
              "\n",
              "    .dataframe tbody tr th {\n",
              "        vertical-align: top;\n",
              "    }\n",
              "\n",
              "    .dataframe thead th {\n",
              "        text-align: right;\n",
              "    }\n",
              "</style>\n",
              "<table border=\"1\" class=\"dataframe\">\n",
              "  <thead>\n",
              "    <tr style=\"text-align: right;\">\n",
              "      <th></th>\n",
              "      <th>Id</th>\n",
              "      <th>target</th>\n",
              "    </tr>\n",
              "  </thead>\n",
              "  <tbody>\n",
              "    <tr>\n",
              "      <th>0</th>\n",
              "      <td>1280000</td>\n",
              "      <td>4</td>\n",
              "    </tr>\n",
              "    <tr>\n",
              "      <th>1</th>\n",
              "      <td>1280001</td>\n",
              "      <td>0</td>\n",
              "    </tr>\n",
              "    <tr>\n",
              "      <th>2</th>\n",
              "      <td>1280002</td>\n",
              "      <td>4</td>\n",
              "    </tr>\n",
              "    <tr>\n",
              "      <th>3</th>\n",
              "      <td>1280003</td>\n",
              "      <td>0</td>\n",
              "    </tr>\n",
              "    <tr>\n",
              "      <th>4</th>\n",
              "      <td>1280004</td>\n",
              "      <td>0</td>\n",
              "    </tr>\n",
              "  </tbody>\n",
              "</table>\n",
              "</div>"
            ],
            "text/plain": [
              "        Id  target\n",
              "0  1280000       4\n",
              "1  1280001       0\n",
              "2  1280002       4\n",
              "3  1280003       0\n",
              "4  1280004       0"
            ]
          },
          "metadata": {
            "tags": []
          },
          "execution_count": 60
        }
      ]
    },
    {
      "cell_type": "markdown",
      "metadata": {
        "id": "QrEsEPAjd2V4",
        "colab_type": "text"
      },
      "source": [
        "## Required Printing"
      ]
    },
    {
      "cell_type": "code",
      "metadata": {
        "trusted": true,
        "id": "9NaHgsDPd2V5",
        "colab_type": "code",
        "colab": {
          "base_uri": "https://localhost:8080/",
          "height": 1000
        },
        "outputId": "f447915e-5ef5-42c6-b877-9d8a87964160"
      },
      "source": [
        "outdf"
      ],
      "execution_count": 61,
      "outputs": [
        {
          "output_type": "execute_result",
          "data": {
            "text/html": [
              "<div>\n",
              "<style scoped>\n",
              "    .dataframe tbody tr th:only-of-type {\n",
              "        vertical-align: middle;\n",
              "    }\n",
              "\n",
              "    .dataframe tbody tr th {\n",
              "        vertical-align: top;\n",
              "    }\n",
              "\n",
              "    .dataframe thead th {\n",
              "        text-align: right;\n",
              "    }\n",
              "</style>\n",
              "<table border=\"1\" class=\"dataframe\">\n",
              "  <thead>\n",
              "    <tr style=\"text-align: right;\">\n",
              "      <th></th>\n",
              "      <th>target</th>\n",
              "    </tr>\n",
              "    <tr>\n",
              "      <th>Id</th>\n",
              "      <th></th>\n",
              "    </tr>\n",
              "  </thead>\n",
              "  <tbody>\n",
              "    <tr>\n",
              "      <th>1280000</th>\n",
              "      <td>4</td>\n",
              "    </tr>\n",
              "    <tr>\n",
              "      <th>1280001</th>\n",
              "      <td>0</td>\n",
              "    </tr>\n",
              "    <tr>\n",
              "      <th>1280002</th>\n",
              "      <td>4</td>\n",
              "    </tr>\n",
              "    <tr>\n",
              "      <th>1280003</th>\n",
              "      <td>0</td>\n",
              "    </tr>\n",
              "    <tr>\n",
              "      <th>1280004</th>\n",
              "      <td>0</td>\n",
              "    </tr>\n",
              "    <tr>\n",
              "      <th>1280005</th>\n",
              "      <td>4</td>\n",
              "    </tr>\n",
              "    <tr>\n",
              "      <th>1280006</th>\n",
              "      <td>4</td>\n",
              "    </tr>\n",
              "    <tr>\n",
              "      <th>1280007</th>\n",
              "      <td>4</td>\n",
              "    </tr>\n",
              "    <tr>\n",
              "      <th>1280008</th>\n",
              "      <td>4</td>\n",
              "    </tr>\n",
              "    <tr>\n",
              "      <th>1280009</th>\n",
              "      <td>0</td>\n",
              "    </tr>\n",
              "    <tr>\n",
              "      <th>1280010</th>\n",
              "      <td>4</td>\n",
              "    </tr>\n",
              "    <tr>\n",
              "      <th>1280011</th>\n",
              "      <td>0</td>\n",
              "    </tr>\n",
              "    <tr>\n",
              "      <th>1280012</th>\n",
              "      <td>0</td>\n",
              "    </tr>\n",
              "    <tr>\n",
              "      <th>1280013</th>\n",
              "      <td>0</td>\n",
              "    </tr>\n",
              "    <tr>\n",
              "      <th>1280014</th>\n",
              "      <td>4</td>\n",
              "    </tr>\n",
              "    <tr>\n",
              "      <th>1280015</th>\n",
              "      <td>4</td>\n",
              "    </tr>\n",
              "    <tr>\n",
              "      <th>1280016</th>\n",
              "      <td>0</td>\n",
              "    </tr>\n",
              "    <tr>\n",
              "      <th>1280017</th>\n",
              "      <td>4</td>\n",
              "    </tr>\n",
              "    <tr>\n",
              "      <th>1280018</th>\n",
              "      <td>4</td>\n",
              "    </tr>\n",
              "    <tr>\n",
              "      <th>1280019</th>\n",
              "      <td>4</td>\n",
              "    </tr>\n",
              "    <tr>\n",
              "      <th>1280020</th>\n",
              "      <td>0</td>\n",
              "    </tr>\n",
              "    <tr>\n",
              "      <th>1280021</th>\n",
              "      <td>0</td>\n",
              "    </tr>\n",
              "    <tr>\n",
              "      <th>1280022</th>\n",
              "      <td>0</td>\n",
              "    </tr>\n",
              "    <tr>\n",
              "      <th>1280023</th>\n",
              "      <td>0</td>\n",
              "    </tr>\n",
              "    <tr>\n",
              "      <th>1280024</th>\n",
              "      <td>0</td>\n",
              "    </tr>\n",
              "    <tr>\n",
              "      <th>1280025</th>\n",
              "      <td>4</td>\n",
              "    </tr>\n",
              "    <tr>\n",
              "      <th>1280026</th>\n",
              "      <td>0</td>\n",
              "    </tr>\n",
              "    <tr>\n",
              "      <th>1280027</th>\n",
              "      <td>0</td>\n",
              "    </tr>\n",
              "    <tr>\n",
              "      <th>1280028</th>\n",
              "      <td>0</td>\n",
              "    </tr>\n",
              "    <tr>\n",
              "      <th>1280029</th>\n",
              "      <td>4</td>\n",
              "    </tr>\n",
              "    <tr>\n",
              "      <th>...</th>\n",
              "      <td>...</td>\n",
              "    </tr>\n",
              "    <tr>\n",
              "      <th>1599970</th>\n",
              "      <td>4</td>\n",
              "    </tr>\n",
              "    <tr>\n",
              "      <th>1599971</th>\n",
              "      <td>4</td>\n",
              "    </tr>\n",
              "    <tr>\n",
              "      <th>1599972</th>\n",
              "      <td>4</td>\n",
              "    </tr>\n",
              "    <tr>\n",
              "      <th>1599973</th>\n",
              "      <td>0</td>\n",
              "    </tr>\n",
              "    <tr>\n",
              "      <th>1599974</th>\n",
              "      <td>0</td>\n",
              "    </tr>\n",
              "    <tr>\n",
              "      <th>1599975</th>\n",
              "      <td>4</td>\n",
              "    </tr>\n",
              "    <tr>\n",
              "      <th>1599976</th>\n",
              "      <td>0</td>\n",
              "    </tr>\n",
              "    <tr>\n",
              "      <th>1599977</th>\n",
              "      <td>0</td>\n",
              "    </tr>\n",
              "    <tr>\n",
              "      <th>1599978</th>\n",
              "      <td>4</td>\n",
              "    </tr>\n",
              "    <tr>\n",
              "      <th>1599979</th>\n",
              "      <td>4</td>\n",
              "    </tr>\n",
              "    <tr>\n",
              "      <th>1599980</th>\n",
              "      <td>4</td>\n",
              "    </tr>\n",
              "    <tr>\n",
              "      <th>1599981</th>\n",
              "      <td>0</td>\n",
              "    </tr>\n",
              "    <tr>\n",
              "      <th>1599982</th>\n",
              "      <td>0</td>\n",
              "    </tr>\n",
              "    <tr>\n",
              "      <th>1599983</th>\n",
              "      <td>4</td>\n",
              "    </tr>\n",
              "    <tr>\n",
              "      <th>1599984</th>\n",
              "      <td>0</td>\n",
              "    </tr>\n",
              "    <tr>\n",
              "      <th>1599985</th>\n",
              "      <td>4</td>\n",
              "    </tr>\n",
              "    <tr>\n",
              "      <th>1599986</th>\n",
              "      <td>0</td>\n",
              "    </tr>\n",
              "    <tr>\n",
              "      <th>1599987</th>\n",
              "      <td>0</td>\n",
              "    </tr>\n",
              "    <tr>\n",
              "      <th>1599988</th>\n",
              "      <td>0</td>\n",
              "    </tr>\n",
              "    <tr>\n",
              "      <th>1599989</th>\n",
              "      <td>4</td>\n",
              "    </tr>\n",
              "    <tr>\n",
              "      <th>1599990</th>\n",
              "      <td>4</td>\n",
              "    </tr>\n",
              "    <tr>\n",
              "      <th>1599991</th>\n",
              "      <td>4</td>\n",
              "    </tr>\n",
              "    <tr>\n",
              "      <th>1599992</th>\n",
              "      <td>4</td>\n",
              "    </tr>\n",
              "    <tr>\n",
              "      <th>1599993</th>\n",
              "      <td>4</td>\n",
              "    </tr>\n",
              "    <tr>\n",
              "      <th>1599994</th>\n",
              "      <td>4</td>\n",
              "    </tr>\n",
              "    <tr>\n",
              "      <th>1599995</th>\n",
              "      <td>0</td>\n",
              "    </tr>\n",
              "    <tr>\n",
              "      <th>1599996</th>\n",
              "      <td>0</td>\n",
              "    </tr>\n",
              "    <tr>\n",
              "      <th>1599997</th>\n",
              "      <td>4</td>\n",
              "    </tr>\n",
              "    <tr>\n",
              "      <th>1599998</th>\n",
              "      <td>0</td>\n",
              "    </tr>\n",
              "    <tr>\n",
              "      <th>1599999</th>\n",
              "      <td>0</td>\n",
              "    </tr>\n",
              "  </tbody>\n",
              "</table>\n",
              "<p>320000 rows × 1 columns</p>\n",
              "</div>"
            ],
            "text/plain": [
              "         target\n",
              "Id             \n",
              "1280000       4\n",
              "1280001       0\n",
              "1280002       4\n",
              "1280003       0\n",
              "1280004       0\n",
              "1280005       4\n",
              "1280006       4\n",
              "1280007       4\n",
              "1280008       4\n",
              "1280009       0\n",
              "1280010       4\n",
              "1280011       0\n",
              "1280012       0\n",
              "1280013       0\n",
              "1280014       4\n",
              "1280015       4\n",
              "1280016       0\n",
              "1280017       4\n",
              "1280018       4\n",
              "1280019       4\n",
              "1280020       0\n",
              "1280021       0\n",
              "1280022       0\n",
              "1280023       0\n",
              "1280024       0\n",
              "1280025       4\n",
              "1280026       0\n",
              "1280027       0\n",
              "1280028       0\n",
              "1280029       4\n",
              "...         ...\n",
              "1599970       4\n",
              "1599971       4\n",
              "1599972       4\n",
              "1599973       0\n",
              "1599974       0\n",
              "1599975       4\n",
              "1599976       0\n",
              "1599977       0\n",
              "1599978       4\n",
              "1599979       4\n",
              "1599980       4\n",
              "1599981       0\n",
              "1599982       0\n",
              "1599983       4\n",
              "1599984       0\n",
              "1599985       4\n",
              "1599986       0\n",
              "1599987       0\n",
              "1599988       0\n",
              "1599989       4\n",
              "1599990       4\n",
              "1599991       4\n",
              "1599992       4\n",
              "1599993       4\n",
              "1599994       4\n",
              "1599995       0\n",
              "1599996       0\n",
              "1599997       4\n",
              "1599998       0\n",
              "1599999       0\n",
              "\n",
              "[320000 rows x 1 columns]"
            ]
          },
          "metadata": {
            "tags": []
          },
          "execution_count": 61
        }
      ]
    },
    {
      "cell_type": "code",
      "metadata": {
        "trusted": true,
        "id": "FuAzDO5Nd2V8",
        "colab_type": "code",
        "colab": {
          "base_uri": "https://localhost:8080/",
          "height": 34
        },
        "outputId": "d60c6e67-860d-4324-b8a1-ac9012c6373f"
      },
      "source": [
        "print('training loss {}, validation loss {}, validation accuracy {}'.format(train_loss_list[-1],loss_list[-1],accuracy_list[-1]))"
      ],
      "execution_count": 62,
      "outputs": [
        {
          "output_type": "stream",
          "text": [
            "training loss 0.00440560095012188, validation loss 0.004413445945829153, validation accuracy 80\n"
          ],
          "name": "stdout"
        }
      ]
    },
    {
      "cell_type": "code",
      "metadata": {
        "id": "3tR7QJAYiCn3",
        "colab_type": "code",
        "colab": {}
      },
      "source": [
        ""
      ],
      "execution_count": 0,
      "outputs": []
    }
  ]
}
