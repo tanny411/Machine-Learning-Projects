{
  "nbformat": 4,
  "nbformat_minor": 0,
  "metadata": {
    "colab": {
      "name": "Text Summarization.ipynb",
      "version": "0.3.2",
      "provenance": [],
      "collapsed_sections": []
    },
    "kernelspec": {
      "name": "python3",
      "display_name": "Python 3"
    },
    "accelerator": "GPU"
  },
  "cells": [
    {
      "cell_type": "markdown",
      "metadata": {
        "id": "4RaJkWDaRyu9",
        "colab_type": "text"
      },
      "source": [
        "## Resources"
      ]
    },
    {
      "cell_type": "markdown",
      "metadata": {
        "id": "v2Ar6lcNRUlR",
        "colab_type": "text"
      },
      "source": [
        "In Tensorflow: \n",
        "  - https://towardsdatascience.com/text-summarization-with-amazon-reviews-41801c2210b\n",
        "  - https://github.com/Currie32/Text-Summarization-with-Amazon-Reviews/blob/master/summarize_reviews.ipynb\n",
        "\n",
        "Using Attention: \n",
        "  - https://github.com/alesee/abstractive-text-summarization/blob/master/abstractive-text-summ.ipynb\n",
        "  - https://pytorch.org/tutorials/intermediate/seq2seq_translation_tutorial.html\n",
        "  - https://www.kaggle.com/manuhg/summarizing-text-with-amazon-reviews ** See"
      ]
    },
    {
      "cell_type": "markdown",
      "metadata": {
        "id": "K4KKSqxtR0iv",
        "colab_type": "text"
      },
      "source": [
        "## Getting Data"
      ]
    },
    {
      "cell_type": "code",
      "metadata": {
        "id": "xNTMoX2Me-j-",
        "colab_type": "code",
        "colab": {}
      },
      "source": [
        "# !pip install kaggle"
      ],
      "execution_count": 0,
      "outputs": []
    },
    {
      "cell_type": "code",
      "metadata": {
        "id": "nLwE-qwYe-gU",
        "colab_type": "code",
        "colab": {}
      },
      "source": [
        "!mkdir .kaggle"
      ],
      "execution_count": 0,
      "outputs": []
    },
    {
      "cell_type": "code",
      "metadata": {
        "id": "r4hr53SlgJgA",
        "colab_type": "code",
        "colab": {}
      },
      "source": [
        "!mkdir ~/.kaggle"
      ],
      "execution_count": 0,
      "outputs": []
    },
    {
      "cell_type": "code",
      "metadata": {
        "id": "ezC0nIDie-et",
        "colab_type": "code",
        "colab": {}
      },
      "source": [
        "import json\n",
        "token = {'username':'aishakhatun','key':'b8b756bc063399448968c46d2b651461'}\n",
        "with open('/content/.kaggle/kaggle.json', 'w') as file:\n",
        "    json.dump(token, file)"
      ],
      "execution_count": 0,
      "outputs": []
    },
    {
      "cell_type": "code",
      "metadata": {
        "id": "KKX3k2c2e-Yc",
        "colab_type": "code",
        "colab": {}
      },
      "source": [
        "!cp /content/.kaggle/kaggle.json ~/.kaggle/kaggle.json"
      ],
      "execution_count": 0,
      "outputs": []
    },
    {
      "cell_type": "code",
      "metadata": {
        "id": "yV5ZltIVfypZ",
        "colab_type": "code",
        "outputId": "9173d4a4-2ee7-48d1-a10c-d8d16e6aeb74",
        "colab": {
          "base_uri": "https://localhost:8080/",
          "height": 51
        }
      },
      "source": [
        "!kaggle config set -n path -v{/content}"
      ],
      "execution_count": 0,
      "outputs": [
        {
          "output_type": "stream",
          "text": [
            "Warning: Your Kaggle API key is readable by other users on this system! To fix this, you can run 'chmod 600 /root/.kaggle/kaggle.json'\n",
            "- path is now set to: {/content}\n"
          ],
          "name": "stdout"
        }
      ]
    },
    {
      "cell_type": "code",
      "metadata": {
        "id": "_0M5gq3YfynA",
        "colab_type": "code",
        "colab": {}
      },
      "source": [
        "!chmod 600 /root/.kaggle/kaggle.json"
      ],
      "execution_count": 0,
      "outputs": []
    },
    {
      "cell_type": "code",
      "metadata": {
        "id": "xWN58vvFfyim",
        "colab_type": "code",
        "colab": {}
      },
      "source": [
        "# !kaggle datasets list"
      ],
      "execution_count": 0,
      "outputs": []
    },
    {
      "cell_type": "code",
      "metadata": {
        "id": "9kAAyiD6ge7u",
        "colab_type": "code",
        "outputId": "d0550ffa-30cf-4582-ef4c-983b8828324f",
        "colab": {
          "base_uri": "https://localhost:8080/",
          "height": 68
        }
      },
      "source": [
        "!kaggle datasets download -d snap/amazon-fine-food-reviews -p /content"
      ],
      "execution_count": 0,
      "outputs": [
        {
          "output_type": "stream",
          "text": [
            "Downloading amazon-fine-food-reviews.zip to /content\n",
            " 99% 249M/251M [00:05<00:00, 36.4MB/s]\n",
            "100% 251M/251M [00:05<00:00, 48.4MB/s]\n"
          ],
          "name": "stdout"
        }
      ]
    },
    {
      "cell_type": "code",
      "metadata": {
        "id": "896FeTWkhEvp",
        "colab_type": "code",
        "outputId": "413e120d-19c2-4431-f05b-0785717cd406",
        "colab": {
          "base_uri": "https://localhost:8080/",
          "height": 85
        }
      },
      "source": [
        "!unzip \\*.zip"
      ],
      "execution_count": 0,
      "outputs": [
        {
          "output_type": "stream",
          "text": [
            "Archive:  amazon-fine-food-reviews.zip\n",
            "  inflating: Reviews.csv             \n",
            "  inflating: database.sqlite         \n",
            "  inflating: hashes.txt              \n"
          ],
          "name": "stdout"
        }
      ]
    },
    {
      "cell_type": "markdown",
      "metadata": {
        "id": "x2hZYLvkTPmv",
        "colab_type": "text"
      },
      "source": [
        "## EDA"
      ]
    },
    {
      "cell_type": "code",
      "metadata": {
        "id": "xl8i7_StT5zi",
        "colab_type": "code",
        "outputId": "94dd5b72-7511-494a-c6a3-b27abaa15c2b",
        "colab": {
          "base_uri": "https://localhost:8080/",
          "height": 34
        }
      },
      "source": [
        "import pandas as pd\n",
        "import numpy as np\n",
        "import matplotlib.pyplot as plt\n",
        "import os\n",
        "from torchtext import data, vocab\n",
        "from tqdm import tqdm\n",
        "from sklearn.model_selection import train_test_split\n",
        "import spacy\n",
        "import torchtext\n",
        "from torchtext.data import Field, BucketIterator, TabularDataset\n",
        "en = spacy.load('en')\n",
        "import numpy as np\n",
        "import pandas as pd\n",
        "import os\n",
        "import string\n",
        "import re\n",
        "import matplotlib.pyplot as plt\n",
        "import torch\n",
        "import torch.nn as nn\n",
        "from torch.nn import functional as F\n",
        "from torch.autograd import Variable\n",
        "import torch.utils.data\n",
        "from sklearn.model_selection import train_test_split\n",
        "from keras.preprocessing.sequence import pad_sequences\n",
        "from collections import Counter\n",
        "import pickle"
      ],
      "execution_count": 0,
      "outputs": [
        {
          "output_type": "stream",
          "text": [
            "Using TensorFlow backend.\n"
          ],
          "name": "stderr"
        }
      ]
    },
    {
      "cell_type": "code",
      "metadata": {
        "id": "YHjF0BLTQ8yS",
        "colab_type": "code",
        "outputId": "577e0af6-1d2c-4da8-f4b9-36f17514aefc",
        "colab": {
          "base_uri": "https://localhost:8080/",
          "height": 204
        }
      },
      "source": [
        "df = pd.read_csv('Reviews.csv')[['Summary', 'Text']]\n",
        "df.head()"
      ],
      "execution_count": 0,
      "outputs": [
        {
          "output_type": "execute_result",
          "data": {
            "text/html": [
              "<div>\n",
              "<style scoped>\n",
              "    .dataframe tbody tr th:only-of-type {\n",
              "        vertical-align: middle;\n",
              "    }\n",
              "\n",
              "    .dataframe tbody tr th {\n",
              "        vertical-align: top;\n",
              "    }\n",
              "\n",
              "    .dataframe thead th {\n",
              "        text-align: right;\n",
              "    }\n",
              "</style>\n",
              "<table border=\"1\" class=\"dataframe\">\n",
              "  <thead>\n",
              "    <tr style=\"text-align: right;\">\n",
              "      <th></th>\n",
              "      <th>Summary</th>\n",
              "      <th>Text</th>\n",
              "    </tr>\n",
              "  </thead>\n",
              "  <tbody>\n",
              "    <tr>\n",
              "      <th>0</th>\n",
              "      <td>Good Quality Dog Food</td>\n",
              "      <td>I have bought several of the Vitality canned d...</td>\n",
              "    </tr>\n",
              "    <tr>\n",
              "      <th>1</th>\n",
              "      <td>Not as Advertised</td>\n",
              "      <td>Product arrived labeled as Jumbo Salted Peanut...</td>\n",
              "    </tr>\n",
              "    <tr>\n",
              "      <th>2</th>\n",
              "      <td>\"Delight\" says it all</td>\n",
              "      <td>This is a confection that has been around a fe...</td>\n",
              "    </tr>\n",
              "    <tr>\n",
              "      <th>3</th>\n",
              "      <td>Cough Medicine</td>\n",
              "      <td>If you are looking for the secret ingredient i...</td>\n",
              "    </tr>\n",
              "    <tr>\n",
              "      <th>4</th>\n",
              "      <td>Great taffy</td>\n",
              "      <td>Great taffy at a great price.  There was a wid...</td>\n",
              "    </tr>\n",
              "  </tbody>\n",
              "</table>\n",
              "</div>"
            ],
            "text/plain": [
              "                 Summary                                               Text\n",
              "0  Good Quality Dog Food  I have bought several of the Vitality canned d...\n",
              "1      Not as Advertised  Product arrived labeled as Jumbo Salted Peanut...\n",
              "2  \"Delight\" says it all  This is a confection that has been around a fe...\n",
              "3         Cough Medicine  If you are looking for the secret ingredient i...\n",
              "4            Great taffy  Great taffy at a great price.  There was a wid..."
            ]
          },
          "metadata": {
            "tags": []
          },
          "execution_count": 11
        }
      ]
    },
    {
      "cell_type": "code",
      "metadata": {
        "id": "p_uZGjVVTWz4",
        "colab_type": "code",
        "outputId": "4cfe11b6-8778-44cb-d283-1c5bad5f7a5c",
        "colab": {
          "base_uri": "https://localhost:8080/",
          "height": 34
        }
      },
      "source": [
        "df.shape"
      ],
      "execution_count": 0,
      "outputs": [
        {
          "output_type": "execute_result",
          "data": {
            "text/plain": [
              "(568454, 2)"
            ]
          },
          "metadata": {
            "tags": []
          },
          "execution_count": 12
        }
      ]
    },
    {
      "cell_type": "code",
      "metadata": {
        "id": "B8qnTKUXUKZm",
        "colab_type": "code",
        "colab": {}
      },
      "source": [
        "df = df.dropna().reset_index(drop=True)"
      ],
      "execution_count": 0,
      "outputs": []
    },
    {
      "cell_type": "code",
      "metadata": {
        "id": "zKAc9ywpUTuL",
        "colab_type": "code",
        "outputId": "38ee8986-a8a8-4d69-b730-509aec16b214",
        "colab": {
          "base_uri": "https://localhost:8080/",
          "height": 34
        }
      },
      "source": [
        "df.shape"
      ],
      "execution_count": 0,
      "outputs": [
        {
          "output_type": "execute_result",
          "data": {
            "text/plain": [
              "(568427, 2)"
            ]
          },
          "metadata": {
            "tags": []
          },
          "execution_count": 14
        }
      ]
    },
    {
      "cell_type": "markdown",
      "metadata": {
        "id": "iARYk-o2VDUD",
        "colab_type": "text"
      },
      "source": [
        "## Tokenization"
      ]
    },
    {
      "cell_type": "markdown",
      "metadata": {
        "id": "Tc-_IBZKYWlm",
        "colab_type": "text"
      },
      "source": [
        "- https://mlexplained.com/2018/02/08/a-comprehensive-tutorial-to-torchtext/\n",
        "- https://spacy.io/usage/linguistic-features#tokenization\n",
        "- http://anie.me/On-Torchtext/"
      ]
    },
    {
      "cell_type": "markdown",
      "metadata": {
        "id": "XLk0zaNzy15F",
        "colab_type": "text"
      },
      "source": [
        "Text pre=processing in general:\n",
        "- https://www.kdnuggets.com/2019/04/text-preprocessing-nlp-machine-learning.html\n",
        "- https://medium.com/@makcedward/nlp-pipeline-word-tokenization-part-1-4b2b547e6a3"
      ]
    },
    {
      "cell_type": "code",
      "metadata": {
        "id": "9hKmLvj79ARJ",
        "colab_type": "code",
        "colab": {}
      },
      "source": [
        "### All tokenizations combined\n",
        "re_punc = re.compile(\"([\\'!\\\"#$%&()*+,-./:;<=>?@[\\]^_`{|}~\\\\\\])\") # add spaces around punctuation\n",
        "## () for capturing group, [] for one of the groups in the braces\n",
        "re_apos = re.compile(r\"n ' t \")    # n't\n",
        "re_bpos = re.compile(r\" ' s \")     # 's\n",
        "re_mult_space = re.compile(r\"  *\") # replace multiple spaces with just one\n",
        "replacements = {'\\t':' ','\\n':' ','\\r':' ','\\x0b':' ','\\x0c':' '}\n",
        "\n",
        "def simple_toks(sent):\n",
        "    sent = \"\".join([replacements.get(c,c) for c in sent])\n",
        "    sent = re_punc.sub(r\" \\1 \", sent) # \\1 is the group that we have captured\n",
        "    sent = re_apos.sub(r\" n't \", sent)\n",
        "    sent = re_bpos.sub(r\" 's \", sent)\n",
        "    sent = re_mult_space.sub(' ', sent)\n",
        "    ret = ['xbos']\n",
        "    for w in sent.split():\n",
        "        if w.isupper():\n",
        "            ret.append('xwup')\n",
        "        elif w[0].isupper():\n",
        "            ret.append('xup')\n",
        "        ret.append(w.lower())\n",
        "    return ret\n",
        "\n",
        "## en.tokenizer(text)\n",
        "## implement !!! as 3*!"
      ],
      "execution_count": 0,
      "outputs": []
    },
    {
      "cell_type": "code",
      "metadata": {
        "id": "NQbwtiRsA9OA",
        "colab_type": "code",
        "outputId": "affc37e9-bc04-452a-d8ef-789ecaceafd5",
        "colab": {
          "base_uri": "https://localhost:8080/",
          "height": 442
        }
      },
      "source": [
        "### TESTING\n",
        "str = 'aysha/is//a***good(person89<3) don\\'t enter here       PLEASE!!!'\n",
        "list(simple_toks(str))"
      ],
      "execution_count": 0,
      "outputs": [
        {
          "output_type": "execute_result",
          "data": {
            "text/plain": [
              "['xbos',\n",
              " 'aysha',\n",
              " '/',\n",
              " 'is',\n",
              " '/',\n",
              " '/',\n",
              " 'a',\n",
              " '*',\n",
              " '*',\n",
              " '*',\n",
              " 'good',\n",
              " '(',\n",
              " 'person89',\n",
              " '<',\n",
              " '3',\n",
              " ')',\n",
              " 'do',\n",
              " \"n't\",\n",
              " 'enter',\n",
              " 'here',\n",
              " 'xwup',\n",
              " 'please',\n",
              " '!',\n",
              " '!',\n",
              " '!']"
            ]
          },
          "metadata": {
            "tags": []
          },
          "execution_count": 30
        }
      ]
    },
    {
      "cell_type": "code",
      "metadata": {
        "id": "KnXCOs9PA_hZ",
        "colab_type": "code",
        "colab": {}
      },
      "source": [
        "TEXT = Field(sequential=True, tokenize=simple_toks,lower=True, unk_token='xunk' , pad_token='xunk')"
      ],
      "execution_count": 0,
      "outputs": []
    },
    {
      "cell_type": "code",
      "metadata": {
        "id": "WaaFjGq5Bdz7",
        "colab_type": "code",
        "colab": {}
      },
      "source": [
        "data_fields = [('Summary', TEXT), ('Text', TEXT)]"
      ],
      "execution_count": 0,
      "outputs": []
    },
    {
      "cell_type": "code",
      "metadata": {
        "id": "o2Q9A810Bdxu",
        "colab_type": "code",
        "outputId": "fdd48eb2-50d8-4e92-a5ae-024906ff39a8",
        "colab": {
          "base_uri": "https://localhost:8080/",
          "height": 34
        }
      },
      "source": [
        "train, valid = train_test_split(df, test_size=0.2); len(train), len(valid)"
      ],
      "execution_count": 0,
      "outputs": [
        {
          "output_type": "execute_result",
          "data": {
            "text/plain": [
              "(454741, 113686)"
            ]
          },
          "metadata": {
            "tags": []
          },
          "execution_count": 40
        }
      ]
    },
    {
      "cell_type": "code",
      "metadata": {
        "id": "8nJrlWCLBdvI",
        "colab_type": "code",
        "colab": {}
      },
      "source": [
        "train.to_csv(\"train.csv\", index=False)\n",
        "valid.to_csv(\"valid.csv\", index=False)"
      ],
      "execution_count": 0,
      "outputs": []
    },
    {
      "cell_type": "markdown",
      "metadata": {
        "id": "6yCpkYJRGUDB",
        "colab_type": "text"
      },
      "source": [
        "Takes some time"
      ]
    },
    {
      "cell_type": "code",
      "metadata": {
        "id": "oKMn1Za489MS",
        "colab_type": "code",
        "colab": {}
      },
      "source": [
        "train_ds,valid_ds = data.TabularDataset.splits(path='./', train='train.csv', validation='valid.csv', format='csv', fields=data_fields,  skip_header=True)"
      ],
      "execution_count": 0,
      "outputs": []
    },
    {
      "cell_type": "markdown",
      "metadata": {
        "id": "MDvHNfrZC6F0",
        "colab_type": "text"
      },
      "source": [
        "- **charngram.100d**\n",
        "- fasttext.en.300d\n",
        "- fasttext.simple.300d\n",
        "- glove.42B.300d \n",
        "- glove.840B.300d\n",
        "- glove.twitter.27B.25d\n",
        "- glove.twitter.27B.50d\n",
        "- glove.twitter.27B.100d\n",
        "- glove.twitter.27B.200d\n",
        "- glove.6B.50d\n",
        "- *glove.6B.100d*\n",
        "- glove.6B.200d \n",
        "- glove.6B.300d"
      ]
    },
    {
      "cell_type": "code",
      "metadata": {
        "id": "bHxvvysaGYt2",
        "colab_type": "code",
        "colab": {}
      },
      "source": [
        "train_ds[0].Text"
      ],
      "execution_count": 0,
      "outputs": []
    },
    {
      "cell_type": "code",
      "metadata": {
        "id": "WCOHbjQ489I4",
        "colab_type": "code",
        "colab": {}
      },
      "source": [
        "TEXT.build_vocab(train_ds, vectors=\"glove.6B.100d\", max_size=60000 , min_freq=5)"
      ],
      "execution_count": 0,
      "outputs": []
    },
    {
      "cell_type": "code",
      "metadata": {
        "id": "3yhesiCpZ06b",
        "colab_type": "code",
        "outputId": "671e4b63-34d1-4bdd-aea1-04746b545e8a",
        "colab": {
          "base_uri": "https://localhost:8080/",
          "height": 34
        }
      },
      "source": [
        "len(TEXT.vocab.itos) , len(TEXT.vocab.stoi)"
      ],
      "execution_count": 0,
      "outputs": [
        {
          "output_type": "execute_result",
          "data": {
            "text/plain": [
              "(40860, 40860)"
            ]
          },
          "metadata": {
            "tags": []
          },
          "execution_count": 91
        }
      ]
    },
    {
      "cell_type": "code",
      "metadata": {
        "id": "zl8hOO5yKDNU",
        "colab_type": "code",
        "outputId": "dd6bbd21-c510-4c85-cc9d-bed713b06f12",
        "colab": {
          "base_uri": "https://localhost:8080/",
          "height": 34
        }
      },
      "source": [
        "device = 'cuda' if torch.cuda.is_available() else 'cpu'\n",
        "device"
      ],
      "execution_count": 0,
      "outputs": [
        {
          "output_type": "execute_result",
          "data": {
            "text/plain": [
              "'cuda'"
            ]
          },
          "metadata": {
            "tags": []
          },
          "execution_count": 50
        }
      ]
    },
    {
      "cell_type": "code",
      "metadata": {
        "id": "qSOLv5uSM3ou",
        "colab_type": "code",
        "colab": {}
      },
      "source": [
        "??BucketIterator"
      ],
      "execution_count": 0,
      "outputs": []
    },
    {
      "cell_type": "code",
      "metadata": {
        "id": "KWmWv_mWFC73",
        "colab_type": "code",
        "colab": {}
      },
      "source": [
        "train_iter = BucketIterator(train_ds, batch_size=32, sort_key=lambda x: len(x.Text), shuffle=True, device=device, sort_within_batch=False)"
      ],
      "execution_count": 0,
      "outputs": []
    },
    {
      "cell_type": "code",
      "metadata": {
        "id": "RYu5T0eZNGtT",
        "colab_type": "code",
        "colab": {}
      },
      "source": [
        "valid_iter = BucketIterator(valid_ds, batch_size=32, sort_key=lambda x: len(x.Text), shuffle=False, device=device, sort_within_batch=False)"
      ],
      "execution_count": 0,
      "outputs": []
    },
    {
      "cell_type": "markdown",
      "metadata": {
        "id": "iDQDJDQpNPC_",
        "colab_type": "text"
      },
      "source": [
        "To perform both together, use BucketIterator.splits"
      ]
    },
    {
      "cell_type": "code",
      "metadata": {
        "id": "JgMDVq9tVjDc",
        "colab_type": "code",
        "outputId": "5d3554f7-ca91-40c1-ab02-2550594c6d6d",
        "colab": {
          "base_uri": "https://localhost:8080/",
          "height": 34
        }
      },
      "source": [
        "TEXT.vocab.itos[9]"
      ],
      "execution_count": 0,
      "outputs": [
        {
          "output_type": "execute_result",
          "data": {
            "text/plain": [
              "'xbos'"
            ]
          },
          "metadata": {
            "tags": []
          },
          "execution_count": 94
        }
      ]
    },
    {
      "cell_type": "code",
      "metadata": {
        "id": "wqoHchfMWiA2",
        "colab_type": "code",
        "outputId": "9b8738c6-9f91-4577-e749-516597e5d757",
        "colab": {
          "base_uri": "https://localhost:8080/",
          "height": 867
        }
      },
      "source": [
        "TEXT.vocab.itos[:50]"
      ],
      "execution_count": 0,
      "outputs": [
        {
          "output_type": "execute_result",
          "data": {
            "text/plain": [
              "['xunk',\n",
              " 'xup',\n",
              " '.',\n",
              " 'xwup',\n",
              " 'the',\n",
              " ',',\n",
              " 'i',\n",
              " 'and',\n",
              " 'a',\n",
              " 'xbos',\n",
              " 'it',\n",
              " 'to',\n",
              " 'of',\n",
              " '/',\n",
              " 'is',\n",
              " 'this',\n",
              " '>',\n",
              " '<',\n",
              " 'br',\n",
              " '!',\n",
              " 'for',\n",
              " 'in',\n",
              " 'my',\n",
              " '-',\n",
              " 'that',\n",
              " 'but',\n",
              " 'you',\n",
              " 'not',\n",
              " 'with',\n",
              " 'have',\n",
              " 'are',\n",
              " 'was',\n",
              " \"'\",\n",
              " 'they',\n",
              " \"'s\",\n",
              " \"n't\",\n",
              " 'as',\n",
              " 'on',\n",
              " 'like',\n",
              " '\"',\n",
              " 'so',\n",
              " 'good',\n",
              " 'these',\n",
              " 'great',\n",
              " ')',\n",
              " 'them',\n",
              " '(',\n",
              " 'be',\n",
              " 'coffee',\n",
              " 'taste']"
            ]
          },
          "metadata": {
            "tags": []
          },
          "execution_count": 95
        }
      ]
    },
    {
      "cell_type": "code",
      "metadata": {
        "id": "hsk2-qCPWOjU",
        "colab_type": "code",
        "colab": {}
      },
      "source": [
        "lst = next(iter(train_iter)).Text[:,0]"
      ],
      "execution_count": 0,
      "outputs": []
    },
    {
      "cell_type": "code",
      "metadata": {
        "id": "VUkvFY76NYk1",
        "colab_type": "code",
        "outputId": "25ca0ba1-9c7f-4dd7-8f08-10b74a8ea7b2",
        "colab": {
          "base_uri": "https://localhost:8080/",
          "height": 663
        }
      },
      "source": [
        "lst"
      ],
      "execution_count": 0,
      "outputs": [
        {
          "output_type": "execute_result",
          "data": {
            "text/plain": [
              "tensor([   9,    1, 3418,  144,   43,    7,   14,   41,   20,   26,    2,    1,\n",
              "         510,   11,  265,    1,   78,  603,  339,   10,   37,  665,    7,  426,\n",
              "        1527,    2,    1,   22,  151,   14,    1,  324,    5,   25,   22, 6674,\n",
              "         514,  167,    4,  272,    1, 1672,    1, 1415,   59,   46,  103,    3,\n",
              "           6,  690,    1,   78,   72,  216,   11,  128,   50,  648,   44,    2,\n",
              "           1,  548,   50,   19,    0,    0,    0,    0,    0,    0,    0,    0,\n",
              "           0,    0,    0,    0,    0,    0,    0,    0,    0,    0,    0,    0,\n",
              "           0,    0,    0,    0,    0,    0,    0,    0,    0,    0,    0,    0,\n",
              "           0,    0,    0,    0,    0,    0,    0,    0,    0,    0,    0,    0,\n",
              "           0,    0,    0,    0,    0,    0,    0,    0,    0,    0,    0,    0,\n",
              "           0,    0,    0,    0,    0,    0,    0,    0,    0,    0,    0,    0,\n",
              "           0,    0,    0,    0,    0,    0,    0,    0,    0,    0,    0,    0,\n",
              "           0,    0,    0,    0,    0,    0,    0,    0,    0,    0,    0,    0,\n",
              "           0,    0,    0,    0,    0,    0,    0,    0,    0,    0,    0,    0,\n",
              "           0,    0,    0,    0,    0,    0,    0,    0,    0,    0,    0,    0,\n",
              "           0,    0,    0,    0,    0,    0,    0,    0,    0,    0,    0,    0,\n",
              "           0,    0,    0,    0,    0,    0,    0,    0,    0,    0,    0,    0,\n",
              "           0,    0,    0,    0,    0,    0,    0,    0,    0,    0,    0,    0,\n",
              "           0,    0,    0,    0,    0,    0,    0,    0,    0,    0,    0,    0,\n",
              "           0,    0,    0,    0,    0,    0,    0,    0,    0,    0,    0,    0,\n",
              "           0,    0,    0,    0,    0,    0,    0,    0,    0,    0,    0,    0,\n",
              "           0,    0,    0,    0,    0,    0,    0,    0,    0,    0,    0,    0,\n",
              "           0,    0,    0,    0,    0,    0,    0,    0,    0,    0,    0,    0,\n",
              "           0,    0,    0,    0,    0,    0,    0,    0,    0,    0,    0,    0,\n",
              "           0,    0,    0,    0,    0,    0,    0,    0,    0,    0,    0,    0,\n",
              "           0,    0,    0,    0,    0,    0,    0,    0,    0,    0,    0,    0,\n",
              "           0,    0,    0,    0,    0,    0,    0,    0,    0,    0,    0,    0,\n",
              "           0,    0,    0,    0,    0,    0,    0,    0,    0,    0,    0,    0,\n",
              "           0,    0,    0,    0,    0,    0,    0,    0,    0,    0,    0,    0,\n",
              "           0,    0,    0,    0,    0,    0,    0,    0,    0,    0,    0,    0,\n",
              "           0,    0,    0,    0,    0,    0,    0,    0,    0,    0,    0,    0,\n",
              "           0,    0,    0,    0,    0,    0,    0,    0,    0,    0,    0,    0,\n",
              "           0,    0,    0,    0,    0,    0,    0,    0,    0,    0,    0,    0,\n",
              "           0,    0,    0,    0,    0,    0,    0,    0,    0,    0,    0,    0,\n",
              "           0,    0,    0,    0,    0,    0,    0,    0,    0,    0,    0,    0,\n",
              "           0,    0,    0,    0,    0,    0,    0,    0,    0,    0,    0,    0,\n",
              "           0,    0,    0,    0,    0,    0,    0,    0,    0,    0,    0,    0,\n",
              "           0,    0,    0,    0,    0,    0], device='cuda:0')"
            ]
          },
          "metadata": {
            "tags": []
          },
          "execution_count": 97
        }
      ]
    },
    {
      "cell_type": "code",
      "metadata": {
        "id": "WjxtsJKxV-_I",
        "colab_type": "code",
        "outputId": "f0222400-4279-4820-f8fd-4b6e1e493a5c",
        "colab": {
          "base_uri": "https://localhost:8080/",
          "height": 54
        }
      },
      "source": [
        "' '.join([TEXT.vocab.itos[i] for i in lst])"
      ],
      "execution_count": 0,
      "outputs": [
        {
          "output_type": "execute_result",
          "data": {
            "text/plain": [
              "'xbos xup orgain tastes great and is good for you . xup glad to see xup amazon finally having it on subscribe and save program . xup my favorite is xup vanilla , but my teenager son loves the new xup cafe xup mocha flavor ( which xwup i hope xup amazon will add to their product list ) . xup fantastic product ! xunk xunk xunk xunk xunk xunk xunk xunk xunk xunk xunk xunk xunk xunk xunk xunk xunk xunk xunk xunk xunk xunk xunk xunk xunk xunk xunk xunk xunk xunk xunk xunk xunk xunk xunk xunk xunk xunk xunk xunk xunk xunk xunk xunk xunk xunk xunk xunk xunk xunk xunk xunk xunk xunk xunk xunk xunk xunk xunk xunk xunk xunk xunk xunk xunk xunk xunk xunk xunk xunk xunk xunk xunk xunk xunk xunk xunk xunk xunk xunk xunk xunk xunk xunk xunk xunk xunk xunk xunk xunk xunk xunk xunk xunk xunk xunk xunk xunk xunk xunk xunk xunk xunk xunk xunk xunk xunk xunk xunk xunk xunk xunk xunk xunk xunk xunk xunk xunk xunk xunk xunk xunk xunk xunk xunk xunk xunk xunk xunk xunk xunk xunk xunk xunk xunk xunk xunk xunk xunk xunk xunk xunk xunk xunk xunk xunk xunk xunk xunk xunk xunk xunk xunk xunk xunk xunk xunk xunk xunk xunk xunk xunk xunk xunk xunk xunk xunk xunk xunk xunk xunk xunk xunk xunk xunk xunk xunk xunk xunk xunk xunk xunk xunk xunk xunk xunk xunk xunk xunk xunk xunk xunk xunk xunk xunk xunk xunk xunk xunk xunk xunk xunk xunk xunk xunk xunk xunk xunk xunk xunk xunk xunk xunk xunk xunk xunk xunk xunk xunk xunk xunk xunk xunk xunk xunk xunk xunk xunk xunk xunk xunk xunk xunk xunk xunk xunk xunk xunk xunk xunk xunk xunk xunk xunk xunk xunk xunk xunk xunk xunk xunk xunk xunk xunk xunk xunk xunk xunk xunk xunk xunk xunk xunk xunk xunk xunk xunk xunk xunk xunk xunk xunk xunk xunk xunk xunk xunk xunk xunk xunk xunk xunk xunk xunk xunk xunk xunk xunk xunk xunk xunk xunk xunk xunk xunk xunk xunk xunk xunk xunk xunk xunk xunk xunk xunk xunk xunk xunk xunk xunk xunk xunk xunk xunk xunk xunk xunk xunk xunk xunk xunk xunk xunk xunk xunk xunk xunk xunk xunk xunk xunk xunk xunk xunk xunk xunk xunk xunk xunk xunk xunk xunk xunk xunk xunk xunk xunk xunk xunk xunk xunk xunk xunk xunk xunk xunk xunk xunk xunk xunk xunk xunk xunk xunk xunk xunk xunk xunk xunk xunk xunk xunk xunk xunk xunk xunk xunk xunk xunk xunk xunk xunk xunk xunk xunk xunk'"
            ]
          },
          "metadata": {
            "tags": []
          },
          "execution_count": 98
        }
      ]
    },
    {
      "cell_type": "code",
      "metadata": {
        "id": "WTUXi9GqHkz1",
        "colab_type": "code",
        "colab": {}
      },
      "source": [
        "# embedding = nn.Embedding(n_embed, embed_dim).from_pretrained(TEXT.vocab.vectors)\n",
        "#OR\n",
        "#self.encoder_embedding_layer.weight.data.copy_(self.pre_trained_vector.weight.data)"
      ],
      "execution_count": 0,
      "outputs": []
    },
    {
      "cell_type": "markdown",
      "metadata": {
        "id": "3Li5MfmRGN34",
        "colab_type": "text"
      },
      "source": [
        "https://www.kaggle.com/naraque/abstractive-text-summarization -- upto encoder"
      ]
    },
    {
      "cell_type": "code",
      "metadata": {
        "id": "8BUIBo35RK4q",
        "colab_type": "code",
        "colab": {}
      },
      "source": [
        ""
      ],
      "execution_count": 0,
      "outputs": []
    }
  ]
}